{
 "cells": [
  {
   "cell_type": "markdown",
   "metadata": {},
   "source": [
    "# Optimal restarts\n",
    "\n",
    "A [Las Vegas algorithm](https://en.wikipedia.org/wiki/Las_Vegas_algorithm) is an algorithm with an *uncertain* runtime, but *certain* correctness.  In other words,  if such an algorithm halts, its output will be correct, but the time until it halts is a random variable.  Thus, the algorithm has a runtime *distribution*.  Today, I will talk about a general *acceleration* strategies for such algorithms based on random restarts."
   ]
  },
  {
   "cell_type": "markdown",
   "metadata": {},
   "source": [
    "**Familiar example:** Quicksort."
   ]
  },
  {
   "cell_type": "markdown",
   "metadata": {},
   "source": [
    "**Synthetic example:** ???"
   ]
  },
  {
   "cell_type": "markdown",
   "metadata": {},
   "source": [
    "**The random restart wrapper:**\n",
    "\n",
    "The generic strategy for accelerating Las Vegas algorithms will determine an optimal runtime time limit (threshold) as a function of the algorithm's runtime distribution, which&mdash;at least for the time being&mdash;we shall assume is known to the algorithm."
   ]
  },
  {
   "cell_type": "code",
   "execution_count": 19,
   "metadata": {},
   "outputs": [],
   "source": [
    "from arsenal import timelimit, Timeout, restore_random_state\n",
    "def restart_acceleration(alg, policy):\n",
    "    for seed in random_seeds():      # loop over an unbounded sequence of random seeds\n",
    "        t = policy()\n",
    "        try:\n",
    "            # Run `alg` for `y` seconds under a given random `seed`.\n",
    "            with timelimit(t), restore_random_state(seed):\n",
    "                return alg()            # if the algorithm halted, output result\n",
    "        except Timeout:\n",
    "            pass"
   ]
  },
  {
   "cell_type": "markdown",
   "metadata": {},
   "source": [
    "About the code:\n",
    "- Explicit control over random seeds is not required, but is nice to have when it is available.  Since we are working with algorithm, we will generally have control over the random seed."
   ]
  },
  {
   "cell_type": "markdown",
   "metadata": {},
   "source": [
    "if the algorithm halted within the chosen time limit, the wrapper also halts with the algorithm's result.\n",
    "otherwise, the wrapper runs the algorithms again, hoping to get luckier."
   ]
  },
  {
   "cell_type": "markdown",
   "metadata": {},
   "source": [
    "The original work is \n",
    "Luby, Sinclair, and Zuckerman (1993)\n",
    "[Optimal Speedup of Las Vegas Algorithms](http://http.icsi.berkeley.edu/ftp/global/pub/techreports/1993/tr-93-010.pdf)\n",
    "\n",
    "TODO: Give refs to the better papers.\n",
    "\n",
    "Some surprising results:\n",
    "\n",
    "- When the runtime distribution is known, the optimal policy for runtime budgets is a fixed constant threshold! This is somewhat surprising - I will give a simple arugment for why it is true.  \n",
    "\n",
    "- When the runtime distribution is not known there exists a universal strategy, which retries under an universal sequence of runtime thresholds.\n",
    "\n",
    "**TODO**: add restart overhead to all methods/analyses."
   ]
  },
  {
   "cell_type": "code",
   "execution_count": 20,
   "metadata": {},
   "outputs": [
    {
     "name": "stdout",
     "output_type": "stream",
     "text": [
      "5.0 inf\n"
     ]
    }
   ],
   "source": [
    "import numpy as np, pylab as pl, scipy.stats as st\n",
    "from arsenal.maths import mean_confidence_interval\n",
    "from scipy.integrate import quad\n",
    "from arsenal import iterview\n",
    "\n",
    "# define a runtime distribution\n",
    "#d = st.lognorm(1.5)\n",
    "d = st.pareto(1.25)   # variance is infinite for <2\n",
    "tmin = 1.1\n",
    "tmax = d.mean()*2\n",
    "\n",
    "m = d.mean()\n",
    "s = d.std()\n",
    "print(m, s)"
   ]
  },
  {
   "cell_type": "code",
   "execution_count": 21,
   "metadata": {},
   "outputs": [],
   "source": [
    "# TODO: the truncated means (a,b) and (a,b+Δ) duplicate a lot work\n",
    "@np.vectorize\n",
    "def truncated_mean(a, b):\n",
    "    \"E[T | a <= T <= b]\"\n",
    "    p = d.cdf(b) - d.cdf(a)\n",
    "    if p == 0: return np.inf\n",
    "    [est, _] = quad(lambda x: x * d.pdf(x), a, b) \n",
    "    return est / p"
   ]
  },
  {
   "cell_type": "markdown",
   "metadata": {},
   "source": [
    "Heavy-tailed distribution\n",
    "- [Pareto](https://en.wikipedia.org/wiki/Pareto_distribution)  \n",
    "- [Log-normal](https://en.wikipedia.org/wiki/Log-normal_distribution)\n",
    "\n",
    "Some others Weibull, Zipf, Cauchy, Student's t, Frechet"
   ]
  },
  {
   "cell_type": "code",
   "execution_count": 22,
   "metadata": {},
   "outputs": [],
   "source": [
    "def T(R):\n",
    "    \"Expected runtime with restart threshold `R`\"\n",
    "    p = d.cdf(R)\n",
    "    return R * (1-p)/p + truncated_mean(0, R)"
   ]
  },
  {
   "cell_type": "code",
   "execution_count": 23,
   "metadata": {},
   "outputs": [],
   "source": [
    "ts = np.linspace(tmin, tmax, 100)\n",
    "Ts = T(ts)"
   ]
  },
  {
   "cell_type": "code",
   "execution_count": 24,
   "metadata": {},
   "outputs": [
    {
     "data": {
      "image/png": "[encoded data removed]",
      "text/plain": [
       "<Figure size 432x288 with 1 Axes>"
      ]
     },
     "metadata": {
      "needs_background": "light"
     },
     "output_type": "display_data"
    }
   ],
   "source": [
    "pl.plot(ts, Ts, label=r'T(R)')\n",
    "pl.scatter(ts[Ts.argmin()], [Ts.min()], marker='o', c='r', s=75)\n",
    "pl.xlim(ts.min(), ts.max()) ; pl.ylim(0, m*2)\n",
    "\n",
    "rstar = ts[Ts.argmin()]\n",
    "Tstar = d.sf(rstar) / d.pdf(rstar)   # analytical-ish\n",
    "\n",
    "pl.title(r'speedup: $\\frac{E[T]}{E[T*]}$ = %gx faster' % (m/Tstar))\n",
    "pl.axhline(Tstar, c='k', lw=0.5, linestyle='--', label=r'$T(R^*)$');\n",
    "pl.axhline(d.mean(), c='r', label=r'$\\mu = T(\\infty)$')\n",
    "\n",
    "pl.xlim(0, ts.max()); pl.legend(loc='best'); pl.xlabel('R'); #pl.xscale('log'); pl.yscale('log');"
   ]
  },
  {
   "cell_type": "markdown",
   "metadata": {},
   "source": [
    "## Universal strategy\n",
    "\n",
    "The expected runtime of the universal strategy is $\\mathcal{O}(T(\\tau^*) \\log T(\\tau^*))$\n",
    "\n",
    "TODO compare this sequence to the simple doubling sequence."
   ]
  },
  {
   "cell_type": "code",
   "execution_count": 25,
   "metadata": {},
   "outputs": [],
   "source": [
    "from arsenal.iterextras import take\n",
    "def universal(scale, base=2.0):\n",
    "    \"Generate the universal threshold sequence\"\n",
    "    assert base > 1\n",
    "    i = 0\n",
    "    while True:\n",
    "        i += 1\n",
    "        for j in range(i):\n",
    "            yield scale * base**j\n",
    "\n",
    "assert list(take(15, universal(1, 2))) == [\n",
    "    1, \n",
    "    1, 2, \n",
    "    1, 2, 4, \n",
    "    1, 2, 4, 8, \n",
    "    1, 2, 4, 8, 16\n",
    "]"
   ]
  },
  {
   "cell_type": "code",
   "execution_count": 26,
   "metadata": {},
   "outputs": [
    {
     "name": "stdout",
     "output_type": "stream",
     "text": [
      "universal: 5.0 7.340947603538684\n",
      "baseline:  5.0 inf\n"
     ]
    }
   ],
   "source": [
    "def _simulate(policy, seed):\n",
    "    with restore_random_state(seed):\n",
    "        total = 0.0\n",
    "        while True:\n",
    "            r = d.rvs()\n",
    "            R = policy()\n",
    "            total += min(r, R)\n",
    "            if r <= R:\n",
    "                return total\n",
    "\n",
    "p = universal(0.01, 2)\n",
    "print('universal:',\n",
    "    d.mean(),\n",
    "    _simulate(p.__next__, seed=0)\n",
    ")\n",
    "print('baseline: ', d.mean(), d.std())"
   ]
  },
  {
   "cell_type": "markdown",
   "metadata": {},
   "source": [
    "## Derivation\n",
    "\n",
    "The following recursive definition of the expected value under the policy $\\tau$ is essentially a two-state MDP (a terminal and non-terminal state) with actions corresponding to the threshold values. The analysis will be agnostic to whether $\\tau$ is discrete or continuous.\n",
    "\n",
    "$$\n",
    "v = \\mathbb{E}_p[ \\min(t, \\tau) ]    +   (1 - p( t \\le \\tau)) \\cdot (overhead + \\tau + v)\n",
    "%           immediate cost        prob retry      retry      retry\n",
    "%            of the run                         overhead\n",
    "$$\n",
    "\n",
    "where overhead $\\ge 0$ is a known, constant restart-overhead penalty."
   ]
  },
  {
   "cell_type": "markdown",
   "metadata": {},
   "source": [
    "Solving the recurrence for v, we obtain\n",
    "\n",
    "$$\n",
    "\\begin{align}\n",
    "  v &= \\mathbb{E}_p[t |t \\le \\tau] + \\frac{1-p(t \\le \\tau)}{p(t \\le \\tau)} \\cdot (overhead + \\tau).\n",
    "\\end{align}\n",
    "$$\n",
    "\n",
    "Although, the analysis below does not directly show this.  We know that all MDPs have and optimal policy that is pure and stationary (i.e., deterministic and fixed over time)."
   ]
  },
  {
   "cell_type": "markdown",
   "metadata": {},
   "source": [
    "Remarks: The expected value isn't the only reason choice of what to optimize.  It is possible minimize higher-order moments (e.g., variance) as well as the expected value.  It is also possible to minimize quantiles."
   ]
  },
  {
   "cell_type": "markdown",
   "metadata": {},
   "source": [
    "### Optimizing $\\tau$\n",
    "\n",
    "In the discrete case, the optimal $\\tau$ can be computed by enumeration. \n",
    "**TODO** It is not that simple because $\\tau$ may have infinite support. Are there bounds / ordering that can be exploited to get a finite-time algorithm?\n",
    "\n",
    "In the continuous case, the optimal $\\tau$ can be computed in \"the usual way\" (i.e., by solving for $\\tau$ such that $\\frac{\\partial v}{\\partial \\tau}$ is equal to zero; and check the sign of the second derivative).  The derivative is\n",
    "\n",
    "$$\n",
    "\\frac{\\partial v}{\\partial \\tau}\n",
    "= \\frac{1-p(t \\le \\tau)}{p(t \\le \\tau)} - \\frac{p(\\tau)}{p(t \\le \\tau)} \\cdot v\n",
    "$$"
   ]
  },
  {
   "cell_type": "markdown",
   "metadata": {},
   "source": [
    "Solve for $\\tau$ such that the derivative is zero.\n",
    "$$\n",
    "\\begin{align}\n",
    "\\frac{\\partial v}{\\partial \\tau} &= 0 \\\\\n",
    "\\frac{1-p(t \\le \\tau)}{p(t \\le \\tau)} &= \\frac{p(\\tau)}{p(t \\le \\tau)} \\cdot v \\\\\n",
    "\\frac{1-p(t \\le \\tau)}{p(\\tau)} &= v \\\\\n",
    "\\end{align}\n",
    "$$"
   ]
  },
  {
   "cell_type": "markdown",
   "metadata": {},
   "source": [
    "Remarks\n",
    "\n",
    "- The optimally capped expectation (as well as higher-order moments) are always finite - even when the underlying RTD puts positive probability on nontermination.\n",
    "\n",
    "- Optimally tuned thresholds do not always decrease the expected runtime (or higher-order moments).  They are most useful in cases where the runtime distribution has a positive probability of nontermination or, more generally, the runtime distribution is heavy tailed."
   ]
  },
  {
   "cell_type": "markdown",
   "metadata": {},
   "source": [
    "## Unit tests"
   ]
  },
  {
   "cell_type": "markdown",
   "metadata": {},
   "source": [
    "### Testing truncated mean"
   ]
  },
  {
   "cell_type": "code",
   "execution_count": 27,
   "metadata": {},
   "outputs": [
    {
     "data": {
      "image/png": "[encoded data removed]",
      "text/plain": [
       "<Figure size 432x288 with 1 Axes>"
      ]
     },
     "metadata": {
      "needs_background": "light"
     },
     "output_type": "display_data"
    }
   ],
   "source": [
    "# test that the right-truncated mean estimate matches rejection sampling\n",
    "N = 10000\n",
    "S = d.rvs(N)\n",
    "\n",
    "# a more efficient estimator would generate truncated samples so all samples are 'accepted' \n",
    "def simulate(t):\n",
    "    return mean_confidence_interval(S[S <= t])\n",
    "\n",
    "mi,lb,ub = zip(*[simulate(t) for t in ts])\n",
    "pl.fill_between(ts, lb, ub, color='r', alpha=0.25)\n",
    "pl.plot(ts, mi, c='b', alpha=0.5, lw=2)\n",
    "pl.plot(ts, truncated_mean(0, ts), c='r', lw=2, alpha=0.5);"
   ]
  },
  {
   "cell_type": "markdown",
   "metadata": {},
   "source": [
    "### Optimality conditions\n",
    "\n",
    "Here we check whether the optimality conditions that we derived are correct.\n",
    "\n",
    "It is currently just an eye ball test that the optimal speedup is at the point \n",
    "where the capped_runtime(t) curve (blue) and 1/hazard_rate(t) curve (orange) intersect\n"
   ]
  },
  {
   "cell_type": "code",
   "execution_count": 28,
   "metadata": {},
   "outputs": [
    {
     "data": {
      "image/png": "[encoded data removed]",
      "text/plain": [
       "<Figure size 432x288 with 1 Axes>"
      ]
     },
     "metadata": {
      "needs_background": "light"
     },
     "output_type": "display_data"
    }
   ],
   "source": [
    "H = lambda t: d.pdf(t)/d.sf(t)   # hazard-rate function\n",
    "\n",
    "pl.plot(ts, Ts, label=r'T(R)')\n",
    "pl.plot(ts, 1/H(ts), label=r'$1/h(R)$')     # inverse of the hazard-rate function\n",
    "pl.scatter(ts[Ts.argmin()], [Ts.min()], marker='o', c='r', s=75)\n",
    "pl.xlim(ts.min(), ts.max()) #; pl.ylim(0, m*2)\n",
    "\n",
    "rstar = ts[Ts.argmin()]\n",
    "Tstar = d.sf(rstar) / d.pdf(rstar)   # analytical-ish\n",
    "\n",
    "pl.title(r'speedup: $\\frac{E[T]}{E[T*]}$ = %gx faster' % (m/Tstar))\n",
    "pl.axhline(Tstar, c='k', lw=0.5, linestyle='--', label=r'$T(R^*)$');\n",
    "pl.axhline(d.mean(), c='r', label=r'$\\mu = T(\\infty)$')\n",
    "pl.legend(loc='best'); pl.xlabel('R'); #pl.xscale('log'); pl.yscale('log')"
   ]
  },
  {
   "cell_type": "markdown",
   "metadata": {},
   "source": [
    "### Alternative expressions for expected capped runtime $T$\n",
    "\n",
    "$$\n",
    "T(\\tau) = \\mathbb{E}_p[t |t \\le \\tau] + \\frac{1-p(t \\le \\tau)}{p(t \\le \\tau)} \\cdot (overhead + \\tau).\n",
    "$$\n",
    "\n",
    "Equation (2.12) for [Gaglilio's thesis](file:///home/timv/Desktop/read/algorithm-configuration/Gagliolo/Gagliolo-thesis.pdf) provides alternative expression for the expected capped runtime.\n",
    "\n",
    "$$\n",
    "T(\\tau) \n",
    "= \\frac{\\tau - \\int_{0}^\\tau F(t) \\mathrm{d} t}{ F(\\tau) }\n",
    "= \\frac{\\int_{0}^\\tau S(t) \\mathrm{d} t}{ 1 - S(\\tau) }\n",
    "$$\n",
    "\n",
    "\n",
    "where $F$ is the CDF of the runtime distribution, and $S$ is the survival function $S(t) \\overset{\\text{def}}{=} (1-F(t))$."
   ]
  },
  {
   "cell_type": "code",
   "execution_count": 41,
   "metadata": {},
   "outputs": [
    {
     "data": {
      "image/png": "[encoded data removed]",
      "text/plain": [
       "<Figure size 432x288 with 1 Axes>"
      ]
     },
     "metadata": {
      "needs_background": "light"
     },
     "output_type": "display_data"
    }
   ],
   "source": [
    "@np.vectorize\n",
    "def L(b):\n",
    "    \"Equivalent expression for expected runtime given the threshold `b`.\"\n",
    "    return (b - quad(lambda x: d.cdf(x), 0, b)[0]) / d.cdf(b)\n",
    "\n",
    "@np.vectorize\n",
    "def L2(b):\n",
    "    \"Equivalent expression for expected runtime given the threshold `b`.\"\n",
    "    return quad(lambda x: d.sf(x), 0, b)[0] / (1 - d.sf(b))\n",
    "\n",
    "L2s = L2(ts)\n",
    "Ls = L(ts)\n",
    "\n",
    "pl.plot(ts, L2s, label=r'$L_2(R)$', c='r', alpha=0.5)\n",
    "#pl.plot(ts, Ls, label=r'$L(R)$', c='r', alpha=0.5)\n",
    "pl.plot(ts, Ts, label=r'$T(R)$', c='b', alpha=0.5)\n",
    "\n",
    "rerr = np.abs(Ts - L2s) / np.abs(Ts)\n",
    "assert rerr.max() <= 1e-3, rerr\n",
    "\n",
    "rerr = np.abs(Ts - Ls) / np.abs(Ts)\n",
    "assert rerr.max() <= 1e-3, rerr"
   ]
  },
  {
   "cell_type": "markdown",
   "metadata": {},
   "source": [
    "### Test expected capped runtime"
   ]
  },
  {
   "cell_type": "code",
   "execution_count": 42,
   "metadata": {},
   "outputs": [
    {
     "name": "stderr",
     "output_type": "stream",
     "text": [
      "100.0% (100/100) [====================================================] 00:00:09\n"
     ]
    },
    {
     "data": {
      "image/png": "[encoded data removed]",
      "text/plain": [
       "<Figure size 432x288 with 1 Axes>"
      ]
     },
     "metadata": {
      "needs_background": "light"
     },
     "output_type": "display_data"
    }
   ],
   "source": [
    "def simulate(R, seeds):\n",
    "    \n",
    "    def _simulate(R, seed):\n",
    "        \"simulate capped-restart distribution\"\n",
    "        with restore_random_state(seed):\n",
    "            total = 0.0\n",
    "            while True:\n",
    "                r = d.rvs()\n",
    "                total += min(r, R)            \n",
    "                if r <= R:\n",
    "                    return total\n",
    "    \n",
    "    return [_simulate(R, seed) for seed in seeds]\n",
    "\n",
    "M = 1000\n",
    "seeds = np.random.randint(0, 2**32, size=M).astype(int)\n",
    "\n",
    "mi,lb,ub = zip(*[mean_confidence_interval(simulate(t, seeds)) for t in iterview(ts)])\n",
    "pl.fill_between(ts, lb, ub, color='r', alpha=0.25)\n",
    "pl.plot(ts, mi, c='r', alpha=0.5, lw=2)\n",
    "pl.plot(ts, Ts, c='b', alpha=0.5, lw=2); pl.ylim(0, m*2)\n",
    "pl.xlim(ts.min(), ts.max());"
   ]
  },
  {
   "cell_type": "markdown",
   "metadata": {},
   "source": [
    "### Runtime distribution conditioned on capping"
   ]
  },
  {
   "cell_type": "code",
   "execution_count": 43,
   "metadata": {},
   "outputs": [],
   "source": [
    "def capped_cdf(τ):\n",
    "    \"Analytical CDF conditioned on a capping threshold τ.\"\n",
    "    p = d.cdf(τ)\n",
    "    def F(t):\n",
    "        if t <= τ: return d.cdf(t)\n",
    "        return p + (1-p) * F(t - τ)\n",
    "    return F"
   ]
  },
  {
   "cell_type": "markdown",
   "metadata": {},
   "source": [
    "Let's validate our analytical cdf against the empirical CDF."
   ]
  },
  {
   "cell_type": "code",
   "execution_count": 14,
   "metadata": {},
   "outputs": [],
   "source": [
    "from arsenal.maths import cdf\n",
    "\n",
    "M = 160000\n",
    "seeds = np.random.randint(0, 2**32, size=M).astype(int)\n",
    "e = cdf(simulate(rstar, seeds))   # empirical CDF of the optimal threshold."
   ]
  },
  {
   "cell_type": "code",
   "execution_count": 15,
   "metadata": {},
   "outputs": [
    {
     "data": {
      "image/png": "[encoded data removed]",
      "text/plain": [
       "<Figure size 432x288 with 1 Axes>"
      ]
     },
     "metadata": {
      "needs_background": "light"
     },
     "output_type": "display_data"
    }
   ],
   "source": [
    "C = capped_cdf(rstar)\n",
    "\n",
    "ts = np.linspace(tmin, 4*m, 1000)   # estimate gets unreliable out in the tail\n",
    "Cs = [1-C(t) for t in ts]\n",
    "\n",
    "pl.plot(ts, Cs, label=r'$F_\\tau(t)$', c='b', alpha=0.5)\n",
    "pl.plot(ts, 1-e(ts), label=r'$\\widehat{F}_\\tau(t)$', c='r', alpha=0.5)\n",
    "pl.legend(loc='best'); pl.yscale('log'); pl.xscale('log');"
   ]
  },
  {
   "cell_type": "markdown",
   "metadata": {},
   "source": [
    "### Capping eliminates heavy tails"
   ]
  },
  {
   "cell_type": "markdown",
   "metadata": {},
   "source": [
    "log-log survival plot:  This plot show us if we have heavy tails: a heavy-tailed distribution will have a linear slope and a light-tailed distributions will go to zero more quickly than linear."
   ]
  },
  {
   "cell_type": "code",
   "execution_count": 16,
   "metadata": {},
   "outputs": [
    {
     "data": {
      "image/png": "[encoded data removed]",
      "text/plain": [
       "<Figure size 432x288 with 1 Axes>"
      ]
     },
     "metadata": {
      "needs_background": "light"
     },
     "output_type": "display_data"
    }
   ],
   "source": [
    "ts = np.linspace(0, 10*m, 50)   # estimate gets unreliable out in the tail\n",
    "\n",
    "pl.loglog(ts, 1-d.cdf(ts), label='F(t)')\n",
    "pl.loglog(ts, [1-C(t) for t in ts], label=r'$F_\\tau(t)$')\n",
    "\n",
    "for i in range(int(ts.max() / rstar)+1):\n",
    "    pl.axvline(i * rstar, alpha=0.25, c='k', linestyle='--')\n",
    "\n",
    "pl.xlabel('t'); pl.ylabel('Survival'); pl.legend(loc='best');"
   ]
  },
  {
   "cell_type": "code",
   "execution_count": null,
   "metadata": {},
   "outputs": [],
   "source": []
  }
 ],
 "metadata": {
  "kernelspec": {
   "display_name": "Python 3",
   "language": "python",
   "name": "python3"
  },
  "language_info": {
   "codemirror_mode": {
    "name": "ipython",
    "version": 3
   },
   "file_extension": ".py",
   "mimetype": "text/x-python",
   "name": "python",
   "nbconvert_exporter": "python",
   "pygments_lexer": "ipython3",
   "version": "3.7.3"
  }
 },
 "nbformat": 4,
 "nbformat_minor": 2
}
