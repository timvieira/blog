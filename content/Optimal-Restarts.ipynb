{
 "cells": [
  {
   "cell_type": "markdown",
   "metadata": {},
   "source": [
    "# Optimal restarts\n",
    "\n",
    "A [Las Vegas algorithm](https://en.wikipedia.org/wiki/Las_Vegas_algorithm) is an algorithm with an *uncertain* runtime, but *certain* correctness.  In other words,  if such an algorithm halts, its output will be correct, but the time until it halts is a random variable.  Thus, the algorithm has a runtime distribution, which may or may not have a finite expectation.  Today, I will talk about a general *acceleration* strategies for such algorithms based on random restarts."
   ]
  },
  {
   "cell_type": "markdown",
   "metadata": {},
   "source": [
    "**Familiar example:** Quicksort."
   ]
  },
  {
   "cell_type": "markdown",
   "metadata": {},
   "source": [
    "**Synthetic example:** ???"
   ]
  },
  {
   "cell_type": "markdown",
   "metadata": {},
   "source": [
    "**The random restart wrapper:**\n",
    "\n",
    "The generic strategy for accelerating the algorithms will determine an optimal runtime time as a function of the algorithms runtime distribution, which for---the time being---we shall assume is known to the algorithm."
   ]
  },
  {
   "cell_type": "code",
   "execution_count": 1,
   "metadata": {},
   "outputs": [],
   "source": [
    "from arsenal import timelimit, Timeout, restore_random_state\n",
    "def restart_acceleration(alg, policy):\n",
    "    for seed in random_seeds():      # loop over an unbounded sequence of random seeds\n",
    "        t = policy()\n",
    "        try:\n",
    "            # Run `alg` for `cap` seconds under a given random `seed`.  \n",
    "            # If the run fails to halt in time, return `None`.\n",
    "            with timelimit(t), restore_random_state(seed):\n",
    "                return alg()            # if the algorithm halted, output result\n",
    "        except Timeout:\n",
    "            pass"
   ]
  },
  {
   "cell_type": "markdown",
   "metadata": {},
   "source": [
    "The explicit control over random seeds is not required, but is nice to have when it is available.  Since we are working with algorithm, we will generally have control over the random seed."
   ]
  },
  {
   "cell_type": "markdown",
   "metadata": {},
   "source": [
    "if the algorithm halted within the chosen time limit, the wrapper also halts with the algorithm's result.\n",
    "otherwise, the wrapper runs the algorithms again, hoping to get luckier.\n",
    "\n",
    "When the runtime distribution is known, the optimal policy for runtime budgets is a fixed constant threshold! This is somewhat surprising - I will give a simple arugment for why it is true.  \n",
    "\n",
    "When the runtime distribution is not known there exists a universal strategy, which retries under an universal sequence of runtime thresholds."
   ]
  },
  {
   "cell_type": "markdown",
   "metadata": {},
   "source": [
    "The original work is \n",
    "Luby, Sinclair, and Zuckerman (1993)\n",
    "Optimal Speedup of Las Vegas Algorithms\n",
    "\n",
    "TODO: Give refs to the better papers.\n",
    "\n",
    "TODO: Tie in with sqrt-biased sampling algorithm. The simulation algorithms are very similar.  Here we only have one knob: the threshold; there we had a search distribution."
   ]
  },
  {
   "cell_type": "code",
   "execution_count": 2,
   "metadata": {},
   "outputs": [
    {
     "name": "stdout",
     "output_type": "stream",
     "text": [
      "1.6487212707001282 2.1611974158950877\n"
     ]
    }
   ],
   "source": [
    "import numpy as np, pylab as pl, scipy.stats as st\n",
    "from arsenal.maths import mean_confidence_interval\n",
    "from scipy.integrate import quad\n",
    "from arsenal import iterview\n",
    "from arsenal.cache import memoize\n",
    "\n",
    "@np.vectorize\n",
    "def right_truncated_mean(R):\n",
    "    \"E[T | T <= R]\"\n",
    "    p = d.cdf(R)\n",
    "    if p == 0: return np.inf\n",
    "    [est, _] = quad(lambda x: x * d.pdf(x), 0, R) \n",
    "    return est / p\n",
    "\n",
    "H = lambda t: d.pdf(t)/d.sf(t)   # hazard-rate function\n",
    "\n",
    "# define a runtime distribution\n",
    "d = st.lognorm(1)\n",
    "\n",
    "m = d.mean()\n",
    "s = d.std()\n",
    "print(m, s)"
   ]
  },
  {
   "cell_type": "code",
   "execution_count": 3,
   "metadata": {},
   "outputs": [],
   "source": [
    "def T(R):\n",
    "    \"Expected runtime with restart threshold `R`\"\n",
    "    p = d.cdf(R)\n",
    "    return R * (1-p)/p + right_truncated_mean(R)"
   ]
  },
  {
   "cell_type": "code",
   "execution_count": 4,
   "metadata": {},
   "outputs": [
    {
     "name": "stderr",
     "output_type": "stream",
     "text": [
      "100.0% (100/100) [====================================================] 00:00:03\n"
     ]
    }
   ],
   "source": [
    "ts = np.linspace(0.1, m*2, 100)\n",
    "Ts = np.array([T(r) for r in iterview(ts)])"
   ]
  },
  {
   "cell_type": "code",
   "execution_count": 5,
   "metadata": {},
   "outputs": [
    {
     "data": {
      "image/png": "[encoded data removed]",
      "text/plain": [
       "<Figure size 432x288 with 1 Axes>"
      ]
     },
     "metadata": {
      "needs_background": "light"
     },
     "output_type": "display_data"
    }
   ],
   "source": [
    "pl.plot(ts, Ts, label=r'T(R)')\n",
    "pl.plot(ts, 1/H(ts), label=r'$1/h(R)$')     # inverse of the hazard-rate function\n",
    "pl.scatter(ts[Ts.argmin()], [Ts.min()], marker='o', c='r', s=75)\n",
    "pl.ylim(0, m*2); pl.xlim(ts.min(), ts.max())\n",
    "\n",
    "rstar = ts[Ts.argmin()]\n",
    "Tstar = d.sf(rstar) / d.pdf(rstar)   # analytical-ish\n",
    "pl.axhline(Tstar, c='k', lw=0.5, linestyle='--', label=r'$T(R^*)$');\n",
    "pl.axhline(d.mean(), c='r', label=r'$\\mu = T(\\infty)$')\n",
    "pl.legend(loc='best'); pl.xlabel('R');"
   ]
  },
  {
   "cell_type": "code",
   "execution_count": 6,
   "metadata": {},
   "outputs": [
    {
     "data": {
      "image/png": "[encoded data removed]",
      "text/plain": [
       "<Figure size 432x288 with 1 Axes>"
      ]
     },
     "metadata": {
      "needs_background": "light"
     },
     "output_type": "display_data"
    }
   ],
   "source": [
    "# test that the right-truncated mean estimate matches rejection sampling\n",
    "N = 10000\n",
    "S = d.rvs(N)\n",
    "\n",
    "def simulate(t):\n",
    "    return mean_confidence_interval(S[S <= t])\n",
    "\n",
    "mi,lb,ub = zip(*[simulate(t) for t in ts])\n",
    "pl.fill_between(ts, lb, ub, color='r', alpha=0.25)\n",
    "pl.plot(ts, mi, c='b', alpha=0.5, lw=2)\n",
    "pl.plot(ts, right_truncated_mean(ts), c='r', lw=2, alpha=0.5);"
   ]
  },
  {
   "cell_type": "code",
   "execution_count": 11,
   "metadata": {},
   "outputs": [
    {
     "name": "stderr",
     "output_type": "stream",
     "text": [
      "100.0% (100/100) [====================================================] 00:00:18\n"
     ]
    },
    {
     "data": {
      "text/plain": [
       "(0.1, 3.2974425414002564)"
      ]
     },
     "execution_count": 11,
     "metadata": {},
     "output_type": "execute_result"
    },
    {
     "data": {
      "image/png": "[encoded data removed]",
      "text/plain": [
       "<Figure size 432x288 with 1 Axes>"
      ]
     },
     "metadata": {
      "needs_background": "light"
     },
     "output_type": "display_data"
    }
   ],
   "source": [
    "def _simulate(R, seed):\n",
    "    \"simulate capped-restart distribution\"\n",
    "    with restore_random_state(seed):\n",
    "        total = 0.0\n",
    "        while True:\n",
    "            r = d.rvs()\n",
    "            total += min(r, R)            \n",
    "            if r <= R:\n",
    "                return total\n",
    "\n",
    "def simulate(R, seeds):\n",
    "    S = [_simulate(R, seed) for seed in seeds]\n",
    "    return mean_confidence_interval(S)\n",
    "\n",
    "M = 1000\n",
    "seeds = [int(np.random.randint(0, 2**32)) for _ in range(M)]\n",
    "\n",
    "mi,lb,ub = zip(*[simulate(t, seeds) for t in iterview(ts)])\n",
    "pl.fill_between(ts, lb, ub, color='r', alpha=0.25)\n",
    "pl.plot(ts, mi, c='r', alpha=0.5, lw=2)\n",
    "pl.plot(ts, Ts, c='b', alpha=0.5, lw=2); pl.ylim(0, m*2)\n",
    "pl.xlim(ts.min(), ts.max())"
   ]
  },
  {
   "cell_type": "markdown",
   "metadata": {},
   "source": [
    "## Universal strategy"
   ]
  },
  {
   "cell_type": "code",
   "execution_count": 8,
   "metadata": {},
   "outputs": [
    {
     "name": "stdout",
     "output_type": "stream",
     "text": [
      "[1, 1, 2, 1, 2, 4, 1, 2, 4, 8, 1, 2, 4, 8, 16]\n",
      "[0.1, 0.1, 0.11000000000000001, 0.1, 0.11000000000000001, 0.12100000000000002, 0.1, 0.11000000000000001, 0.12100000000000002, 0.13310000000000005, 0.1, 0.11000000000000001, 0.12100000000000002, 0.13310000000000005, 0.14641000000000004]\n"
     ]
    }
   ],
   "source": [
    "from arsenal.iterextras import take\n",
    "def universal(scale, base):\n",
    "    assert base > 1\n",
    "    i = 0\n",
    "    while True:\n",
    "        i += 1\n",
    "        for j in range(i):\n",
    "            yield scale * base**j\n",
    "\n",
    "print(list(take(15, universal(1, 2))))\n",
    "print(list(take(15, universal(.1, 1.1))))"
   ]
  },
  {
   "cell_type": "code",
   "execution_count": 9,
   "metadata": {},
   "outputs": [
    {
     "name": "stdout",
     "output_type": "stream",
     "text": [
      "universal: 1.6487212707001282 0.9578485648382067\n",
      "baseline:  1.6487212707001282 2.1611974158950877\n"
     ]
    }
   ],
   "source": [
    "def _simulate(policy, seed):\n",
    "    with restore_random_state(seed):\n",
    "        total = 0.0\n",
    "        while True:\n",
    "            r = d.rvs()\n",
    "            R = policy()\n",
    "            total += min(r, R)\n",
    "            if r <= R:\n",
    "                return total\n",
    "\n",
    "p = universal(0.01, 2)\n",
    "print('universal:',\n",
    "    d.mean(),\n",
    "    _simulate(p.__next__, seed=0)\n",
    ")\n",
    "print('baseline: ', d.mean(), d.std())"
   ]
  },
  {
   "cell_type": "markdown",
   "metadata": {},
   "source": [
    "## Derivation\n",
    "\n",
    "The following recursive definition of the expected value under the policy $\\tau$ is essentially a two-state MDP (a terminal and non-terminal state). The analysis is agnostic to whether $\\tau$ is discrete or continuous.\n",
    "\n",
    "$$\n",
    "v = \\mathbb{E}_p[ \\min(t, \\tau) ]    +   (1 - p( t \\le \\tau)) \\cdot (overhead + \\tau + v)\n",
    "%           immediate cost        prob retry      retry      retry\n",
    "%            of the run                         overhead\n",
    "$$\n",
    "\n",
    "where overhead $\\ge 0$ is a known, constant restart-overhead penalty."
   ]
  },
  {
   "cell_type": "markdown",
   "metadata": {},
   "source": [
    "Solving the recurrence for v, we obtain\n",
    "\n",
    "$$\n",
    "\\begin{align}\n",
    "  v &= \\mathbb{E}_p[t |t \\le \\tau] + \\frac{1-p(t \\le \\tau)}{p(t \\le \\tau)} \\cdot (overhead + \\tau).\n",
    "\\end{align}\n",
    "$$\n",
    "\n",
    "Since this is an MDP, it follows that the optimal policy is pure and stationary (i.e., deterministic and fixed over time).\n",
    "\n",
    "The optimal \\tau can be computed by enumeration in the discrete case.\n",
    "In the continuous case, it can be computed in \"the usual way\" (i.e.,\n",
    "by solving for \\tau such that the gradient of v(tau) is equal to zero;\n",
    "and check the sign of the second derivative). The general form is\n",
    "nonconvex.\n",
    "\n",
    "$$\n",
    "\\frac{\\partial v}{\\partial \\tau}\n",
    "= \\frac{1-p(t \\le \\tau)}{p(t \\le \\tau)} - \\frac{p(\\tau)}{p(t \\le \\tau)} \\cdot v\n",
    "$$"
   ]
  },
  {
   "cell_type": "markdown",
   "metadata": {},
   "source": [
    "Solve for $\\tau$ such that the derivative is zero.\n",
    "$$\n",
    "\\begin{align}\n",
    "\\frac{\\partial v}{\\partial \\tau} &= 0 \\\\\n",
    "\\frac{1-p(t \\le \\tau)}{p(t \\le \\tau)} &= \\frac{p(\\tau)}{p(t \\le \\tau)} \\cdot \\left( \\mathbb{E}_p[t |t \\le \\tau] + \\frac{1-p(t \\le \\tau)}{p(t \\le \\tau)} \\cdot (overhead + \\tau) \\right) \\\\\n",
    "\\frac{1-p(t \\le \\tau)}{p(\\tau)} &= \\mathbb{E}_p[t |t \\le \\tau] + \\frac{1-p(t \\le \\tau)}{p(t \\le \\tau)} \\cdot (overhead + \\tau)\n",
    "\\end{align}\n",
    "$$"
   ]
  },
  {
   "cell_type": "markdown",
   "metadata": {},
   "source": [
    "Remarks:\n",
    "\n",
    "The optimally capped expectation (as well as higher-order moments) are always finite - even when the underlying RTD puts positive probability on nontermination."
   ]
  },
  {
   "cell_type": "code",
   "execution_count": null,
   "metadata": {},
   "outputs": [],
   "source": []
  }
 ],
 "metadata": {
  "kernelspec": {
   "display_name": "Python 3",
   "language": "python",
   "name": "python3"
  },
  "language_info": {
   "codemirror_mode": {
    "name": "ipython",
    "version": 3
   },
   "file_extension": ".py",
   "mimetype": "text/x-python",
   "name": "python",
   "nbconvert_exporter": "python",
   "pygments_lexer": "ipython3",
   "version": "3.7.3"
  }
 },
 "nbformat": 4,
 "nbformat_minor": 2
}
