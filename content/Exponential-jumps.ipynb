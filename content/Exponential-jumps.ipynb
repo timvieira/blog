{
 "cells": [
  {
   "cell_type": "markdown",
   "metadata": {},
   "source": [
    "# Experiments with the exponential jumps algorithm"
   ]
  },
  {
   "cell_type": "code",
   "execution_count": 1,
   "metadata": {},
   "outputs": [],
   "source": [
    "def jump(stream):\n",
    "    \"Weighted-reservoir sampling by jumping\"\n",
    "    R = None\n",
    "    T = np.inf\n",
    "    J = 0.0\n",
    "    for i, w in enumerate(stream):\n",
    "        J -= w\n",
    "        if J <= 0:\n",
    "            # Sample the key for item i, given that it is smaller than the current threshold\n",
    "            T = Exponential.sample_truncated(w, 0, T)\n",
    "            # i enters the reservoir\n",
    "            R = i\n",
    "            # sample the waiting time (size of the jump)\n",
    "            J = Exponential.sample(T)\n",
    "    return R"
   ]
  },
  {
   "cell_type": "code",
   "execution_count": 2,
   "metadata": {},
   "outputs": [],
   "source": [
    "def walk(stream):\n",
    "    \"Weighted-reservoir sampling by walking\"\n",
    "    R = None\n",
    "    T = np.inf\n",
    "    J = 0.0\n",
    "    for i, w in enumerate(stream):\n",
    "        X = Exponential.sample(w)\n",
    "        if X < T:\n",
    "            R = i   # i enters the reservoir\n",
    "            T = X   # threshold to enter the reservoir\n",
    "    return R"
   ]
  },
  {
   "cell_type": "code",
   "execution_count": 3,
   "metadata": {},
   "outputs": [],
   "source": [
    "import numpy as np, pylab as pl\n",
    "\n",
    "def base(w):\n",
    "    \"Baseline algorithm for sampling from weights w\"\n",
    "    c = np.cumsum(w)\n",
    "    u = np.random.uniform()\n",
    "    return c.searchsorted(u * c[-1])\n",
    "\n",
    "def empirical(gen, s, n, reps):\n",
    "    \"Compute empirical categorical distribution\"\n",
    "    q = np.zeros(n)\n",
    "    for _ in range(reps):\n",
    "        q[gen(s)] += 1\n",
    "    q /= reps\n",
    "    return q\n",
    "\n",
    "def error(p, q, reps):\n",
    "    \"Compute total variation between two (possibly unnormalized) distributions `p` and `q`.\"\n",
    "    assert p.shape == q.shape\n",
    "    p = p / p.sum()\n",
    "    q = q / q.sum()\n",
    "    return 0.5 * np.abs(p-q).sum()  # total variation\n",
    "\n",
    "class Exponential:\n",
    "    \n",
    "    @staticmethod\n",
    "    def pdf(w, x):\n",
    "        return w * np.exp(-x * w)\n",
    "    \n",
    "    @staticmethod\n",
    "    def cdf(w, x):\n",
    "        return 1 - np.exp(-x * w)\n",
    "        \n",
    "    @staticmethod\n",
    "    def ppf(w, u):\n",
    "        return -np.log1p(-u) / w\n",
    "\n",
    "    @classmethod\n",
    "    def sample(cls, w, u=None):\n",
    "        \"Generate a random variate.\"\n",
    "        if u is None: u = np.random.uniform()\n",
    "        return cls.ppf(w, u)\n",
    "\n",
    "    @classmethod\n",
    "    def sample_truncated(cls, w, a, b, u=None):\n",
    "        \"Generate a random variate such that `a <= X <= b`\"\n",
    "        assert a <= b\n",
    "        if u is None: u = np.random.uniform()\n",
    "        return cls.ppf(w, cls.cdf(w, a) + u * (cls.cdf(w, b) - cls.cdf(w, a)))"
   ]
  },
  {
   "cell_type": "markdown",
   "metadata": {},
   "source": [
    "### Does it work?"
   ]
  },
  {
   "cell_type": "markdown",
   "metadata": {},
   "source": [
    "Generate some test data"
   ]
  },
  {
   "cell_type": "code",
   "execution_count": 4,
   "metadata": {},
   "outputs": [],
   "source": [
    "n = 20\n",
    "w = np.random.uniform(0, 10, size=n)"
   ]
  },
  {
   "cell_type": "code",
   "execution_count": 5,
   "metadata": {},
   "outputs": [
    {
     "name": "stdout",
     "output_type": "stream",
     "text": [
      "base error: 0.005302418883592938\n",
      "walk error: 0.005337774053666295\n",
      "jump error: 0.005126327265828854\n"
     ]
    }
   ],
   "source": [
    "reps = 100000\n",
    "print('base error:', error(w, empirical(base, w, n, reps), reps))\n",
    "print('walk error:', error(w, empirical(walk, w, n, reps), reps))\n",
    "print('jump error:', error(w, empirical(jump, w, n, reps), reps))"
   ]
  },
  {
   "cell_type": "markdown",
   "metadata": {},
   "source": [
    "### Is it faster?"
   ]
  },
  {
   "cell_type": "code",
   "execution_count": 6,
   "metadata": {},
   "outputs": [],
   "source": [
    "from arsenal.timer import timers\n",
    "jobs = []\n",
    "methods = {'walk': walk, 'jump': jump} #, 'base': base}\n",
    "for i in range(20):\n",
    "    n = 2 ** i\n",
    "    for rep in range(3):\n",
    "        w = np.random.uniform(0, 10, size=n)\n",
    "        for name, method in methods.items():\n",
    "            jobs.append([name, n, rep, method, w])\n",
    "np.random.shuffle(jobs)  # shuffle jobs to avoid accidental correlations\n",
    "T = timers()\n",
    "for [name, n, rep, method, w] in jobs:\n",
    "    with T[name](n=n):\n",
    "        method(w)"
   ]
  },
  {
   "cell_type": "code",
   "execution_count": 7,
   "metadata": {},
   "outputs": [
    {
     "name": "stdout",
     "output_type": "stream",
     "text": [
      "jump is 4.2050x faster than walk \u001b[0;33m(median: walk: 0.00163066 jump: 0.000387788)\u001b[0m\n"
     ]
    }
   ],
   "source": [
    "T.compare()"
   ]
  },
  {
   "cell_type": "markdown",
   "metadata": {},
   "source": [
    "**Where is the speed-up coming from?** Both algorithms are asymptotically linear time to sample.  However, the constant factors associated with the `jump` algorithm are smaller because it samples substantially fewer random variates."
   ]
  },
  {
   "cell_type": "code",
   "execution_count": 8,
   "metadata": {},
   "outputs": [
    {
     "data": {
      "image/png": "[encoded data removed]",
      "text/plain": [
       "<Figure size 432x288 with 1 Axes>"
      ]
     },
     "metadata": {
      "needs_background": "light"
     },
     "output_type": "display_data"
    }
   ],
   "source": [
    "ax = T.plot_feature('n')\n",
    "ax.set_xscale('log'); ax.set_yscale('log')"
   ]
  }
 ],
 "metadata": {
  "kernelspec": {
   "display_name": "Python 3",
   "language": "python",
   "name": "python3"
  },
  "language_info": {
   "codemirror_mode": {
    "name": "ipython",
    "version": 3
   },
   "file_extension": ".py",
   "mimetype": "text/x-python",
   "name": "python",
   "nbconvert_exporter": "python",
   "pygments_lexer": "ipython3",
   "version": "3.7.3"
  }
 },
 "nbformat": 4,
 "nbformat_minor": 2
}
