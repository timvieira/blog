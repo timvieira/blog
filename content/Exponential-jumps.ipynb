{
 "cells": [
  {
   "cell_type": "markdown",
   "metadata": {},
   "source": [
    "\n",
    "# Faster reservoir sampling by waiting"
   ]
  },
  {
   "cell_type": "markdown",
   "metadata": {},
   "source": [
    "We are interested in designing an efficient algorithm for sampling from a categorical distribution over $n$ items with weights $w_i > 0$.  Define target sampling distribution $p$ as\n",
    "$$\n",
    "p = \\mathrm{Categorical}\\left( \\frac{1}{W} \\cdot \\vec{w} \\right)\n",
    "\\quad\\text{where}\\quad W = \\frac{1}{\\sum_j w_j}\n",
    "$$\n",
    "\n",
    "The following is a very simple and relatively famous algorithm due to [Efraimidis and Spirakis (2006)](https://www.sciencedirect.com/science/article/pii/S002001900500298X).  It has several useful properties (e.g., it is a one-pass \"streaming\" algorithm, separates data from noise, can be easily extended for streaming sampling without replacement).  It is also very closely related to the Gumbel-max trick ([Vieira, 2014](http://timvieira.github.io/blog/post/2014/08/01/gumbel-max-trick-and-weighted-reservoir-sampling/))."
   ]
  },
  {
   "cell_type": "code",
   "execution_count": 1,
   "metadata": {},
   "outputs": [],
   "source": [
    "def weighted_reservoir_sampling(stream):\n",
    "    return np.argmin([Exponential.sample(w) for w in stream])"
   ]
  },
  {
   "cell_type": "markdown",
   "metadata": {},
   "source": [
    "Some differences from E&S'06: Our $K$ and $T$ are $\\log$ of the $K$ and $T$ variables in E&S'06.  Additionally, we take $\\min$ instead of $\\max$.  These differences allow us to talk about exponential variates rather than the less-elegant and rather-mysterious (IMO) random key $u_i^{1/w_i}$.\n",
    "\n",
    "**Why does it work?** The weighted-reservoir sampling algorithm exploits the following well-known properties of exponential random variates:\n",
    "When $X_i \\sim \\mathrm{Exponential}(w_i)$, $R = {\\mathrm{argmin}}_i X_i$, and $T = \\min_i X_i$ then\n",
    "$R \\sim p$ and $T \\sim \\mathrm{Exponential}\\left( \\sum_i w_i \\right)$."
   ]
  },
  {
   "cell_type": "markdown",
   "metadata": {},
   "source": [
    "## Fewer random variates by waiting"
   ]
  },
  {
   "cell_type": "markdown",
   "metadata": {},
   "source": [
    "One down-side of this one-pass algorithm is that it requires $\\mathcal{O}(n)$ uniform random variates.  Contrast that with the usual, two-pass methods for sampling from a categorical distribution, which only need $\\mathcal{O}(1)$ samples.  E&S'06 also present a much less well-known algorithm, called the \"Exponential jumps\" algorithm, which is a one-pass algorithm that only requires $\\mathcal{O}(\\log(n))$ random variates (in expectation).  That's *way* fewer random variates and a small price to pay if you are trying to avoid paging-in data from disk a second time.\n",
    "\n",
    "Here is my take on their algorithm.  There is no substantive difference, but I believe my version is more instructive since it makes the connection to exponential variates and truncated generation explicit (i.e., no mysterious random keys)."
   ]
  },
  {
   "cell_type": "code",
   "execution_count": 2,
   "metadata": {},
   "outputs": [],
   "source": [
    "def jump(stream):\n",
    "    \"Weighted-reservoir sampling by jumping\"\n",
    "    R = None\n",
    "    T = np.inf\n",
    "    J = 0.0\n",
    "    for i, w in enumerate(stream):\n",
    "        J -= w\n",
    "        if J <= 0:\n",
    "            # Sample the key for item i, given that it is smaller than the current threshold\n",
    "            T = Exponential.sample_truncated(w, 0, T)\n",
    "            # i enters the reservoir\n",
    "            R = i\n",
    "            # sample the waiting time (size of the jump)\n",
    "            J = Exponential.sample(T)\n",
    "    return R"
   ]
  },
  {
   "cell_type": "markdown",
   "metadata": {},
   "source": [
    "**Why does exponential jumps work?**\n",
    "\n",
    "Let me first write the `weighted_reservoir_sampling` algorithm to be much more similar to the `jump` algorithm.  For fun, I'm going to refer to it as the `walk` algorithm."
   ]
  },
  {
   "cell_type": "code",
   "execution_count": 3,
   "metadata": {},
   "outputs": [],
   "source": [
    "def walk(stream):\n",
    "    \"Weighted-reservoir sampling by walking\"\n",
    "    R = None\n",
    "    T = np.inf\n",
    "    J = 0.0\n",
    "    for i, w in enumerate(stream):\n",
    "        X = Exponential.sample(w)\n",
    "        if X < T:\n",
    "            R = i   # i enters the reservoir\n",
    "            T = X   # threshold to enter the reservoir\n",
    "    return R"
   ]
  },
  {
   "cell_type": "markdown",
   "metadata": {},
   "source": [
    "**The key idea** of the exponential jumps algorithm is to sample *waiting times* between new minimum events.  In particular, if the algorithm is at step $i$ the probability that sees its next minimum at steps $j \\in \\{ i+1, \\ldots \\}$ can be reasoned about without needing to *actually* sample the various $X_j$ variables.  \n",
    "\n",
    "Rather than going into a full-blown tutorial on waiting times of exponential variates, I will get to the point and show that the `jump` algorithm simulates the `walk` algorithm.  The key to doing this is showing that the probability of jumping from $i$ to $k$ is the same as \"walking\" from $i$ to $k$.  Let $W_{i,k} = \\sum_{j=i}^k w_j$.\n",
    "\n",
    "This proof is adapted from the original proof in E&S'06.\n",
    "\n",
    "$$\n",
    "\\begin{eqnarray}\n",
    "\\mathrm{Pr}\\left( \\text{walk to } k \\mid i,T \\right)\n",
    "&=& \\mathrm{Pr}\\left( X_k < T \\right) \\prod_{j=i}^{k-1} \\mathrm{Pr}\\left( X_j \\ge T \\right) \\\\\n",
    "&=& \\left(1 - \\exp\\left( T w_k \\right) \\right) \\prod_{j=i}^{k-1} \\exp\\left( T w_j \\right) \\\\\n",
    "&=& \\left(1 - \\exp\\left( T w_k \\right) \\right) \\exp\\left( T \\sum_{j=i}^{k-1}  w_j \\right) \\\\\n",
    "&=& \\left(1 - \\exp\\left( T w_k \\right) \\right) \\exp\\left( T W_{i,k-1} \\right) \\\\\n",
    "&=& \\exp\\left( T W_{i,k-1} \\right) - \\exp\\left( T w_k \\right) \\exp\\left( T W_{i,k-1} \\right) \\\\\n",
    "&=& \\exp\\left( T W_{i,k-1} \\right) - \\exp\\left( T W_{i,k} \\right) \\\\\n",
    "\\\\\n",
    "\\mathrm{Pr}\\left( \\text{jump to } k \\mid i, T \\right)\n",
    "&=& \\mathrm{Pr}\\left( W_{i,k-1} < J \\le W_{i,k} \\right) \\\\\n",
    "&=& \\mathrm{Pr}\\left( W_{i,k-1} < -\\frac{\\log(U)}{T} \\le W_{i,k} \\right) \\\\\n",
    "&=& \\mathrm{Pr}\\left( \\exp(-T \\cdot W_{i,k-1}) > U \\ge \\exp(-T \\cdot W_{i,k}) \\right) \\label{foo}\\\\\n",
    "&=& \\exp(T \\cdot W_{i,k-1}) - \\exp(T \\cdot W_{i,k} )\n",
    "\\end{eqnarray}\n",
    "$$\n",
    "\n",
    "Given that the waiting time correctly matches the walking algorithm, the remaining detail is to check that $X_k$ is equivalent under the condition that it goes into the reservoir.  This conditioning is why the jumping algorithm must generate a *truncated* random variate: a random variate that is guaranteed to less than the previous minimum.  In the [Gumbel-max world](https://cmaddis.github.io/gumbel-machinery), this is used in the top-down generative story."
   ]
  },
  {
   "cell_type": "markdown",
   "metadata": {},
   "source": [
    "# Experiments"
   ]
  },
  {
   "cell_type": "code",
   "execution_count": 4,
   "metadata": {},
   "outputs": [],
   "source": [
    "import numpy as np, pylab as pl\n",
    "\n",
    "def base(w):\n",
    "    \"Baseline algorithm for sampling from weights w\"\n",
    "    c = np.cumsum(w)\n",
    "    u = np.random.uniform()\n",
    "    return c.searchsorted(u * c[-1])\n",
    "\n",
    "def empirical(gen, s, n, reps):\n",
    "    \"Compute empirical categorical distribution\"\n",
    "    q = np.zeros(n)\n",
    "    for _ in range(reps):\n",
    "        q[gen(s)] += 1\n",
    "    q /= reps\n",
    "    return q\n",
    "\n",
    "def error(p, q, reps):\n",
    "    \"Compute total variation between two (possibly unnormalized) distributions `p` and `q`.\"\n",
    "    assert p.shape == q.shape\n",
    "    p = p / p.sum()\n",
    "    q = q / q.sum()\n",
    "    return 0.5 * np.abs(p-q).sum()  # total variation\n",
    "\n",
    "class Exponential:\n",
    "    \n",
    "    @staticmethod\n",
    "    def pdf(w, x):\n",
    "        return w * np.exp(-x * w)\n",
    "    \n",
    "    @staticmethod\n",
    "    def cdf(w, x):\n",
    "        return 1 - np.exp(-x * w)\n",
    "        \n",
    "    @staticmethod\n",
    "    def ppf(w, u):\n",
    "        return -np.log1p(-u) / w\n",
    "\n",
    "    @classmethod\n",
    "    def sample(cls, w, u=None):\n",
    "        \"Generate a random variate.\"\n",
    "        if u is None: u = np.random.uniform()\n",
    "        return cls.ppf(w, u)\n",
    "\n",
    "    @classmethod\n",
    "    def sample_truncated(cls, w, a, b, u=None):\n",
    "        \"Generate a random variate such that `a <= X <= b`\"\n",
    "        assert a <= b\n",
    "        if u is None: u = np.random.uniform()\n",
    "        return cls.ppf(w, cls.cdf(w, a) + u * (cls.cdf(w, b) - cls.cdf(w, a)))"
   ]
  },
  {
   "cell_type": "markdown",
   "metadata": {},
   "source": [
    "### Does it work?"
   ]
  },
  {
   "cell_type": "markdown",
   "metadata": {},
   "source": [
    "Generate some test data"
   ]
  },
  {
   "cell_type": "code",
   "execution_count": 5,
   "metadata": {},
   "outputs": [],
   "source": [
    "n = 20\n",
    "w = np.random.uniform(0, 10, size=n)"
   ]
  },
  {
   "cell_type": "code",
   "execution_count": 6,
   "metadata": {},
   "outputs": [
    {
     "name": "stdout",
     "output_type": "stream",
     "text": [
      "base error: 0.006238238789408398\n",
      "walk error: 0.0032496867033630777\n",
      "jump error: 0.004591482027315828\n"
     ]
    }
   ],
   "source": [
    "reps = 100000\n",
    "print('base error:', error(w, empirical(base, w, n, reps), reps))\n",
    "print('walk error:', error(w, empirical(walk, w, n, reps), reps))\n",
    "print('jump error:', error(w, empirical(jump, w, n, reps), reps))"
   ]
  },
  {
   "cell_type": "markdown",
   "metadata": {},
   "source": [
    "### Is it faster?"
   ]
  },
  {
   "cell_type": "code",
   "execution_count": 7,
   "metadata": {},
   "outputs": [],
   "source": [
    "from arsenal.timer import timers\n",
    "jobs = []\n",
    "methods = {'walk': walk, 'jump': jump} #, 'base': base}\n",
    "for i in range(20):\n",
    "    n = 2 ** i\n",
    "    for rep in range(3):\n",
    "        w = np.random.uniform(0, 10, size=n)\n",
    "        for name, method in methods.items():\n",
    "            jobs.append([name, n, rep, method, w])\n",
    "np.random.shuffle(jobs)  # shuffle jobs to avoid accidental correlations\n",
    "T = timers()\n",
    "for [name, n, rep, method, w] in jobs:\n",
    "    with T[name](n=n):\n",
    "        method(w)"
   ]
  },
  {
   "cell_type": "code",
   "execution_count": 8,
   "metadata": {},
   "outputs": [
    {
     "name": "stdout",
     "output_type": "stream",
     "text": [
      "jump is 6.8755x faster than walk \u001b[0;33m(median: walk: 0.00217855 jump: 0.000316858)\u001b[0m\n"
     ]
    }
   ],
   "source": [
    "T.compare()"
   ]
  },
  {
   "cell_type": "markdown",
   "metadata": {},
   "source": [
    "**Where is the speed-up coming from?** Both algorithms are asymptotically linear time to sample.  However, the constant factors associated with the `jump` algorithm are smaller because it samples substantially fewer random variates."
   ]
  },
  {
   "cell_type": "code",
   "execution_count": 9,
   "metadata": {},
   "outputs": [
    {
     "data": {
      "image/png": "[encoded data removed]",
      "text/plain": [
       "<Figure size 432x288 with 1 Axes>"
      ]
     },
     "metadata": {
      "needs_background": "light"
     },
     "output_type": "display_data"
    }
   ],
   "source": [
    "ax = T.plot_feature('n')\n",
    "ax.set_xscale('log'); ax.set_yscale('log')"
   ]
  },
  {
   "cell_type": "markdown",
   "metadata": {},
   "source": [
    "# Closing thoughts"
   ]
  },
  {
   "cell_type": "markdown",
   "metadata": {},
   "source": [
    "Pros:\n",
    "- The jump algorithm saves a ton of random variates and gives practical savings (at least, in my limited experiments).\n",
    "\n",
    "Cons:\n",
    "- The jump algorithm is harder to parallelize or vectorize, but it seems possible.\n",
    "- If you aren't in a setting that requires a one-pass algorithm or some other special properties, you are probably better served by the two-pass algorithms since they have lower overhead because it doesn't call expensive functions like $\\log$ and it uses a single random variate per sample.\n",
    "\n",
    "Further reading: I have several posts on the topic of fast sampling algorithms, which might be of interest ([1](http://timvieira.github.io/blog/post/2016/11/21/heaps-for-incremental-computation/), [2](http://timvieira.github.io/blog/post/2016/07/04/fast-sigmoid-sampling/), [3](http://timvieira.github.io/blog/post/2014/08/01/gumbel-max-trick-and-weighted-reservoir-sampling/))."
   ]
  }
 ],
 "metadata": {
  "kernelspec": {
   "display_name": "Python 3",
   "language": "python",
   "name": "python3"
  },
  "language_info": {
   "codemirror_mode": {
    "name": "ipython",
    "version": 3
   },
   "file_extension": ".py",
   "mimetype": "text/x-python",
   "name": "python",
   "nbconvert_exporter": "python",
   "pygments_lexer": "ipython3",
   "version": "3.7.3"
  }
 },
 "nbformat": 4,
 "nbformat_minor": 2
}
