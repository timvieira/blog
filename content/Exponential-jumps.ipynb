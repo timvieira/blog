{
 "cells": [
  {
   "cell_type": "markdown",
   "metadata": {},
   "source": [
    "\n",
    "# Exponential jumps: Reservoir sampling with much fewer random numbers"
   ]
  },
  {
   "cell_type": "code",
   "execution_count": 1,
   "metadata": {},
   "outputs": [],
   "source": [
    "import numpy as np, pylab as pl\n",
    "\n",
    "def empirical(alg, s, n, reps):\n",
    "    q = np.zeros(n)\n",
    "    for _ in range(reps):\n",
    "        q[alg(s)] += 1\n",
    "    q /= reps\n",
    "    return q\n",
    "\n",
    "def error(w, q, reps):\n",
    "    p = w / w.sum()\n",
    "    assert abs(q.sum() - 1) < 1e-10, q.sum()\n",
    "    assert p.shape == q.shape\n",
    "    return 0.5 * np.abs(p-q).sum()  # total variation\n",
    "\n",
    "def exponential(w):\n",
    "    \"Generate an exponential random variable with mean `1/w`.\"\n",
    "    return -np.log(np.random.uniform(0,1)) / w"
   ]
  },
  {
   "cell_type": "markdown",
   "metadata": {},
   "source": [
    "Generate some testing data"
   ]
  },
  {
   "cell_type": "code",
   "execution_count": 2,
   "metadata": {},
   "outputs": [],
   "source": [
    "n = 20\n",
    "w = np.random.uniform(0, 1, size=n)\n",
    "s = list(enumerate(w))\n",
    "reps = 100000"
   ]
  },
  {
   "cell_type": "markdown",
   "metadata": {},
   "source": [
    "The following algorithm can be used to generate a random sample from a stream of weighted items."
   ]
  },
  {
   "cell_type": "code",
   "execution_count": 3,
   "metadata": {},
   "outputs": [
    {
     "name": "stdout",
     "output_type": "stream",
     "text": [
      "err: 0.004963328159848503\n"
     ]
    }
   ],
   "source": [
    "def weighted_reservoir(stream):\n",
    "    R = None\n",
    "    T = np.inf                  # key and threshold are log of the K and T variables in E&S'06\n",
    "    for i, w in stream:\n",
    "        K = exponential(w)      # generate an exponential random variate\n",
    "        if K < T:               # streaming min\n",
    "            T = K               # current threshold to become the min.\n",
    "            R = i               # current argmin\n",
    "    return R\n",
    "\n",
    "q = empirical(weighted_reservoir, s, n, reps)\n",
    "print('err:', error(w, q, reps))"
   ]
  },
  {
   "cell_type": "markdown",
   "metadata": {},
   "source": [
    "Why does it work?  It is well know that\n",
    "\n",
    "$$\n",
    "\\left(\n",
    "\\mathrm{argmin}_{i} \\mathrm{Exponential}(w_i)\n",
    "\\right)\n",
    "\\sim\n",
    "\\mathrm{Categorical}\\left( \\frac{1}{\\sum_j w_j} \\boldsymbol{w} \\right)\n",
    "$$\n",
    "\n",
    "Clearly, any order-preserving transformation on the Exponential random variables will also serve as a correct algorithm.  It is also fine to apply the order-reversing operation, such as $-\\log(\\cdot)$, and take the max, which is precisely the Gumbel-max trick (see [my earlier article](https://timvieira.github.io/blog/post/2014/08/01/gumbel-max-trick-and-weighted-reservoir-sampling/)).\n",
    "\n",
    "\n",
    "This a pretty famous algorithm due to Eframidis and Spirakis (2006). It has a number of cool properties (e.g, it is a one-pass \\\"streaming\\\" algorithm, separates data from noise, can be easily extended for streaming sampling without replacement).\n",
    "\n",
    "In that same paper, they introduce a much less well-known algorithm, that I thought I'd describe a bit. The idea is to reduce the number of random number's needed to generate a sample. `weighted_reservoir` requires $\\mathcal{O}(n)$ random numbers of a stream of length $n$. The following algorithm, requires only $\\mathcal{O}(\\log n)$ samples in expectation. That's *way* fewer! Here is the algorithm, it's called the exponential jumps algorithm.\n"
   ]
  },
  {
   "cell_type": "code",
   "execution_count": 4,
   "metadata": {},
   "outputs": [
    {
     "name": "stdout",
     "output_type": "stream",
     "text": [
      "err: 0.005004872377597338\n"
     ]
    }
   ],
   "source": [
    "def truncated_exponential(w, a, b):\n",
    "    \"Sample an Exponential( X | X < t ; w) with the inverse CDF method.\"\n",
    "    F    = lambda x: 1 - np.exp(-x * w)\n",
    "    Finv = lambda u: -np.log(1 - u) / w\n",
    "    return truncated_generator(F, Finv, a, b)\n",
    "\n",
    "def truncated_generator(F, Finv, a, b):\n",
    "    \"Generate a truncated random variable (in the range `[a,b]`) given its CDF and inverse CDF.\"\n",
    "    assert a < b\n",
    "    return Finv(np.random.uniform(F(a), F(b)))\n",
    "\n",
    "def expjump(stream):\n",
    "    R = None\n",
    "    T = np.inf\n",
    "    J = 0.0\n",
    "    for i, w in stream:\n",
    "        J -= w\n",
    "        if J <= 0:\n",
    "            R = i\n",
    "            # Sample the key for item i, given the current threshold\n",
    "            K = truncated_exponential(w, 0, T)\n",
    "            # New threshold to entire the reservoir\n",
    "            T = K\n",
    "            # the Exponential \"jump\"\n",
    "            J = exponential(T)\n",
    "    return R\n",
    "\n",
    "q = empirical(expjump, s, n, reps)\n",
    "print('err:', error(w, q, reps))"
   ]
  },
  {
   "cell_type": "markdown",
   "metadata": {},
   "source": [
    "## Fast generation of truncated exponential RVs"
   ]
  },
  {
   "cell_type": "markdown",
   "metadata": {},
   "source": [
    "Test cases: Here are some inefficient rejection sampling algorithms sampling from truncated distributions"
   ]
  },
  {
   "cell_type": "code",
   "execution_count": 7,
   "metadata": {},
   "outputs": [],
   "source": [
    "def truncated_generator_slow(gen, a, b):\n",
    "    \"Sample X ~ gen( X | a ≤ X ≤ b) with rejection sampling.\"\n",
    "    assert a < b\n",
    "    while True:\n",
    "        x = gen()\n",
    "        if a <= x <= b:\n",
    "            return x\n",
    "\n",
    "def truncated_exponential_slow(w, a, b):\n",
    "    \"Sample an Exponential( X | a ≤ X ≤ b ; w) with rejection sampling.\"\n",
    "    return truncated_generator_slow(lambda: exponential(w), a, b)"
   ]
  },
  {
   "cell_type": "code",
   "execution_count": 8,
   "metadata": {},
   "outputs": [
    {
     "data": {
      "image/png": "[encoded data removed]",
      "text/plain": [
       "<Figure size 432x288 with 1 Axes>"
      ]
     },
     "metadata": {
      "needs_background": "light"
     },
     "output_type": "display_data"
    }
   ],
   "source": [
    "m = 1_000_000    # number of samples\n",
    "B = 100          # number of bins in histogram\n",
    "\n",
    "args = (10, .1, .2)\n",
    "\n",
    "samples = [truncated_exponential_slow(*args) for _ in range(m)]\n",
    "pl.hist(samples, bins=B, color='b', alpha=0.5, density=True)\n",
    "\n",
    "samples = [truncated_exponential(*args) for _ in range(m)]\n",
    "pl.hist(samples, bins=B, density=True, color='r', alpha=0.5)\n",
    "\n",
    "pl.axvline(args[1], c='g', lw=3, zorder=100)            # show truncation line\n",
    "pl.xlim(0, None)\n",
    "pl.title('truncated exponential distribution');"
   ]
  },
  {
   "cell_type": "code",
   "execution_count": 14,
   "metadata": {},
   "outputs": [
    {
     "name": "stdout",
     "output_type": "stream",
     "text": [
      "0.5056888209589832\n",
      "0.5098606176303817\n"
     ]
    }
   ],
   "source": [
    "samples = [exponential(2) for _ in range(10000)]\n",
    "print(np.mean(samples))          # should equal 1/2\n",
    "print(np.std(samples, ddof=1))   # should equal 1/2"
   ]
  },
  {
   "cell_type": "markdown",
   "metadata": {},
   "source": [
    "\n",
    "## Why `expjumps` works\n",
    "\n",
    "The way we're going to understand why this algorithm works is by showing that it simulates the first algorithm.\n",
    "\n",
    "### Part 1: The \"exponential jump\"\n",
    "\n",
    "The probability that we advance from the current position $c$ to some future position $i$ is equal to\n",
    "\n",
    "$$\n",
    "p\\left( \\sum_{j=c}^{i-1} w_j < J \\le \\sum_{j=c}^{i} w_j \\right)\n",
    "$$\n",
    "\n",
    "Let $\\ell=\\sum_{j=c}^{i-1} w_j$\n",
    "\n",
    "$$\n",
    "\\begin{eqnarray*}\n",
    " &=& p\\left(               \\ell < -\\frac{\\log(U)}{T} \\le \\ell + w_i         \\right) \\\\\n",
    " &=& p\\left(               1 < -\\frac{\\log(U)}{T \\ell } \\le 1 + \\frac{w_i}{\\ell}         \\right) \\\\\n",
    " &=& p\\left( -\\frac{\\log(U)}{T \\ell } \\le 1 + \\frac{w_i}{\\ell}         \\right) \\\\\n",
    " &=& p\\left( U  \\ge  \\exp(-T (\\ell + w_i))         \\right) \\\\ \n",
    " &=& \\exp(-T (\\ell + w_i))\n",
    "\\end{eqnarray*}\n",
    "$$\n",
    "\n"
   ]
  },
  {
   "cell_type": "code",
   "execution_count": null,
   "metadata": {},
   "outputs": [],
   "source": []
  }
 ],
 "metadata": {
  "kernelspec": {
   "display_name": "Python 3",
   "language": "python",
   "name": "python3"
  },
  "language_info": {
   "codemirror_mode": {
    "name": "ipython",
    "version": 3
   },
   "file_extension": ".py",
   "mimetype": "text/x-python",
   "name": "python",
   "nbconvert_exporter": "python",
   "pygments_lexer": "ipython3",
   "version": "3.7.3"
  }
 },
 "nbformat": 4,
 "nbformat_minor": 2
}
