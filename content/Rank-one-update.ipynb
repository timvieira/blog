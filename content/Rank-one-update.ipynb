{
 "cells": [
  {
   "cell_type": "markdown",
   "metadata": {},
   "source": [
    "# Fast rank-one updates to matrix inverse?"
   ]
  },
  {
   "cell_type": "markdown",
   "metadata": {},
   "source": [
    "Let $A \\in \\mathbb{R}^{n \\times n}$. The [Sherman–Morrison formula](https://en.wikipedia.org/wiki/Sherman%E2%80%93Morrison_formula) suggests a computational shortcut to update a matrix inverse subject to a rank-one update, i.e., an additive change of the form $A + u \\, v^\\top$ where $u, v \\in \\mathbb{R}^n$:\n",
    "\n",
    "$$\n",
    "(A + u \\, v^\\top)^{-1}\n",
    "$$\n",
    "\n",
    "Suppose we have precomputed $B = A^{-1}$, the shortcut is\n",
    "$$\n",
    "(A + u \\, v^\\top)^{-1} = B - \\frac{1}{1 + v^\\top B\\, u} B\\, u\\, v^\\top B \n",
    "$$\n",
    "\n",
    "Implemented carefully, it runs in $\\mathcal{O}(n^2)$, which is better than $\\mathcal{O}(n^3)$ from scratch.  Ok, *technically* matrix inversion can run faster than cubic, but you get my point.\n",
    "\n",
    "Below is a direct translation of equations into numpy:\n",
    "```python\n",
    "B -= B @ u @ v.T @ B / (1 + v.T @ B @ u)\n",
    "```\n",
    "\n",
    "*However*, it does **NOT** run in $\\mathcal{O}(n^2)$. Do you see why?"
   ]
  },
  {
   "cell_type": "code",
   "execution_count": 1,
   "metadata": {},
   "outputs": [],
   "source": [
    "import numpy as np, scipy\n",
    "from numpy.linalg import inv\n",
    "\n",
    "def slowest(A,B,u,c):\n",
    "    return inv(A + np.outer(u, v))\n",
    "\n",
    "def slow(A,B,u,v):\n",
    "    return B - B @ u @ v.T @ B / (1 + v.T @ B @ u)\n",
    "\n",
    "def fast(A,B,u,v):\n",
    "    return B - (B @ u) @ (v.T @ B) / (1 + v.T @ B @ u)"
   ]
  },
  {
   "cell_type": "code",
   "execution_count": 2,
   "metadata": {},
   "outputs": [],
   "source": [
    "from arsenal import iterview, timers\n",
    "def workload():\n",
    "    for n in iterview(np.logspace(2.5, 3.75, 10)):\n",
    "        n = int(np.ceil(n))\n",
    "        A = np.random.randn(n,n)\n",
    "        B = inv(A)\n",
    "        u = np.random.randn(n,1)\n",
    "        v = np.random.randn(n,1)\n",
    "        yield (n, A, B, u, v)"
   ]
  },
  {
   "cell_type": "code",
   "execution_count": 3,
   "metadata": {},
   "outputs": [
    {
     "name": "stderr",
     "output_type": "stream",
     "text": [
      "100.0% (10/10) [======================================================] 00:00:24\n"
     ]
    }
   ],
   "source": [
    "T = timers()\n",
    "for (n, A, B, u, v) in workload():\n",
    "    with T['slowest'](n=n):\n",
    "        x = slowest(A,B,u,v)\n",
    "    with T['slow'](n=n):\n",
    "        y = slow(A,B,u,v)\n",
    "    with T['fast'](n=n):\n",
    "        z = fast(A,B,u,v)\n",
    "    # pro tip: always check correctness when optimizing your code!\n",
    "    assert np.allclose(x, y)\n",
    "    assert np.allclose(x, z)"
   ]
  },
  {
   "cell_type": "code",
   "execution_count": 4,
   "metadata": {},
   "outputs": [
    {
     "data": {
      "image/png": "[encoded data removed]",
      "text/plain": [
       "<Figure size 432x288 with 1 Axes>"
      ]
     },
     "metadata": {
      "needs_background": "light"
     },
     "output_type": "display_data"
    }
   ],
   "source": [
    "T.plot_feature('n');"
   ]
  },
  {
   "cell_type": "code",
   "execution_count": 5,
   "metadata": {},
   "outputs": [
    {
     "name": "stdout",
     "output_type": "stream",
     "text": [
      "fast is 10.8188x faster than slow (\u001b[0;33mp=0.08099\u001b[0m, mean: slow: 0.552587, fast: 0.0510765)\n",
      "fast is 15.0779x faster than slowest (\u001b[0;32mp=0.03201\u001b[0m, mean: slowest: 0.770126, fast: 0.0510765)\n"
     ]
    }
   ],
   "source": [
    "T.compare()"
   ]
  },
  {
   "cell_type": "markdown",
   "metadata": {},
   "source": [
    "**What's going on?**\n",
    "\n",
    "As you can see in the plots, the `slow` and `slowest` algorithms run at similar speeds despite all that extra effort to implement the fancy formula.  As expected, when carefully implemented, the rank-one update method is lightning fast.  \n",
    "\n",
    "I suspect that this mistake is quite common. By default, multiplication is a left-associative operation.  This case results in an unnecessary matrix-matrix product instead of an outer-product of two matrix-vector products. \n",
    "\n",
    "Looking forward, I suggest that authors put explicit parenthesis in the rank-one update formula:\n",
    "\n",
    "$$\n",
    "(A + u \\, v^\\top)^{-1} = B - \\frac{1}{1 + v^\\top B\\, u} \\left(B\\, u\\right)\\, \\left(v^\\top B\\right)\n",
    "$$\n",
    "\n",
    "\n",
    "So, coders, please be careful when translating math into code.  Mathers, please help us coders out by putting parens in equations."
   ]
  },
  {
   "cell_type": "markdown",
   "metadata": {},
   "source": [
    "### Bonus 🔥"
   ]
  },
  {
   "cell_type": "markdown",
   "metadata": {},
   "source": [
    "To make this method really fast, we can use specialized [BLAS](https://en.wikipedia.org/wiki/Basic_Linear_Algebra_Subprograms) routines for rank-one updates.  Thanks to \n",
    "Dr. Nikos Karampatziakis for suggesting it on [Twitter](https://twitter.com/eigenikos/status/1375143742064062464). \n",
    "\n",
    "Specifically, [DGER](https://docs.scipy.org/doc/scipy/reference/generated/scipy.linalg.blas.dger.html), which computes\n",
    "$$\n",
    "B \\gets B + \\alpha \\, x\\, y^\\top\n",
    "$$  "
   ]
  },
  {
   "cell_type": "markdown",
   "metadata": {},
   "source": [
    "The following methods have a slightly different API as they do updates to $B$ *in place*."
   ]
  },
  {
   "cell_type": "code",
   "execution_count": 6,
   "metadata": {},
   "outputs": [],
   "source": [
    "def fastest(B,u,v):\n",
    "    # Warning: `overwrite_a=True` silently fails when B is not an order=F array!\n",
    "    assert B.flags['F_CONTIGUOUS']\n",
    "    Bu = B @ u\n",
    "    alpha = -1 / (1 + v.T @ Bu)\n",
    "    scipy.linalg.blas.dger(alpha, Bu, v.T @ B, a=B, overwrite_a=1)"
   ]
  },
  {
   "cell_type": "code",
   "execution_count": 7,
   "metadata": {},
   "outputs": [],
   "source": [
    "def faster(B,u,v):\n",
    "    Bu = B @ u\n",
    "    np.subtract(B, Bu @ (v.T @ B) / (1 + v.T @ Bu), out=B)"
   ]
  },
  {
   "cell_type": "code",
   "execution_count": 8,
   "metadata": {},
   "outputs": [
    {
     "name": "stderr",
     "output_type": "stream",
     "text": [
      "100.0% (10/10) [======================================================] 00:00:12\n"
     ]
    }
   ],
   "source": [
    "T2 = timers()\n",
    "for (n, A, B, u, v) in workload():\n",
    "    ref = fast(A, B, u, v)\n",
    "    \n",
    "    x = B.copy()\n",
    "    with T2['faster'](n=n):\n",
    "        faster(x,u,v)\n",
    "    assert np.allclose(ref, x)\n",
    "\n",
    "    y = np.array(B.copy(), order='F', copy=True)\n",
    "    with T2['fastest'](n=n):\n",
    "        fastest(y,u,v)\n",
    "    assert np.allclose(ref, y)"
   ]
  },
  {
   "cell_type": "code",
   "execution_count": 9,
   "metadata": {},
   "outputs": [
    {
     "data": {
      "image/png": "[encoded data removed]",
      "text/plain": [
       "<Figure size 432x288 with 1 Axes>"
      ]
     },
     "metadata": {
      "needs_background": "light"
     },
     "output_type": "display_data"
    }
   ],
   "source": [
    "T2.plot_feature('n');"
   ]
  },
  {
   "cell_type": "code",
   "execution_count": 10,
   "metadata": {},
   "outputs": [
    {
     "name": "stdout",
     "output_type": "stream",
     "text": [
      "fastest is 6.8440x faster than faster (\u001b[0;32mp=0.03783\u001b[0m, mean: faster: 0.0477374, fastest: 0.0069751)\n"
     ]
    }
   ],
   "source": [
    "T2.compare()"
   ]
  },
  {
   "cell_type": "markdown",
   "metadata": {},
   "source": [
    "## Closing\n",
    "\n",
    "Be careful translating math into code.  Also, if you have a *symmetric* matrix, such as a covariance or Kernel matrix, it is generally more efficient (in terms of constant factors) and numerically stable to perform rank-one updates to the Cholesky factorization.\n",
    "\n",
    "**Acknowledgements**: I'd like to thank [Nikos Karampatziakis](http://lowrank.net/nikos/index.html) and [Suzanna Sia](https://suzyahyah.github.io/about/) for comments, corrections, and/or suggestions that improved this article."
   ]
  }
 ],
 "metadata": {
  "kernelspec": {
   "display_name": "Python 3",
   "language": "python",
   "name": "python3"
  },
  "language_info": {
   "codemirror_mode": {
    "name": "ipython",
    "version": 3
   },
   "file_extension": ".py",
   "mimetype": "text/x-python",
   "name": "python",
   "nbconvert_exporter": "python",
   "pygments_lexer": "ipython3",
   "version": "3.8.8"
  }
 },
 "nbformat": 4,
 "nbformat_minor": 4
}
