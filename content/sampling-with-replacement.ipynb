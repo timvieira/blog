{
 "cells": [
  {
   "cell_type": "markdown",
   "metadata": {},
   "source": [
    "# Better sampling *with* replacement?"
   ]
  },
  {
   "cell_type": "code",
   "execution_count": 1,
   "metadata": {},
   "outputs": [],
   "source": [
    "import numpy as np, pylab as pl\n",
    "from arsenal.maths import random_dist, sample, spherical"
   ]
  },
  {
   "cell_type": "code",
   "execution_count": 2,
   "metadata": {},
   "outputs": [],
   "source": [
    "def mc(p, u):\n",
    "    return importance_sampling(p,p,u)\n",
    "    \n",
    "def importance_sampling(p, q, u):\n",
    "    n = len(p); k = len(u)\n",
    "    Y = sample(q, u=u)\n",
    "    x = np.zeros(n)\n",
    "    for i in Y:\n",
    "        x[i] += p[i]/q[i]\n",
    "    return x / k"
   ]
  },
  {
   "cell_type": "markdown",
   "metadata": {},
   "source": [
    "Next, we will consider applying the Horvitz–Thompson estimator for sampling *with* replacement from a finite population.  Below, is an implementation of the estimator."
   ]
  },
  {
   "cell_type": "code",
   "execution_count": 3,
   "metadata": {},
   "outputs": [],
   "source": [
    "def mc_ht(p, q, u):\n",
    "    n = len(p); k = len(u)\n",
    "    Y = sample(q, u=u)      # sample with replacement from q\n",
    "    S = set(Y)              # removes duplicates [ |Y| <= k ]\n",
    "    pi = (1 - (1 - q)**k)   # inclusion probabilities\n",
    "    return ht(p, pi, S)\n",
    "    \n",
    "def ht(p, pi, S):\n",
    "    x = np.zeros(n)\n",
    "    for i in S: x[i] += p[i]/pi[i]  # HT estimator\n",
    "    return x"
   ]
  },
  {
   "cell_type": "markdown",
   "metadata": {},
   "source": [
    "What's the inclusion probability $\\pi$? If we take $k$ samples with replacement from $q$, what is the probability that we sample item i at least once?\n",
    "$$\n",
    "\\begin{align}\n",
    "\\pi_i \n",
    "&= \\mathrm{Pr}[ i \\in \\{ Y_1, \\ldots, Y_k \\} ] \\\\\n",
    "&= 1 - \\mathrm{Pr}[ i \\not\\in \\{ Y_1, \\ldots, Y_k \\} ] \\\\\n",
    "&= 1 - Pr[ Y_1 \\ne i ] \\cdot \\ldots \\cdot Pr[ Y_k \\ne i ]   \\quad\\text{# } Y_1 \\ldots Y_k \\text{ are independent} \\\\\n",
    "&= 1 - Pr[ Y \\ne i ]^k     \\quad\\text{# $Y$'s are identically distributed} \\\\\n",
    "&= 1 - (1 - q_i)^k\n",
    "\\end{align}\n",
    "$$\n",
    "    \n",
    "Warning: This design might not sample $k$ distinct items.  Thus, the inclusion probabilties sum to less than k, $\\sum_{i=1}^n 1 - (1 - q_i)^k \\le k$"
   ]
  },
  {
   "cell_type": "markdown",
   "metadata": {},
   "source": [
    "## Experiment\n",
    "\n",
    "Set up a synthetic estimation problem."
   ]
  },
  {
   "cell_type": "code",
   "execution_count": 4,
   "metadata": {},
   "outputs": [],
   "source": [
    "def anneal(p, gamma):\n",
    "    q = p**gamma\n",
    "    q /= q.sum()\n",
    "    return q\n",
    "\n",
    "n = 10\n",
    "p = anneal(random_dist(n), 2)"
   ]
  },
  {
   "cell_type": "code",
   "execution_count": 5,
   "metadata": {},
   "outputs": [
    {
     "data": {
      "image/png": "[encoded data removed]",
      "text/plain": [
       "<Figure size 432x288 with 1 Axes>"
      ]
     },
     "metadata": {
      "needs_background": "light"
     },
     "output_type": "display_data"
    }
   ],
   "source": [
    "pl.bar(range(n), np.sort(p)[::-1]); pl.ylabel('p'); pl.xlabel('U'); pl.xticks(range(n));"
   ]
  },
  {
   "cell_type": "code",
   "execution_count": 6,
   "metadata": {},
   "outputs": [],
   "source": [
    "T = 100\n",
    "reps = 100\n",
    "ts = range(1,1+T)\n",
    "\n",
    "def ht_annealed(p, u): return mc_ht(p, anneal(p, 0.5), u)\n",
    "def ht_uniform(p, u):  return mc_ht(p, np.ones(n)/n, u)\n",
    "def ht_direct(p, u):   return mc_ht(p, p, u)\n",
    "\n",
    "def imp(p, u):         return importance_sampling(p, imp.q, u)\n",
    "imp.q = anneal(p, 0.5) #random_dist(n)"
   ]
  },
  {
   "cell_type": "code",
   "execution_count": 7,
   "metadata": {},
   "outputs": [
    {
     "name": "stderr",
     "output_type": "stream",
     "text": [
      "100.0% (100/100) [====================================================] 00:00:01\n"
     ]
    }
   ],
   "source": [
    "from collections import defaultdict\n",
    "from arsenal import iterview\n",
    "runs = defaultdict(list)\n",
    "for _ in iterview(range(reps)):\n",
    "    u = np.random.uniform(0,1,size=T)    # common random numbers\n",
    "    for method in [\n",
    "        mc, \n",
    "        ht_direct, \n",
    "        imp,\n",
    "        #ht_annealed, \n",
    "        #ht_uniform\n",
    "    ]:\n",
    "        run = [method(p, u[:t]) for t in range(1,T+1)]\n",
    "        runs[method].append(run)"
   ]
  },
  {
   "cell_type": "code",
   "execution_count": 8,
   "metadata": {},
   "outputs": [
    {
     "data": {
      "image/png": "[encoded data removed]",
      "text/plain": [
       "<Figure size 432x288 with 1 Axes>"
      ]
     },
     "metadata": {
      "needs_background": "light"
     },
     "output_type": "display_data"
    }
   ],
   "source": [
    "for method in runs:\n",
    "    err = np.abs(runs[method] - p).sum(axis=2)\n",
    "    pl.plot(ts, np.mean(err, axis=0), label=method.__name__)\n",
    "pl.legend(loc='best'); pl.loglog();"
   ]
  },
  {
   "cell_type": "markdown",
   "metadata": {},
   "source": [
    "# Variance analysis"
   ]
  },
  {
   "cell_type": "markdown",
   "metadata": {},
   "source": [
    "### Horvitz–Thompson variance"
   ]
  },
  {
   "cell_type": "markdown",
   "metadata": {},
   "source": [
    "The general formula for the variance of the HT estimator is [DOUBLE CHECK; this might be making extra assumptions about the design]\n",
    "$$\n",
    "\\mathrm{Var}\\left[ \\mu_{\\text{ht}} \\right] = \\sum_{i=1}^n \\pi_i \\left( \\frac{p_i}{\\pi_i} - p_i \\right)^2 + (1-\\pi_i) p_i^2 \n",
    "= \\sum_{i=1}^m  \\frac{p_i^2}{\\pi_i} - p_i^2\n",
    "$$\n",
    "\n",
    "XXX: revise with the derivation later in this document.  This equations works as the min-var objective regardless of indep assumptions on the sampling design."
   ]
  },
  {
   "cell_type": "code",
   "execution_count": 9,
   "metadata": {},
   "outputs": [],
   "source": [
    "def ht_variance(p, pi, k):\n",
    "    return sum(\n",
    "        p[i]**2/pi[i] - p[i]**2\n",
    "        for i in range(n)\n",
    "    )"
   ]
  },
  {
   "cell_type": "markdown",
   "metadata": {},
   "source": [
    "For estimators with the general HT form, the minimum variance choice for $\\pi$ is choice used in threshold sampling.  However, the scheme only controls the expected size of the sample to equal $k$.  Tweaking the scheme to sample exactly $k$ is more challenging because the samples can no longer be drawn independently, which makes the expression for the variance tricky to work."
   ]
  },
  {
   "cell_type": "markdown",
   "metadata": {},
   "source": [
    "### Importance sampling variance"
   ]
  },
  {
   "cell_type": "markdown",
   "metadata": {},
   "source": [
    "$$\n",
    "\\mathrm{Var}\\left[ \\mu_{\\text{imp}} \\right] = \\frac{1}{k} \\sum_{i=1}^n q_i \\left( \\frac{p_i}{q_i} - p_i \\right)^2 + (1-q_i) p_i^2 = \\frac{1}{k} \\sum_{i=1}^n \\frac{p_i^2}{q_i} - p_i^2\n",
    "$$"
   ]
  },
  {
   "cell_type": "code",
   "execution_count": 10,
   "metadata": {},
   "outputs": [],
   "source": [
    "def var_importance_sampling(p, q, k):\n",
    "    n = len(p)\n",
    "    x = np.zeros(n)\n",
    "    for i in range(n):        \n",
    "        x[i] += p[i]**2/q[i] - p[i]**2               \n",
    "    return np.sum(x / k)"
   ]
  },
  {
   "cell_type": "markdown",
   "metadata": {},
   "source": [
    "#### Optimal proposal distribution ($q=p$)\n",
    "\n",
    "I have previously ranted about how the optimal proposal distribution is not $q$.  However, under the unbiased + expected squared error conditions.  It is the optimal choice for the importance sampling type estimators.  We formalized this below.\n",
    "\n",
    "**Proposition:** The minimum variance choice for $q$ is $p$.\n",
    "\n",
    "**Proof:** First, we write out the Lagrangian for picking $q$ with optimal variance:\n",
    "$$\n",
    "\\begin{cases}\n",
    "\\underset{{q_1, \\ldots q_n}}{\\mathrm{minimize}}\\\n",
    "   & \\frac{1}{k} \\sum_{i=1}^n \\frac{p_i^2}{q_i} \\\\\n",
    "\\mathrm{subject\\ to} \n",
    "  & \\sum_{i=1}^n q_i = 1 \\\\\n",
    "  & q_1, \\ldots q_n \\ge 0\n",
    "\\end{cases}\n",
    "$$\n",
    "\n",
    "$$\n",
    "L(q_1, \\ldots q_n, \\lambda) \n",
    "= \\frac{1}{k} \\sum_{i=1}^n \\frac{p_i^2}{q_i}\n",
    "- \\lambda \\left(1 - \\sum_{i=1}^n q_i \\right)\n",
    "$$"
   ]
  },
  {
   "cell_type": "markdown",
   "metadata": {},
   "source": [
    "Now, solve for $q$ and $\\lambda$ which make $L$'s parital derivatives similatenously zero.\n",
    "$$\n",
    "\\begin{align}\n",
    "0\n",
    "&= \\nabla_{q_j}\\left[  L(q_1, \\ldots q_n, \\lambda) \\right] \\\\\n",
    "&= \\nabla_{q_j}\\left[ \\frac{1}{k} \\sum_{i=1}^n \\frac{p_i^2}{q_i}  - \\lambda \\left( 1 - \\sum_{i=1}^n q_i \\right) \\right] \\\\ \n",
    "&= \\frac{1}{k} \\sum_{i=1}^n \n",
    "    \\nabla_{q_j}\\left[ \\frac{p_i^2}{q_i} \\right]  \n",
    "     + \\lambda \\sum_{i=1}^n \\nabla_{q_j}\\left[ q_i \\right] \\\\\n",
    "&= \\lambda - \\frac{1}{k} \\frac{p_j^2}{q_j^2} \\\\\n",
    "\\lambda &= \\frac{1}{k} \\frac{p_j^2}{q_j^2} \\\\\n",
    "q_j^2 &= \\frac{p_j^2 }{ k \\lambda } \\\\\n",
    "\\sqrt{q_j^2} &= \\sqrt{\\frac{p_j^2 }{ k \\lambda }} \\\\\n",
    "q_j &= \\frac{p_j}{ \\sqrt{ k \\lambda }} \\\\\n",
    "\\end{align}\n",
    "$$\n",
    "\n",
    "and, the constraint that $\\nabla_\\lambda L = 0$ just replicates the constraint corresponding to $\\lambda$.\n",
    "$$\n",
    "\\begin{align}\n",
    "\\left(1 - \\sum_{i=1}^n q_i \\right) &= 0 \\\\\n",
    "1 &= \\sum_{i=1}^n q_i\n",
    "\\end{align}\n",
    "$$\n",
    "\n",
    "Clearly, the only valid solution to all these equations is $q = p$."
   ]
  },
  {
   "cell_type": "markdown",
   "metadata": {},
   "source": [
    "## What's going on?"
   ]
  },
  {
   "cell_type": "code",
   "execution_count": 11,
   "metadata": {},
   "outputs": [
    {
     "data": {
      "image/png": "[encoded data removed]",
      "text/plain": [
       "<Figure size 432x288 with 1 Axes>"
      ]
     },
     "metadata": {
      "needs_background": "light"
     },
     "output_type": "display_data"
    }
   ],
   "source": [
    "def variance(p, q, k):\n",
    "    assert len(p) == len(q) == n, [len(p), len(q), n]\n",
    "    assert np.allclose(np.sum(q), 1.0)\n",
    "    incl = 1 - (1 - q)**k    \n",
    "    return ht_variance(p, incl, k)\n",
    "\n",
    "method = ht_direct\n",
    "err = (np.abs(runs[method] - p[None,None,:])**2).sum(axis=2)\n",
    "pl.plot(ts, np.mean(err, axis=0), label=method.__name__)\n",
    "pl.plot(ts, [variance(p, p, t) for t in ts], label='variance')\n",
    "pl.legend(loc='best'); pl.loglog();"
   ]
  },
  {
   "cell_type": "code",
   "execution_count": 12,
   "metadata": {},
   "outputs": [
    {
     "data": {
      "image/png": "[encoded data removed]",
      "text/plain": [
       "<Figure size 432x288 with 1 Axes>"
      ]
     },
     "metadata": {
      "needs_background": "light"
     },
     "output_type": "display_data"
    }
   ],
   "source": [
    "method = imp\n",
    "err = (np.abs(runs[method] - p[None,None,:])**2).sum(axis=2)\n",
    "pl.plot(ts, np.mean(err, axis=0), label=method.__name__)\n",
    "pl.plot(ts, [var_importance_sampling(p, imp.q, t) for t in ts], label='variance')\n",
    "pl.legend(loc='best'); pl.loglog();"
   ]
  },
  {
   "cell_type": "code",
   "execution_count": 13,
   "metadata": {},
   "outputs": [
    {
     "name": "stdout",
     "output_type": "stream",
     "text": [
      "\n",
      "Comparison: n=10\n",
      "  norms: \u001b[0;32m[104.918, 104.914]\u001b[0m\n",
      "  zero F1: \u001b[0;32m1\u001b[0m\n",
      "  pearson: \u001b[0;32m1\u001b[0m\n",
      "  spearman: \u001b[0;32m1\u001b[0m\n",
      "  ℓ∞: \u001b[0;33m0.00305171\u001b[0m\n",
      "  ℓ₂: \u001b[0;33m0.00305171\u001b[0m\n",
      "  same-sign: \u001b[0;32m100.0% (10/10)\u001b[0m\n",
      "  regression: \u001b[0;33m[1.000 0.000]\u001b[0m\n",
      "  got is larger: \u001b[0;31m100.0% (10/10)\u001b[0m\n",
      "\n"
     ]
    },
    {
     "name": "stderr",
     "output_type": "stream",
     "text": [
      "\r",
      "  0.0% ( 0/10) [>                                                 ] ETA --:--:--\r",
      "100.0% (10/10) [======================================================] 00:00:00\n"
     ]
    }
   ],
   "source": [
    "def d_variance(p, q, k):\n",
    "    incl = (1-(1-q)**k)\n",
    "    return p**2 * -incl**-2 * (1-q)**(k-1) * k\n",
    "\n",
    "from arsenal.maths import fdcheck, random_dist\n",
    "k = 20\n",
    "q = random_dist(n)\n",
    "fdcheck(lambda: variance(p, q, k), q, d_variance(p, q, k), throw=False);"
   ]
  },
  {
   "cell_type": "code",
   "execution_count": 14,
   "metadata": {},
   "outputs": [
    {
     "name": "stdout",
     "output_type": "stream",
     "text": [
      "\n",
      "Comparison: n=10\n",
      "  norms: \u001b[0;32m[0.17376, 0.17376]\u001b[0m\n",
      "  zero F1: \u001b[0;32m1\u001b[0m\n",
      "  pearson: \u001b[0;32m1\u001b[0m\n",
      "  spearman: \u001b[0;32m1\u001b[0m\n",
      "  ℓ∞: \u001b[0;33m8.98651e-12\u001b[0m\n",
      "  ℓ₂: \u001b[0;33m1.52365e-11\u001b[0m\n",
      "  same-sign: \u001b[0;32m100.0% (10/10)\u001b[0m\n",
      "  regression: \u001b[0;32m[1.000 0.000]\u001b[0m\n",
      "\n"
     ]
    },
    {
     "name": "stderr",
     "output_type": "stream",
     "text": [
      "\r",
      "  0.0% ( 0/10) [>                                                 ] ETA --:--:--\r",
      "100.0% (10/10) [======================================================] 00:00:00\n"
     ]
    }
   ],
   "source": [
    "from scipy.optimize import minimize\n",
    "from arsenal.maths import softmax, d_softmax, spherical\n",
    "\n",
    "def d_variance_softmax(p, w, k):\n",
    "    q = softmax(w)\n",
    "    dq = d_variance(p, q, k)\n",
    "    return d_softmax(q, w, dq)\n",
    "\n",
    "w = spherical(n)\n",
    "k = 5\n",
    "fdcheck(lambda: variance(p, softmax(w), k), w, d_variance_softmax(p, w, k), throw=False);"
   ]
  },
  {
   "cell_type": "code",
   "execution_count": 15,
   "metadata": {},
   "outputs": [
    {
     "name": "stderr",
     "output_type": "stream",
     "text": [
      "100.0% (100/100) [====================================================] 00:00:00\n"
     ]
    }
   ],
   "source": [
    "from arsenal import iterview\n",
    "solutions = []\n",
    "xxx = np.log(p)\n",
    "for t in iterview(ts):\n",
    "    sol = minimize(lambda w: variance(p, softmax(w), k=t), xxx, \n",
    "                   jac=lambda w: d_variance_softmax(p, w, k=t))\n",
    "    solutions.append(softmax(sol.x))\n",
    "    xxx = sol.x\n",
    "    \n",
    "# I believe, but have not proved, q*=p when k=1 \n",
    "assert np.allclose(p, solutions[0])"
   ]
  },
  {
   "cell_type": "code",
   "execution_count": 16,
   "metadata": {},
   "outputs": [
    {
     "data": {
      "image/png": "[encoded data removed]",
      "text/plain": [
       "<Figure size 432x288 with 1 Axes>"
      ]
     },
     "metadata": {
      "needs_background": "light"
     },
     "output_type": "display_data"
    }
   ],
   "source": [
    "pl.plot(ts, [variance(p, p, t) for t in ts], label='direct')\n",
    "pl.plot(ts, [variance(p, q, t) for q, t in zip(solutions, ts)], label='optimized')\n",
    "pl.loglog(); pl.legend(loc='best');"
   ]
  },
  {
   "cell_type": "code",
   "execution_count": 17,
   "metadata": {},
   "outputs": [
    {
     "data": {
      "image/png": "[encoded data removed]",
      "text/plain": [
       "<Figure size 432x288 with 1 Axes>"
      ]
     },
     "metadata": {
      "needs_background": "light"
     },
     "output_type": "display_data"
    }
   ],
   "source": [
    "pl.plot(np.array(solutions));\n",
    "pl.axhline(1/n, linestyle=':',c='k');"
   ]
  },
  {
   "cell_type": "code",
   "execution_count": 18,
   "metadata": {},
   "outputs": [],
   "source": [
    "from arsenal import iterview\n",
    "sol = minimize(lambda w: var_importance_sampling(p, softmax(w), k=t), np.zeros(n))\n",
    "imp_solution = softmax(sol.x)"
   ]
  },
  {
   "cell_type": "code",
   "execution_count": 19,
   "metadata": {},
   "outputs": [
    {
     "name": "stdout",
     "output_type": "stream",
     "text": [
      "\n",
      "Comparison: n=10\n",
      "  norms: \u001b[0;32m[0.46256, 0.462725]\u001b[0m\n",
      "  zero F1: \u001b[0;32m1\u001b[0m\n",
      "  pearson: \u001b[0;32m1\u001b[0m\n",
      "  spearman: \u001b[0;32m1\u001b[0m\n",
      "  ℓ∞: \u001b[0;33m0.000172593\u001b[0m\n",
      "  ℓ₂: \u001b[0;33m0.000324929\u001b[0m\n",
      "  same-sign: \u001b[0;32m100.0% (10/10)\u001b[0m\n",
      "  regression: \u001b[0;33m[0.999 0.000]\u001b[0m\n",
      "\n"
     ]
    }
   ],
   "source": [
    "compare(imp_solution, p);"
   ]
  },
  {
   "cell_type": "code",
   "execution_count": null,
   "metadata": {},
   "outputs": [],
   "source": []
  },
  {
   "cell_type": "code",
   "execution_count": null,
   "metadata": {},
   "outputs": [],
   "source": []
  }
 ],
 "metadata": {
  "kernelspec": {
   "display_name": "Python 3",
   "language": "python",
   "name": "python3"
  },
  "language_info": {
   "codemirror_mode": {
    "name": "ipython",
    "version": 3
   },
   "file_extension": ".py",
   "mimetype": "text/x-python",
   "name": "python",
   "nbconvert_exporter": "python",
   "pygments_lexer": "ipython3",
   "version": "3.8.5"
  }
 },
 "nbformat": 4,
 "nbformat_minor": 4
}
