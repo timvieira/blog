{
 "cells": [
  {
   "cell_type": "markdown",
   "metadata": {},
   "source": [
    "# Better sampling *with* replacement?\n",
    "\n",
    "In this article, we look at methods for estimating means in a finite population. [Previously](https://timvieira.github.io/blog/post/2017/07/03/estimating-means-in-a-finite-universe/), I wrote about the sampling *without* replacement methods for this problem.  Today, I am going to look at sampling *with* replacement.\n",
    "\n",
    "Formally, we're going to compare a few methods for $K$-sparse representation of a probability distributions $p$ over $\\{ 0, \\ldots, n \\}$.\n",
    "\n",
    "Suppose, we sample points i.i.d. with replacement from a distribution $q$ over $\\{ 0, \\ldots, n \\}$.\n",
    "\n",
    "$$\n",
    "x_1, \\ldots, x_K \\overset{\\text{i.i.d.}}{\\sim} q\n",
    "$$\n",
    "\n",
    "We then put the samples in a list\n",
    "\n",
    "$$\n",
    "S = [x_1, \\ldots, x_K]\n",
    "$$"
   ]
  },
  {
   "cell_type": "markdown",
   "metadata": {},
   "source": [
    "**Goal:** A method for taking the sample $S$ and forming an unbiased $N$-dimensional representation of the distribution with at most $K$ nonzero elements.\n",
    "\n",
    "$$\n",
    "\\widehat{p}(S) \\quad\\text{such that}\\quad \\text{for all } S, \\|\\widehat{p}(S) \\|_0 \\le K, \\text{ and } \\mathbb{E}_S\\left[ \\widehat{p}(S) \\right] = p\n",
    "$$\n",
    "\n",
    "Clearly, we'd rather sample without replacement.  But, suppose for technical reasons, we are only allowed i.i.d. draws from a distributions $q$ that we are allowed to manipulate.  How far can we push this scheme?"
   ]
  },
  {
   "cell_type": "markdown",
   "metadata": {},
   "source": [
    "**Estimators:** We will compare two estimators that operate on *exactly* the same sample $S$.  The primary difference between the two methods is that method 2 puts the samples in a set (removing duplicates) and method 1 keeps them in a list.\n",
    "\n",
    "*Method 1: Importance sampling estimator*\n",
    "\n",
    "$$\n",
    "\\widehat{p}_i(X) = \\frac{1}{K} \\sum_{k=1}^K \\frac{p(x_k)}{q(x_k)} 1[ x_k = i ]\\quad\\text{for } i = 1,\\ldots,n\n",
    "$$\n",
    "\n",
    "*Method 2: Horvitz–Thompson estimator*\n",
    "\n",
    "$$\n",
    "\\widehat{p}_i(X) = \\frac{p_i}{\\pi_i} 1[ i \\in S ]\\quad\\text{for } i = 1,\\ldots,n\n",
    "$$\n",
    "\n",
    "where $\\pi_i = \\mathrm{Pr}\\left[ i \\in S \\right]$\n",
    "\n",
    "Notice that both estimators are positive, but neither estimator is guaranteed to sum to 1 for all choices of $q$."
   ]
  },
  {
   "cell_type": "markdown",
   "metadata": {},
   "source": [
    "What's the inclusion probability $\\pi$? If we take $K$ i.i.d. samples with replacement from $q$, what is the probability that we sample item i at least once?\n",
    "$$\n",
    "\\begin{align}\n",
    "\\pi_i \n",
    "&= \\mathrm{Pr}[ i \\in S ] \\\\\n",
    "&= 1 - \\mathrm{Pr}[ i \\not\\in \\{ X_1, \\ldots, X_k \\} ] \\\\\n",
    "&= 1 - \\mathrm{Pr}[ X \\ne i ]^k     \\quad\\text{# $X$'s are i.i.d} \\\\\n",
    "&= 1 - (1 - q_i)^k\n",
    "\\end{align}\n",
    "$$\n",
    "    \n",
    "Warning: This design might not sample $k$ distinct items.  Thus, the inclusion probabilties are a bit unusual as they generally sum to less than $k$.\n",
    "\n",
    "- Exercise for the reader: Show that $\\sum_{i=1}^n 1 - (1 - q_i)^k \\le k$ given $\\sum_{i=0}^{n} q_i = 1$ and $q_1\\ldots,q_n \\ge 0$."
   ]
  },
  {
   "cell_type": "markdown",
   "metadata": {},
   "source": [
    "How do we know if we're doing a good job?  A reasonable metric is the expected sum of squared error\n",
    "\n",
    "$$\n",
    "\\mathcal{E} = \\mathbb{E}_S\\left[ \\sum_{i=1}^N \\left( \\widehat{p}_i(S) - p_i \\right)^2 \\right] \n",
    "$$"
   ]
  },
  {
   "cell_type": "markdown",
   "metadata": {},
   "source": [
    "For IS,\n",
    "$$\n",
    "\\mathcal{E}_{\\mathrm{is}} = \\frac{1}{k} \\sum_{i=1}^n q_i \\left( \\frac{p_i}{q_i} - p_i \\right)^2 + (1-q_i) p_i^2 = \\frac{1}{k} \\sum_{i=1}^n \\frac{p_i^2}{q_i} - p_i^2\n",
    "$$"
   ]
  },
  {
   "cell_type": "markdown",
   "metadata": {},
   "source": [
    "For HT,\n",
    "\n",
    "$$\n",
    "\\mathcal{E}_{\\mathrm{ht}}\n",
    "= \\sum_{i=1}^n \\pi_i \\left( \\frac{p_i}{\\pi_i} - p_i \\right)^2 + (1-\\pi_i) p_i^2 \n",
    "= \\sum_{i=1}^n  \\frac{p_i^2}{\\pi_i} - p_i^2\n",
    "= \\sum_{i=1}^n  \\frac{p_i^2}{1 - (1 - q_i)^k} - p_i^2\n",
    "$$"
   ]
  },
  {
   "cell_type": "markdown",
   "metadata": {},
   "source": [
    "**How to pick $q$?** The choice of $q$ is important.  The optimal choice for importance sampling is $q=p$; regardless of $K$.  However, the optimial choice for HTMC is different. I do not believe there is a closed form solution for it (it seems unlikely given that it is the root of a high-degree polynomial in $k$), but it can be found numerically and it depends on $K$."
   ]
  },
  {
   "cell_type": "markdown",
   "metadata": {},
   "source": [
    "## Experiments"
   ]
  },
  {
   "cell_type": "code",
   "execution_count": 1,
   "metadata": {},
   "outputs": [],
   "source": [
    "def importance_sampling(p, q, u):\n",
    "    n = len(p); k = len(u)\n",
    "    Y = sample(q, u=u)\n",
    "    x = np.zeros(n)\n",
    "    for i in Y: x[i] += p[i]/q[i]\n",
    "    return x / k"
   ]
  },
  {
   "cell_type": "markdown",
   "metadata": {},
   "source": [
    "Next, we will consider applying the Horvitz–Thompson estimator for sampling *with* replacement from a finite population.  Below, is an implementation of the estimator."
   ]
  },
  {
   "cell_type": "code",
   "execution_count": 2,
   "metadata": {},
   "outputs": [],
   "source": [
    "def ht(p, pi, S):\n",
    "    x = np.zeros(n)\n",
    "    for i in S: x[i] += p[i]/pi[i]  # HT estimator\n",
    "    return x\n",
    "\n",
    "def htmc(p, q, u):\n",
    "    n = len(p); k = len(u)\n",
    "    Y = sample(q, u=u)      # sample with replacement from q\n",
    "    S = set(Y)              # removes duplicates [ |Y| <= k ]\n",
    "    pi = (1 - (1 - q)**k)   # inclusion probabilities\n",
    "    return ht(p, pi, S)    "
   ]
  },
  {
   "cell_type": "markdown",
   "metadata": {},
   "source": [
    "Set up a synthetic estimation problem.  The distribution $p$ is sampled form a distribution which is very likely to have a few heavy hitters."
   ]
  },
  {
   "cell_type": "code",
   "execution_count": 3,
   "metadata": {},
   "outputs": [],
   "source": [
    "import numpy as np, pylab as pl\n",
    "from arsenal import iterview\n",
    "from arsenal.maths import random_dist, sample, spherical, anneal, fdcheck, random_dist, softmax, d_softmax\n",
    "from collections import defaultdict\n",
    "from scipy.optimize import minimize\n",
    "\n",
    "n = 20\n",
    "p = anneal(random_dist(n), invT=2)"
   ]
  },
  {
   "cell_type": "code",
   "execution_count": 4,
   "metadata": {},
   "outputs": [
    {
     "data": {
      "image/png": "[encoded data removed]",
      "text/plain": [
       "<Figure size 432x288 with 1 Axes>"
      ]
     },
     "metadata": {
      "needs_background": "light"
     },
     "output_type": "display_data"
    }
   ],
   "source": [
    "pl.bar(range(n), np.sort(p)[::-1]); pl.ylabel('p'); pl.xlabel('U'); pl.xticks(range(n));"
   ]
  },
  {
   "cell_type": "code",
   "execution_count": 5,
   "metadata": {},
   "outputs": [],
   "source": [
    "def var_importance_sampling(p, q, k):\n",
    "    n = len(p)\n",
    "    x = np.zeros(n)\n",
    "    for i in range(n):        \n",
    "        x[i] += p[i]**2/q[i] - p[i]**2               \n",
    "    return np.sum(x / k)\n",
    "\n",
    "def var_ht(p, pi, k):\n",
    "    return sum(\n",
    "        p[i]**2/pi[i] - p[i]**2\n",
    "        for i in range(n)\n",
    "    )\n",
    "\n",
    "def var_htmc(p, q, k):\n",
    "    assert len(p) == len(q) == n, [len(p), len(q), n]\n",
    "    assert np.allclose(np.sum(q), 1.0)\n",
    "    incl = 1 - (1 - q)**k    \n",
    "    return var_ht(p, incl, k)\n",
    "\n",
    "def d_var_htmc(p, q, k):\n",
    "    incl = (1-(1-q)**k)\n",
    "    return p**2 * -incl**-2 * (1-q)**(k-1) * k\n",
    "\n",
    "def d_var_htmc_softmax(p, w, k):\n",
    "    q = softmax(w)\n",
    "    return d_softmax(q, w, d_var_htmc(p, q, k))"
   ]
  },
  {
   "cell_type": "code",
   "execution_count": 6,
   "metadata": {},
   "outputs": [],
   "source": [
    "T = 2*n\n",
    "reps = 1000\n",
    "ts = range(1,1+T)\n",
    "\n",
    "def ht_optimized(p, u): \n",
    "    return htmc(p, htmc_opt_p(len(u)), u)\n",
    "\n",
    "from arsenal.cache import memoize\n",
    "@memoize\n",
    "def htmc_opt_p(k):\n",
    "    sol = minimize(lambda w: var_htmc(p, softmax(w), k), np.log(p), \n",
    "                   jac=lambda w: d_var_htmc_softmax(p, w, k))\n",
    "    return softmax(sol.x)"
   ]
  },
  {
   "cell_type": "code",
   "execution_count": 7,
   "metadata": {},
   "outputs": [],
   "source": [
    "methods = {\n",
    "    'mc': (\n",
    "        lambda u: importance_sampling(p, p, u), \n",
    "        lambda k: var_importance_sampling(p, p, k),\n",
    "    ),\n",
    "    'ht-direct': ( \n",
    "        lambda u: htmc(p, p, u),\n",
    "        lambda k: var_htmc(p, p, k),\n",
    "    ),\n",
    "    'ht-opt': (\n",
    "        lambda u: ht_optimized(p, u), \n",
    "        lambda k: var_htmc(p, htmc_opt_p(k), k),\n",
    "    ),\n",
    "}"
   ]
  },
  {
   "cell_type": "code",
   "execution_count": 8,
   "metadata": {},
   "outputs": [
    {
     "name": "stderr",
     "output_type": "stream",
     "text": [
      "100.0% (1000/1000) [==================================================] 00:00:05\n"
     ]
    }
   ],
   "source": [
    "runs = defaultdict(list)\n",
    "u = np.random.uniform(0,1,size=(reps, T))    # common random numbers\n",
    "for r in iterview(range(reps)):\n",
    "    for name in methods:\n",
    "        method, _ = methods[name]\n",
    "        runs[name].append([method(u[r,:t]) for t in range(1,T+1)])"
   ]
  },
  {
   "cell_type": "code",
   "execution_count": 9,
   "metadata": {},
   "outputs": [
    {
     "data": {
      "image/png": "[encoded data removed]",
      "text/plain": [
       "<Figure size 864x576 with 1 Axes>"
      ]
     },
     "metadata": {
      "needs_background": "light"
     },
     "output_type": "display_data"
    }
   ],
   "source": [
    "from arsenal.viz import name2color\n",
    "pl.figure(figsize=(12,8))\n",
    "C = name2color()\n",
    "for name in runs:\n",
    "    err = (np.abs(runs[name] - p[None,None,:])**2).sum(axis=2)\n",
    "    m = np.mean(err, axis=0)\n",
    "    pl.plot(ts, m, c=C[name], linestyle=':', lw=.75, label=f'empirical {name}')\n",
    "    _, analytic = methods[name]\n",
    "    if analytic is not None: \n",
    "        pl.plot(ts, [analytic(t) for t in ts], label=f'analytic {name}', \n",
    "                c=C[name], alpha=0.5)\n",
    "pl.axvline(n, label='n', c='k', linestyle=':', alpha=0.5)\n",
    "pl.legend(loc='best'); #pl.loglog(); \n",
    "pl.semilogy();"
   ]
  },
  {
   "cell_type": "markdown",
   "metadata": {},
   "source": [
    "# Variance analysis"
   ]
  },
  {
   "cell_type": "markdown",
   "metadata": {},
   "source": [
    "#### Optimal proposal distribution ($q=p$)\n",
    "\n",
    "I have previously [ranted](https://timvieira.github.io/blog/post/2016/05/28/the-optimal-proposal-distribution-is-not-p/) about how the optimal proposal distribution is not $q$.  However, under the unbiased + expected squared error conditions.  It is the optimal choice for the importance sampling type estimators.  We formalized this below.\n",
    "\n",
    "**Proposition:** The minimum variance choice for $q$ is $p$."
   ]
  },
  {
   "cell_type": "markdown",
   "metadata": {},
   "source": [
    "## Gradient of HT-MC variance"
   ]
  },
  {
   "cell_type": "code",
   "execution_count": 10,
   "metadata": {},
   "outputs": [
    {
     "name": "stdout",
     "output_type": "stream",
     "text": [
      "\n",
      "Comparison: n=20\n",
      "  norms: \u001b[0;32m[53.5875, 53.5875]\u001b[0m\n",
      "  pearson: \u001b[0;32m1\u001b[0m\n",
      "  spearman: \u001b[0;32m1\u001b[0m\n",
      "  ℓ∞: \u001b[0;33m4.27397e-05\u001b[0m\n",
      "  ℓ₂: \u001b[0;33m4.27611e-05\u001b[0m\n",
      "  same-sign: \u001b[0;32m100.0% (20/20)\u001b[0m\n",
      "  regression: \u001b[0;32m[1.000 0.000] R=0.000\u001b[0m\n",
      "  have is larger: \u001b[0;31m 95.0% (19/20)\u001b[0m\n",
      "\n"
     ]
    },
    {
     "name": "stderr",
     "output_type": "stream",
     "text": [
      "\r",
      "  0.0% ( 0/20) [>                                                 ] ETA --:--:--\r",
      "100.0% (20/20) [======================================================] 00:00:00\n"
     ]
    }
   ],
   "source": [
    "k = 20\n",
    "q = random_dist(n)\n",
    "fdcheck(lambda: var_htmc(p, q, k), q, d_var_htmc(p, q, k), throw=False);"
   ]
  },
  {
   "cell_type": "code",
   "execution_count": 11,
   "metadata": {},
   "outputs": [
    {
     "name": "stdout",
     "output_type": "stream",
     "text": [
      "\n",
      "Comparison: n=20\n",
      "  norms: \u001b[0;32m[0.53744, 0.53744]\u001b[0m\n",
      "  pearson: \u001b[0;32m1\u001b[0m\n",
      "  spearman: \u001b[0;32m1\u001b[0m\n",
      "  ℓ∞: \u001b[0;33m4.78044e-11\u001b[0m\n",
      "  ℓ₂: \u001b[0;33m1.13039e-10\u001b[0m\n",
      "  same-sign: \u001b[0;32m100.0% (20/20)\u001b[0m\n",
      "  regression: \u001b[0;32m[1.000 -0.000] R=0.000\u001b[0m\n",
      "\n"
     ]
    },
    {
     "name": "stderr",
     "output_type": "stream",
     "text": [
      "\r",
      "  0.0% ( 0/20) [>                                                 ] ETA --:--:--\r",
      "100.0% (20/20) [======================================================] 00:00:00\n"
     ]
    }
   ],
   "source": [
    "w = spherical(n)\n",
    "k = 5\n",
    "fdcheck(lambda: var_htmc(p, softmax(w), k), w, d_var_htmc_softmax(p, w, k), throw=False);"
   ]
  },
  {
   "cell_type": "markdown",
   "metadata": {},
   "source": [
    "# Proofs"
   ]
  },
  {
   "cell_type": "markdown",
   "metadata": {},
   "source": [
    "**Proposition:** The optimial importance sampling proposal is $q=p$"
   ]
  },
  {
   "cell_type": "markdown",
   "metadata": {},
   "source": [
    "**Proof:** First, we write out the Lagrangian for picking $q$ with optimal variance:\n",
    "$$\n",
    "\\begin{cases}\n",
    "\\underset{{q_1, \\ldots q_n}}{\\mathrm{minimize}}\\\n",
    "   & \\frac{1}{k} \\sum_{i=1}^n \\frac{p_i^2}{q_i} \\\\\n",
    "\\mathrm{subject\\ to} \n",
    "  & \\sum_{i=1}^n q_i = 1 \\\\\n",
    "  & q_1, \\ldots q_n \\ge 0\n",
    "\\end{cases}\n",
    "$$\n",
    "\n",
    "$$\n",
    "L(q_1, \\ldots q_n, \\lambda) \n",
    "= \\frac{1}{k} \\sum_{i=1}^n \\frac{p_i^2}{q_i}\n",
    "- \\lambda \\left(1 - \\sum_{i=1}^n q_i \\right)\n",
    "$$\n",
    "\n",
    "Now, solve for $q$ and $\\lambda$ which make $L$'s parital derivatives similatenously zero.\n",
    "$$\n",
    "\\begin{align}\n",
    "0\n",
    "&= \\nabla_{q_j}\\left[  L(q_1, \\ldots q_n, \\lambda) \\right] \\\\\n",
    "&= \\nabla_{q_j}\\left[ \\frac{1}{k} \\sum_{i=1}^n \\frac{p_i^2}{q_i}  - \\lambda \\left( 1 - \\sum_{i=1}^n q_i \\right) \\right] \\\\ \n",
    "&= \\frac{1}{k} \\sum_{i=1}^n \n",
    "    \\nabla_{q_j}\\left[ \\frac{p_i^2}{q_i} \\right]  \n",
    "     + \\lambda \\sum_{i=1}^n \\nabla_{q_j}\\left[ q_i \\right] \\\\\n",
    "&= \\lambda - \\frac{1}{k} \\frac{p_j^2}{q_j^2} \\\\\n",
    "\\lambda &= \\frac{1}{k} \\frac{p_j^2}{q_j^2} \\\\\n",
    "q_j^2 &= \\frac{p_j^2 }{ k \\lambda } \\\\\n",
    "\\sqrt{q_j^2} &= \\sqrt{\\frac{p_j^2 }{ k \\lambda }} \\\\\n",
    "q_j &= \\frac{p_j}{ \\sqrt{ k \\lambda }} \\\\\n",
    "\\end{align}\n",
    "$$\n",
    "\n",
    "and, the constraint that $\\nabla_\\lambda L = 0$ just replicates the constraint corresponding to $\\lambda$.\n",
    "$$\n",
    "\\begin{align}\n",
    "\\left(1 - \\sum_{i=1}^n q_i \\right) &= 0 \\\\\n",
    "1 &= \\sum_{i=1}^n q_i\n",
    "\\end{align}\n",
    "$$\n",
    "\n",
    "Clearly, the only valid solution to all these equations is $q = p$.  Furthermore, this choice is optimal for any valid choice $k$."
   ]
  },
  {
   "cell_type": "code",
   "execution_count": 12,
   "metadata": {},
   "outputs": [
    {
     "name": "stdout",
     "output_type": "stream",
     "text": [
      "\n",
      "Comparison: n=20\n",
      "  norms: \u001b[0;32m[0.435396, 0.4354]\u001b[0m\n",
      "  pearson: \u001b[0;32m1\u001b[0m\n",
      "  spearman: \u001b[0;32m1\u001b[0m\n",
      "  ℓ∞: \u001b[0;33m0.000101288\u001b[0m\n",
      "  ℓ₂: \u001b[0;33m0.000207245\u001b[0m\n",
      "  same-sign: \u001b[0;32m100.0% (20/20)\u001b[0m\n",
      "  regression: \u001b[0;33m[1.000 0.000] R=0.000\u001b[0m\n",
      "\n"
     ]
    }
   ],
   "source": [
    "# Empirical verification\n",
    "sol = minimize(lambda w: var_importance_sampling(p, softmax(w), k=20), np.zeros(n))\n",
    "compare(softmax(sol.x), p);"
   ]
  },
  {
   "cell_type": "code",
   "execution_count": null,
   "metadata": {},
   "outputs": [],
   "source": []
  }
 ],
 "metadata": {
  "kernelspec": {
   "display_name": "Python 3",
   "language": "python",
   "name": "python3"
  },
  "language_info": {
   "codemirror_mode": {
    "name": "ipython",
    "version": 3
   },
   "file_extension": ".py",
   "mimetype": "text/x-python",
   "name": "python",
   "nbconvert_exporter": "python",
   "pygments_lexer": "ipython3",
   "version": "3.8.8"
  }
 },
 "nbformat": 4,
 "nbformat_minor": 4
}
