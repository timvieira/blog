{
 "cells": [
  {
   "cell_type": "markdown",
   "metadata": {},
   "source": [
    "# The optimal $K$-sparse estimator"
   ]
  },
  {
   "cell_type": "markdown",
   "metadata": {},
   "source": [
    "Write-up [here](https://www.overleaf.com/5144282174mzzmgkyqcyxd)"
   ]
  },
  {
   "cell_type": "code",
   "execution_count": 1,
   "metadata": {},
   "outputs": [],
   "source": [
    "from arsenal import Integerizer\n",
    "from arsenal.maths import random_dist, softmax, d_softmax\n",
    "from arsenal.maths.combinatorics import choose\n",
    "from collections import Counter\n",
    "from scipy.optimize import minimize\n",
    "from scipy.special import binom "
   ]
  },
  {
   "cell_type": "code",
   "execution_count": 2,
   "metadata": {},
   "outputs": [],
   "source": [
    "class ExplicitDistributionOverSets:\n",
    "    def __init__(self, P, n, k):\n",
    "        self.n, self.k = n, k\n",
    "        self.P = dict(P)\n",
    "        self.U = range(n)\n",
    "        self.p1 = np.zeros(n)\n",
    "        for Y, p in self.P.items():\n",
    "            assert len(Y) == k   # sanity check\n",
    "            for i in Y: self.p1[i] += p\n",
    "        Z = sum(self.P.values())\n",
    "        assert np.allclose(Z, 1.0), Z   # sanity check\n",
    "\n",
    "    def objective(self, p):\n",
    "        return sum((p[i]**2 / self.p1[i]) - p[i]**2 for i in self.U)\n",
    "\n",
    "    def gradient(self, p):\n",
    "        g = Counter()\n",
    "        for Y in self.P:\n",
    "            for i in Y:\n",
    "                g[Y] += -p[i]**2 / self.p1[i]**2\n",
    "        return g    \n",
    "    \n",
    "    def objective_slow(self, p):\n",
    "        \"Slower implementation of objective, used to test the math.\"\n",
    "        return sum(self.P[Y] * sum(((p[i] / self.p1[i]) * (i in Y) - p[i])**2 for i in self.U) for Y in self.P)\n",
    "\n",
    "    def objective_l1(self, p):\n",
    "        return sum(self.P[Y] * sum(abs((p[i] / self.p1[i]) * (i in Y) - p[i]) for i in self.U) for Y in self.P)\n",
    "        \n",
    "    def sample(self):\n",
    "        domain = list(self.P.keys())\n",
    "        i = sample(list(self.P.values()))\n",
    "        return domain[i]\n",
    "\n",
    "    def show(self):\n",
    "        for prob, s in sorted(zip(self.P.values(), self.P.keys()), reverse=True):\n",
    "            if prob > 1e-5:\n",
    "                print(f'{prob:.3}: {sorted(s)}')\n",
    "                "
   ]
  },
  {
   "cell_type": "markdown",
   "metadata": {},
   "source": [
    "To get avoid needing to worry about the constraints that ensure that Q is a distribution, we use a softmax parameterization."
   ]
  },
  {
   "cell_type": "code",
   "execution_count": 3,
   "metadata": {},
   "outputs": [],
   "source": [
    "class Thing(ExplicitDistributionOverSets):\n",
    "    def __init__(self, w, n, k):\n",
    "        assert len(w) == binom(n, k)\n",
    "        self.w = w\n",
    "        self.p = softmax(w)\n",
    "        U = list(range(n))\n",
    "        self.ix = ix = Integerizer()\n",
    "        P = {frozenset(Y): self.p[ix(frozenset(Y))] for Y in choose(U, k)}\n",
    "        super().__init__(P, n, k)\n",
    "\n",
    "    def gradient(self, p):\n",
    "        dP_ = super().gradient(p)\n",
    "        # remap via the integerization mapping\n",
    "        ix = self.ix\n",
    "        dP = np.zeros_like(self.p)\n",
    "        for Y, d in dP_.items(): dP[ix(Y)] = d\n",
    "        return d_softmax(self.p, None, dP)\n",
    "        \n",
    "    @classmethod\n",
    "    def fit(cls, p, n, k):\n",
    "        sol = minimize(\n",
    "            lambda w: cls(w, n=n, k=k).objective(p),\n",
    "            np.zeros(int(binom(n,k))),\n",
    "            jac = lambda w: cls(w, n=n, k=k).gradient(p),\n",
    "        )\n",
    "        return cls(sol.x, n=n, k=k)        "
   ]
  },
  {
   "cell_type": "code",
   "execution_count": 4,
   "metadata": {},
   "outputs": [],
   "source": [
    "n = 10; k = 3\n",
    "p = random_dist(n)"
   ]
  },
  {
   "cell_type": "code",
   "execution_count": 5,
   "metadata": {},
   "outputs": [
    {
     "name": "stdout",
     "output_type": "stream",
     "text": [
      "\n",
      "Comparison: n=120\n",
      "  norms: \u001b[0;32m[0.0291266, 0.0291266]\u001b[0m\n",
      "  zero F1: \u001b[0;32m1\u001b[0m\n",
      "  pearson: \u001b[0;32m1\u001b[0m\n",
      "  spearman: \u001b[0;32m1\u001b[0m\n",
      "  ℓ∞: \u001b[0;33m1.62053e-11\u001b[0m\n",
      "  ℓ₂: \u001b[0;33m6.20268e-11\u001b[0m\n",
      "  same-sign: \u001b[0;32m100.0% (120/120)\u001b[0m\n",
      "  regression: \u001b[0;32m[1.000 -0.000]\u001b[0m\n",
      "\n"
     ]
    },
    {
     "name": "stderr",
     "output_type": "stream",
     "text": [
      "\r",
      "  0.0% (  0/120) [>                                               ] ETA --:--:--\r",
      "100.0% (120/120) [====================================================] 00:00:00\n"
     ]
    },
    {
     "data": {
      "image/png": "[encoded data removed]",
      "text/plain": [
       "<Figure size 432x288 with 1 Axes>"
      ]
     },
     "metadata": {
      "needs_background": "light"
     },
     "output_type": "display_data"
    }
   ],
   "source": [
    "from arsenal.maths import fdcheck\n",
    "theta = random_dist(int(binom(n,k)))\n",
    "fdcheck(lambda: Thing(theta, n, k).objective(p), theta, Thing(theta, n, k).gradient(p), throw=False).show();"
   ]
  },
  {
   "cell_type": "code",
   "execution_count": null,
   "metadata": {},
   "outputs": [],
   "source": []
  },
  {
   "cell_type": "code",
   "execution_count": 6,
   "metadata": {},
   "outputs": [],
   "source": [
    "Dopt = Thing.fit(p, n, k)"
   ]
  },
  {
   "cell_type": "code",
   "execution_count": 7,
   "metadata": {},
   "outputs": [],
   "source": [
    "#Dopt.show()"
   ]
  },
  {
   "cell_type": "code",
   "execution_count": null,
   "metadata": {},
   "outputs": [],
   "source": []
  },
  {
   "cell_type": "markdown",
   "metadata": {},
   "source": [
    "The optimality conditions say that the inclusion probabilities $\\pi_j \\propto p_j$."
   ]
  },
  {
   "cell_type": "code",
   "execution_count": 8,
   "metadata": {},
   "outputs": [
    {
     "name": "stdout",
     "output_type": "stream",
     "text": [
      "\n",
      "Comparison: n=10\n",
      "  norms: \u001b[0;32m[1.19753, 1.19753]\u001b[0m\n",
      "  zero F1: \u001b[0;32m1\u001b[0m\n",
      "  pearson: \u001b[0;32m1\u001b[0m\n",
      "  spearman: \u001b[0;32m1\u001b[0m\n",
      "  ℓ∞: \u001b[0;33m2.55623e-05\u001b[0m\n",
      "  ℓ₂: \u001b[0;33m5.0664e-05\u001b[0m\n",
      "  same-sign: \u001b[0;32m100.0% (10/10)\u001b[0m\n",
      "  regression: \u001b[0;32m[1.000 -0.000]\u001b[0m\n",
      "\n"
     ]
    },
    {
     "data": {
      "image/png": "[encoded data removed]",
      "text/plain": [
       "<Figure size 432x288 with 1 Axes>"
      ]
     },
     "metadata": {
      "needs_background": "light"
     },
     "output_type": "display_data"
    }
   ],
   "source": [
    "compare(Dopt.p1, p*k).show();"
   ]
  },
  {
   "cell_type": "code",
   "execution_count": null,
   "metadata": {},
   "outputs": [],
   "source": []
  },
  {
   "cell_type": "code",
   "execution_count": 9,
   "metadata": {},
   "outputs": [],
   "source": [
    "from swor.cps import ConditionalPoissonSampling as CPS\n",
    "\n",
    "def opt_cps(p, k):\n",
    "    # I think we can also optimize the KL divergence because it will give rise to an \n",
    "    # objective with this as its first-order optimality condition.\n",
    "    sol = minimize(\n",
    "        lambda w: np.sum((CPS(np.exp(w), k).inclusion() - k*p)**2),\n",
    "        np.zeros(n)\n",
    "    )\n",
    "    return CPS(np.exp(sol.x), k)"
   ]
  },
  {
   "cell_type": "code",
   "execution_count": 10,
   "metadata": {},
   "outputs": [
    {
     "name": "stdout",
     "output_type": "stream",
     "text": [
      "\n",
      "Comparison: n=10\n",
      "  norms: \u001b[0;32m[1.19753, 1.19753]\u001b[0m\n",
      "  zero F1: \u001b[0;32m1\u001b[0m\n",
      "  pearson: \u001b[0;32m1\u001b[0m\n",
      "  spearman: \u001b[0;32m1\u001b[0m\n",
      "  ℓ∞: \u001b[0;33m4.7995e-06\u001b[0m\n",
      "  ℓ₂: \u001b[0;33m9.43137e-06\u001b[0m\n",
      "  same-sign: \u001b[0;32m100.0% (10/10)\u001b[0m\n",
      "  regression: \u001b[0;32m[1.000 0.000]\u001b[0m\n",
      "\n"
     ]
    },
    {
     "data": {
      "image/png": "[encoded data removed]",
      "text/plain": [
       "<Figure size 432x288 with 1 Axes>"
      ]
     },
     "metadata": {
      "needs_background": "light"
     },
     "output_type": "display_data"
    }
   ],
   "source": [
    "m = opt_cps(p, k)\n",
    "compare(m.inclusion(), p*k).show();"
   ]
  },
  {
   "cell_type": "code",
   "execution_count": 11,
   "metadata": {},
   "outputs": [
    {
     "name": "stderr",
     "output_type": "stream",
     "text": [
      "100.0% (3/3) [========================================================] 00:00:00\n"
     ]
    }
   ],
   "source": [
    "from arsenal import iterview\n",
    "models = [opt_cps(p, t) for t in iterview(range(1, k+1))]"
   ]
  },
  {
   "cell_type": "code",
   "execution_count": 12,
   "metadata": {},
   "outputs": [],
   "source": [
    "#pl.matshow([m.inclusion() for m in models])"
   ]
  },
  {
   "cell_type": "code",
   "execution_count": 13,
   "metadata": {},
   "outputs": [],
   "source": [
    "#pl.matshow([np.log(m.v) for m in models])"
   ]
  },
  {
   "cell_type": "markdown",
   "metadata": {},
   "source": [
    "The [these slides](http://www.mathstat.helsinki.fi/msm/banocoss/2011/Presentations/Bondesson_web.pdf) describe the relationship between CPS parameters and inclusion probabilities.  The code below is slightly different because I didn't parameterize the distirbution by the odds."
   ]
  },
  {
   "cell_type": "code",
   "execution_count": 14,
   "metadata": {},
   "outputs": [
    {
     "name": "stdout",
     "output_type": "stream",
     "text": [
      "\n",
      "Comparison: n=10\n",
      "  norms: \u001b[0;31m[0.399177, 2.26707]\u001b[0m\n",
      "  zero F1: \u001b[0;32m1\u001b[0m\n",
      "  pearson: \u001b[0;32m0.999999\u001b[0m\n",
      "  spearman: \u001b[0;32m1\u001b[0m\n",
      "  ℓ∞: \u001b[0;33m1.16573\u001b[0m\n",
      "  ℓ₂: \u001b[0;33m1.86789\u001b[0m\n",
      "  same-sign: \u001b[0;32m100.0% (10/10)\u001b[0m\n",
      "  regression: \u001b[0;33m[0.176 -0.000]\u001b[0m\n",
      "  got is larger: \u001b[0;31m100.0% (10/10)\u001b[0m\n",
      "\n"
     ]
    },
    {
     "data": {
      "text/plain": [
       "<arsenal.maths.compare.compare at 0x7fd5181d1f10>"
      ]
     },
     "execution_count": 14,
     "metadata": {},
     "output_type": "execute_result"
    }
   ],
   "source": [
    "#mm = opt_cps(p, k)\n",
    "w = p\n",
    "#pi = p * k\n",
    "pi = CPS(w, k).inclusion()\n",
    "\n",
    "# Compute w that gives rise to the inclusion probabilities that we want.\n",
    "compare(w, pi/(1-pi) * np.exp((0.5 - pi) / (pi @ (1-pi))))#.show();\n",
    "\n",
    "#pi = p\n",
    "#compare(p, CPS(pi/(1-pi) * np.exp((0.5 - pi) / (pi @ (1-pi))), k).inclusion()).show()"
   ]
  },
  {
   "cell_type": "markdown",
   "metadata": {},
   "source": [
    "## K-best sampling"
   ]
  },
  {
   "cell_type": "code",
   "execution_count": 19,
   "metadata": {},
   "outputs": [],
   "source": [
    "def complementary_sampling(p, s):\n",
    "    \"Complementary sampling\"\n",
    "    n = len(p)\n",
    "\n",
    "    est = np.zeros((n, n))\n",
    "\n",
    "    for k in range(1, n+1):\n",
    "        S = s[:k-1]   # elements that are in the deterministic set.\n",
    "\n",
    "        w = p.copy()\n",
    "        w[S] = 0\n",
    "        W = w.sum()\n",
    "\n",
    "        j = sample(w)\n",
    "\n",
    "        est[k-1, S] = p[S]\n",
    "        est[k-1, j] = W\n",
    "\n",
    "    return est"
   ]
  },
  {
   "cell_type": "code",
   "execution_count": 20,
   "metadata": {},
   "outputs": [
    {
     "name": "stdout",
     "output_type": "stream",
     "text": [
      "0.243: [0, 2, 3]\n",
      "0.234: [0, 1, 2]\n",
      "0.226: [0, 2, 9]\n",
      "0.15: [0, 2, 6]\n",
      "0.081: [0, 2, 8]\n",
      "0.0335: [0, 2, 5]\n",
      "0.0247: [0, 2, 7]\n",
      "0.00745: [0, 2, 4]\n"
     ]
    }
   ],
   "source": [
    "def dist_complementary_sampling(p, s, k):\n",
    "    s = set(s[:k-1])\n",
    "    assert len(s) == k-1\n",
    "    \n",
    "    # remaining probabilities\n",
    "    w = p.copy()\n",
    "    w[list(s)] = 0\n",
    "    W = w.sum()\n",
    "    \n",
    "    # There are very few sets that have nonzero probability under this scheme (n-k)\n",
    "    Q = Counter()\n",
    "    for i in range(len(p)):\n",
    "        if i not in s:\n",
    "            Q[frozenset(s | {i})] = w[i]/W\n",
    "    # sanity checks\n",
    "    for y in Q: assert len(y) == k\n",
    "    assert len(Q) == len(p)-k+1\n",
    "    return ExplicitDistributionOverSets(Q, n, k)\n",
    "\n",
    "\n",
    "kb = dist_complementary_sampling(p, np.argsort(-p), k)\n",
    "kb.show()"
   ]
  },
  {
   "cell_type": "code",
   "execution_count": 21,
   "metadata": {},
   "outputs": [
    {
     "data": {
      "text/plain": [
       "(0.2556353354707893, 0.2556353354707893)"
      ]
     },
     "execution_count": 21,
     "metadata": {},
     "output_type": "execute_result"
    }
   ],
   "source": [
    "kb.objective(p), kb.objective_slow(p)"
   ]
  },
  {
   "cell_type": "code",
   "execution_count": 22,
   "metadata": {},
   "outputs": [],
   "source": [
    "def dist_cps(m, n, k): return ExplicitDistributionOverSets({Y: m.P(Y) for Y in m.domain()}, n, k)\n",
    "\n",
    "#dist_cps(mm, n, k).objective(p)"
   ]
  },
  {
   "cell_type": "code",
   "execution_count": 23,
   "metadata": {},
   "outputs": [
    {
     "data": {
      "text/plain": [
       "(0.17399066795565837, 0.17399066795565837)"
      ]
     },
     "execution_count": 23,
     "metadata": {},
     "output_type": "execute_result"
    }
   ],
   "source": [
    "Dopt.objective(p), Dopt.objective_slow(p)"
   ]
  },
  {
   "cell_type": "code",
   "execution_count": 24,
   "metadata": {},
   "outputs": [
    {
     "data": {
      "text/plain": [
       "(0.9067646748103814, 1.043943132574003)"
      ]
     },
     "execution_count": 24,
     "metadata": {},
     "output_type": "execute_result"
    }
   ],
   "source": [
    "kb.objective_l1(p), Dopt.objective_l1(p)"
   ]
  },
  {
   "cell_type": "code",
   "execution_count": null,
   "metadata": {},
   "outputs": [],
   "source": []
  },
  {
   "cell_type": "markdown",
   "metadata": {},
   "source": [
    "# Adversarial problem"
   ]
  },
  {
   "cell_type": "code",
   "execution_count": 25,
   "metadata": {},
   "outputs": [],
   "source": [
    "def incl(Q, n):\n",
    "    p1 = np.zeros(n)\n",
    "    for Y, py in Q.items():\n",
    "        for i in Y: p1[i] += py\n",
    "    return p1\n",
    "\n",
    "def incl2(Q, n):\n",
    "    p2 = np.zeros((n,n))\n",
    "    for Y, py in Q.items():\n",
    "        for i in Y:\n",
    "            for j in Y:\n",
    "                p2[i,j] += py\n",
    "    return p2\n",
    "\n",
    "def game(p, Q, f):\n",
    "    p1 = incl(Q, n)\n",
    "    m = p @ f\n",
    "    return sum(Q[Y] * (sum((p[i] / p1[i]) * f[i] for i in Y) - m)**2 for Y in Q)\n",
    "\n",
    "U = list(range(n))\n",
    "ix = Integerizer()\n",
    "def encode(w, n, k):\n",
    "    assert len(w) == binom(n, k)\n",
    "    q = softmax(w)\n",
    "    return {frozenset(Y): q[ix(frozenset(Y))] for Y in choose(U, k)}\n",
    "\n",
    "def softmax_game(w, n, k, p, f):\n",
    "    return game(p, encode(w, n, k), f)"
   ]
  },
  {
   "cell_type": "code",
   "execution_count": 26,
   "metadata": {},
   "outputs": [
    {
     "name": "stdout",
     "output_type": "stream",
     "text": [
      "initial game: 0.023788441494685644\n",
      "optimizing...\n",
      "uncorr score: 2.2097192354180427e-06 Optimization terminated successfully.\n",
      "game: 7.380648669072252e+17\n"
     ]
    }
   ],
   "source": [
    "from arsenal.maths import spherical\n",
    "f = spherical(n)\n",
    "\n",
    "w = spherical(int(binom(n, k)))\n",
    "#w = np.zeros(int(binom(n, k)))\n",
    "\n",
    "# How close to uncorrelated can we get our inclusion probabilities to be?\n",
    "def uncorr(w, n, k):\n",
    "    P = encode(w, n, k)\n",
    "    p1 = incl(P, n)\n",
    "    p2 = incl2(P, n)\n",
    "    return np.sum(np.square(p2 - np.outer(p1, p1)))\n",
    "\n",
    "print('initial game:', softmax_game(w, n, k, p, f))\n",
    "\n",
    "print('optimizing...')\n",
    "sol = minimize(lambda w: uncorr(w, n, k), w)\n",
    "ww = sol.x\n",
    "print('uncorr score:', sol.fun, sol.message)\n",
    "print('game:', softmax_game(ww, n, k, p, f))"
   ]
  },
  {
   "cell_type": "code",
   "execution_count": 27,
   "metadata": {},
   "outputs": [
    {
     "name": "stdout",
     "output_type": "stream",
     "text": [
      "[[0.         0.         0.         0.         0.         0.\n",
      "  0.         0.         0.         0.        ]\n",
      " [0.         1.         0.         0.         0.         0.\n",
      "  0.         0.         0.99998545 0.99925974]\n",
      " [0.         0.         0.         0.         0.         0.\n",
      "  0.         0.         0.         0.        ]\n",
      " [0.         0.         0.         0.         0.         0.\n",
      "  0.         0.         0.         0.        ]\n",
      " [0.         0.         0.         0.         0.         0.\n",
      "  0.         0.         0.         0.        ]\n",
      " [0.         0.         0.         0.         0.         0.\n",
      "  0.         0.         0.         0.        ]\n",
      " [0.         0.         0.         0.         0.         0.\n",
      "  0.         0.         0.         0.        ]\n",
      " [0.         0.         0.         0.         0.         0.\n",
      "  0.         0.         0.         0.        ]\n",
      " [0.         0.99998545 0.         0.         0.         0.\n",
      "  0.         0.         0.99998545 0.9992452 ]\n",
      " [0.         0.99925974 0.         0.         0.         0.\n",
      "  0.         0.         0.9992452  0.99925974]]\n"
     ]
    },
    {
     "data": {
      "text/plain": [
       "0.0007545203436983952"
      ]
     },
     "execution_count": 27,
     "metadata": {},
     "output_type": "execute_result"
    },
    {
     "data": {
      "image/png": "[encoded data removed]",
      "text/plain": [
       "<Figure size 288x288 with 1 Axes>"
      ]
     },
     "metadata": {
      "needs_background": "light"
     },
     "output_type": "display_data"
    }
   ],
   "source": [
    "P = encode(ww, n, k)\n",
    "p1 = incl(P, n)\n",
    "p2 = incl2(P, n)\n",
    "\n",
    "p2[p2 < .001] = 0\n",
    "pl.matshow(p2)\n",
    "\n",
    "print(p2)\n",
    "\n",
    "abs(p2 - np.outer(p1, p1)).max()"
   ]
  },
  {
   "cell_type": "code",
   "execution_count": 28,
   "metadata": {},
   "outputs": [
    {
     "name": "stdout",
     "output_type": "stream",
     "text": [
      "4.7994953915816985e-06\n"
     ]
    }
   ],
   "source": [
    "C = opt_cps(p,k)\n",
    "p1 = C.inclusion()\n",
    "print(abs(p1 - k*p).max())"
   ]
  },
  {
   "cell_type": "code",
   "execution_count": 29,
   "metadata": {},
   "outputs": [],
   "source": [
    "p2 = np.zeros((n,n))\n",
    "for i in range(n):\n",
    "    for j in range(n):\n",
    "        p2[i,j] = C.inclusion2(i,j)"
   ]
  },
  {
   "cell_type": "code",
   "execution_count": 30,
   "metadata": {},
   "outputs": [
    {
     "data": {
      "text/plain": [
       "<matplotlib.image.AxesImage at 0x7fd518104370>"
      ]
     },
     "execution_count": 30,
     "metadata": {},
     "output_type": "execute_result"
    },
    {
     "data": {
      "image/png": "[encoded data removed]",
      "text/plain": [
       "<Figure size 288x288 with 1 Axes>"
      ]
     },
     "metadata": {
      "needs_background": "light"
     },
     "output_type": "display_data"
    }
   ],
   "source": [
    "pl.matshow(p2)"
   ]
  },
  {
   "cell_type": "code",
   "execution_count": 31,
   "metadata": {},
   "outputs": [
    {
     "name": "stdout",
     "output_type": "stream",
     "text": [
      "\n",
      "Comparison: n=900\n",
      "  norms: \u001b[0;31m[3.17482, 4.30224]\u001b[0m\n",
      "  zero F1: \u001b[0;31m0\u001b[0m\n",
      "  pearson: \u001b[0;31m0.799377\u001b[0m\n",
      "  spearman: \u001b[0;31m0.755021\u001b[0m\n",
      "  ℓ∞: \u001b[0;33m0.559164\u001b[0m\n",
      "  ℓ₂: \u001b[0;33m2.20545\u001b[0m\n",
      "  same-sign: \u001b[0;32m100.0% (900/900)\u001b[0m\n",
      "  regression: \u001b[0;33m[0.624 0.004]\u001b[0m\n",
      "  got is larger: \u001b[0;31m100.0% (900/900)\u001b[0m\n",
      "\n"
     ]
    },
    {
     "data": {
      "image/png": "[encoded data removed]",
      "text/plain": [
       "<Figure size 432x288 with 1 Axes>"
      ]
     },
     "metadata": {
      "needs_background": "light"
     },
     "output_type": "display_data"
    },
    {
     "data": {
      "text/plain": [
       "<arsenal.maths.compare.compare at 0x7fd5180a3580>"
      ]
     },
     "execution_count": 31,
     "metadata": {},
     "output_type": "execute_result"
    }
   ],
   "source": [
    "nd = [(i,j) for i in range(n) for j in range(i)]\n",
    "compare(p2[nd], np.outer(p1, p1)[nd]).show()"
   ]
  },
  {
   "cell_type": "code",
   "execution_count": 32,
   "metadata": {},
   "outputs": [
    {
     "name": "stdout",
     "output_type": "stream",
     "text": [
      "1 0 0.2964780711464844 0.26344693177573547 True\n",
      "2 0 0.41927757137786265 0.3885425460819087 True\n",
      "2 1 0.22230779413494633 0.17597443128171095 True\n",
      "3 0 0.3077268791381271 0.27453231298478403 True\n",
      "3 1 0.16316180107706146 0.11723715659851672 True\n",
      "3 2 0.23074247425007055 0.183965433057445 True\n",
      "4 0 0.009418425848202124 0.007672519820459114 True\n",
      "4 1 0.00499380271560103 0.003068611904783446 True\n",
      "4 2 0.007062206882420225 0.0048809819638285555 True\n",
      "4 3 0.0051832748329779165 0.0032132560003053966 True\n",
      "5 0 0.042407936898085426 0.03484557653639242 True\n",
      "5 1 0.022485378539676252 0.014003368712514832 True\n",
      "5 2 0.03179869212306551 0.02225135538208156 True\n",
      "5 3 0.0233385064112727 0.014662452271213659 True\n",
      "5 4 0.0007143087164111407 0.00037875782968451664 False\n",
      "6 0 0.1895336993097992 0.16250398508691913 True\n",
      "6 1 0.10049385296077473 0.06709380734911527 True\n",
      "6 2 0.14211782491994024 0.10601055584229982 True\n",
      "6 3 0.10430673548501915 0.0702253677067357 True\n",
      "6 4 0.003192458378628411 0.0018256665112030288 True\n",
      "6 5 0.014374543650145254 0.00833556226162536 True\n",
      "7 0 0.03129830320538326 0.025641694612930335 True\n",
      "7 1 0.016594869892253054 0.010287587085844284 True\n",
      "7 2 0.02346836890448374 0.016352703397088476 True\n",
      "7 3 0.017224503322956313 0.010772033567433474 True\n",
      "7 4 0.0005271808162281371 0.00027815064992227947 False\n",
      "7 5 0.00237371415869369 0.00127062531417179 True\n",
      "7 6 0.010608835480076706 0.006122645576919063 True\n",
      "8 0 0.10244896414916746 0.08558025229544843 True\n",
      "8 1 0.05432010864918429 0.03472868984233891 True\n",
      "8 2 0.07681918309620547 0.05507068013272256 True\n",
      "8 3 0.0563810923499921 0.03635828626851065 True\n",
      "8 4 0.0017256248106317716 0.0009413872860913362 False\n",
      "8 5 0.007769895867791123 0.004299477204844604 True\n",
      "8 6 0.034725978550040226 0.020693799140976177 True\n",
      "8 7 0.0057344113987153195 0.003157721094352639 True\n",
      "9 0 0.28556463546159955 0.25278010910327997 True\n",
      "9 1 0.15141101868100096 0.10712221394782759 True\n",
      "9 2 0.21412458583168656 0.1683547106290051 True\n",
      "9 3 0.15715577231615288 0.11208265862620286 True\n",
      "9 4 0.0048099795257476805 0.002931270796210869 True\n",
      "9 5 0.02165768584863131 0.013377457180234222 True\n",
      "9 6 0.0967946478331489 0.06411707249532182 True\n",
      "9 7 0.015984008371980093 0.009827549588044179 True\n",
      "9 8 0.05232057117969661 0.033180587205015884 True\n"
     ]
    }
   ],
   "source": [
    "for i,j in nd:\n",
    "    want = p1[i]*p1[j]\n",
    "    got = p2[i,j]\n",
    "    print(i,j,want,got, abs(want-got)>1e-3)"
   ]
  },
  {
   "cell_type": "code",
   "execution_count": null,
   "metadata": {},
   "outputs": [],
   "source": []
  },
  {
   "cell_type": "code",
   "execution_count": null,
   "metadata": {},
   "outputs": [],
   "source": []
  }
 ],
 "metadata": {
  "kernelspec": {
   "display_name": "Python 3",
   "language": "python",
   "name": "python3"
  },
  "language_info": {
   "codemirror_mode": {
    "name": "ipython",
    "version": 3
   },
   "file_extension": ".py",
   "mimetype": "text/x-python",
   "name": "python",
   "nbconvert_exporter": "python",
   "pygments_lexer": "ipython3",
   "version": "3.8.5"
  }
 },
 "nbformat": 4,
 "nbformat_minor": 4
}
