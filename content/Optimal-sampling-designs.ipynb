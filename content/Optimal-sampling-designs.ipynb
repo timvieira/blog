{
 "cells": [
  {
   "cell_type": "markdown",
   "metadata": {},
   "source": [
    "# Optimal sampling design"
   ]
  },
  {
   "cell_type": "markdown",
   "metadata": {},
   "source": [
    "**Min-var-ht**: Another approach is to opimized the HT estimator's variance \n",
    "\n",
    "$$\n",
    "\\begin{cases}\n",
    "\\mathrm{minimize}_Q & \\ \\mathbb{E}_{S \\sim Q}\\left[ \\sum_{i \\in U} \\left(\\frac{p_i}{\\pi_i}\\,1(i \\in S) - p_i\\right)^2 \\right] \\\\\n",
    "\\mathrm{subject\\ to}&  Q \\in \\Delta^{ n \\text{ choose } k}  \\\\\n",
    "                    & \\pi_i = \\sum_{S: i \\in S} Q(S) \\quad\\text{for } i \\in U\n",
    "\\end{cases}\n",
    "$$"
   ]
  },
  {
   "cell_type": "markdown",
   "metadata": {},
   "source": [
    "XXX: embed the best-linear unbiased estimator into this scheme so that the HT part falls out of the k-sparse representation of the sample and an unbiasedness constraint (which we may be able to drop if we want to minimize MSE instead)."
   ]
  },
  {
   "cell_type": "markdown",
   "metadata": {},
   "source": [
    "$$\n",
    "\\begin{cases}\n",
    "\\mathrm{minimize}_Q & \\ \\mathbb{E}_{S \\sim Q}\\left[ \\sum_{i \\in U} \\left(w_i\\,1(i \\in S) - p_i\\right)^2 \\right] \\\\\n",
    "\\mathrm{subject\\ to}&  Q \\in \\Delta^{ n \\text{ choose } k}  \\\\\n",
    "                    & \\sum_{S \\in \\mathcal{S}} Q(S) \\,w_i\\,1(i \\in S) = p_i \\quad\\text{for }i \\in \\mathcal{U}\n",
    "\\end{cases}\n",
    "$$\n",
    "\n",
    "XXX: there is still a question of why stop at that choice of form for the estimator?"
   ]
  },
  {
   "cell_type": "code",
   "execution_count": null,
   "metadata": {},
   "outputs": [],
   "source": []
  },
  {
   "cell_type": "markdown",
   "metadata": {},
   "source": [
    "Let's expand the objective\n",
    "\n",
    "$$\n",
    "\\begin{align}\n",
    "\\mathbb{E}_{S \\sim Q}\\left[ \\sum_{i \\in U} \\left(\\frac{p_i}{\\pi_i}\\,1(i \\in S) - p_i\\right)^2 \\right]\n",
    "&= \\mathbb{E}_{S \\sim Q}\\left[ \n",
    "\\sum_{i \\in U}\n",
    "   \\frac{p_i^2}{\\pi_i^2} 1(i \\in S)^2\n",
    "   - 2 p_i \\frac{p_i}{\\pi_i}\\,1(i \\in S) \n",
    "   + p_i^2 \n",
    "   \\right] \\\\\n",
    "&= \n",
    "\\sum_{i \\in U}\n",
    "   \\frac{p_i^2}{\\pi_i^2} \\mathbb{E}\\left[ 1(i \\in S)^2 \\right]\n",
    "   - 2 p_i \\frac{p_i}{\\pi_i}\\,\\mathbb{E}\\left[  1(i \\in S) \\right]\n",
    "   + p_i^2 \n",
    " \\\\\n",
    "&= \n",
    "\\sum_{i \\in U}\n",
    "   \\frac{p_i^2}{\\pi_i^2} \\pi_i\n",
    "   - 2 p_i \\frac{p_i}{\\pi_i}\\,\\pi_i\n",
    "   + p_i^2 \n",
    " \\\\\n",
    "&= \n",
    "\\sum_{i \\in U}\n",
    "   \\frac{p_i^2}{\\pi_i}\n",
    "   - 2 p_i^2\n",
    "   + p_i^2 \n",
    " \\\\\n",
    "&= \\sum_{i \\in U} \\frac{p_i^2}{\\pi_i} - p_i^2  \\\\\n",
    "\\end{align}\n",
    "$$"
   ]
  },
  {
   "cell_type": "markdown",
   "metadata": {},
   "source": [
    "We can drop the $p_i^2$ term because it is constant wrt Q.\n",
    "$$\n",
    "\\begin{cases}\n",
    "\\mathrm{minimize}_Q & \\sum_{i \\in U} \\frac{p_i^2}{\\pi_i} \\\\\n",
    "\\mathrm{subject\\ to}&  Q \\in \\Delta^{ n \\text{ choose } k}  \\\\\n",
    "                    & \\pi_i = \\sum_{S: i \\in S} Q(S) \\quad\\text{for } i \\in U\n",
    "\\end{cases}\n",
    "$$"
   ]
  },
  {
   "cell_type": "markdown",
   "metadata": {},
   "source": [
    "$$\n",
    "\\begin{cases}\n",
    "\\mathrm{minimize}_Q & \\sum_{i \\in U} \\frac{p_i^2}{\\pi_i} \\\\\n",
    "\\mathrm{subject\\ to}& \\pi_i = \\sum_{S \\in \\mathcal{S}: i \\in S} Q(S) \\quad\\text{for } i \\in U \\\\\n",
    "                    & \\sum_{S \\in \\mathcal{S}} Q(S) = 1 \\\\\n",
    "                    & Q(S) \\ge 0 \\quad\\text{for }S \\in \\mathcal{S}\n",
    "\\end{cases}\n",
    "$$"
   ]
  },
  {
   "cell_type": "markdown",
   "metadata": {},
   "source": [
    "I'm going to ignore drop the positivity constraints, which will turn out not to matter."
   ]
  },
  {
   "cell_type": "markdown",
   "metadata": {},
   "source": [
    "$$\n",
    "L(Q, \\lambda) \n",
    "= \\sum_{i \\in U} \\frac{p_i^2}{\\pi_i}\n",
    "+ \\lambda_i \\, \\left(\\pi_i - \\sum_{S \\in \\mathcal{S}: i \\in S} Q(S) \\right)\n",
    "+ \\zeta \\, \\left(\\sum_{S \\in \\mathcal{S}} Q(S) - 1\\right)\n",
    "$$"
   ]
  },
  {
   "cell_type": "markdown",
   "metadata": {},
   "source": [
    "$$\n",
    "\\begin{align}\n",
    "0 \n",
    "&= \\nabla_{Q(S')} \\left[ L(Q, \\lambda) \\right] \\\\\n",
    "&= \\nabla_{Q(S')} \\left[ \\sum_{i \\in U} \\frac{p_i^2}{\\pi_i}\n",
    "+ \\lambda_i \\, \\left(\\pi_i - \\sum_{S \\in \\mathcal{S}: i \\in S} Q(S) \\right)\n",
    "+ \\zeta \\, \\left(\\sum_{S \\in \\mathcal{S}} Q(S) - 1\\right) \\right] \\\\\n",
    "&= -\\sum_{i \\in S'} \\lambda_i \n",
    "+ \\zeta  \\\\\n",
    "\\zeta &= \\sum_{i \\in S'} \\lambda_i \n",
    "\\end{align}\n",
    "$$"
   ]
  },
  {
   "cell_type": "markdown",
   "metadata": {},
   "source": [
    "$$\n",
    "\\begin{align}\n",
    "0 \n",
    "&= \\nabla_{\\pi_j} \\left[ L(Q, \\lambda) \\right] \\\\\n",
    "&= \\nabla_{\\pi_j} \\left[ \\sum_{i \\in U} \\frac{p_i^2}{\\pi_i}\n",
    "+ \\lambda_i \\, \\left(\\pi_i - \\sum_{S \\in \\mathcal{S}: i \\in S} Q(S) \\right)\n",
    "+ \\zeta \\, \\left(\\sum_{S \\in \\mathcal{S}} Q(S) - 1\\right) \\right] \\\\\n",
    "&= \\nabla_{\\pi_j} \\left[  \\frac{p_j^2}{\\pi_j} \\right]\n",
    "+ \\lambda_j \\\\\n",
    "&= -\\frac{p_j^2}{\\pi_j^2}\n",
    "+ \\lambda_j \\\\\n",
    "\\lambda_j &= \\frac{p_j^2}{\\pi_j^2} \\\\\n",
    "\\sqrt{\\lambda_j} &= \\sqrt{\\frac{p_j^2}{\\pi_j^2}} \\\\\n",
    "\\sqrt{\\lambda_j} &= \\frac{p_j}{\\pi_j} \\\\\n",
    "\\pi_j &= \\frac{p_j}{\\sqrt{\\lambda_j}} \\\\\n",
    "\\pi_j &= K\\, p_j\n",
    "\\end{align}\n",
    "$$"
   ]
  },
  {
   "cell_type": "markdown",
   "metadata": {},
   "source": [
    "$$\n",
    "\\begin{align}\n",
    "p_j K &= \\sum_{S \\in \\mathcal{S}: j \\in S} Q(S) \\\\\n",
    "1 &= \\sum_{S \\in \\mathcal{S}} Q(S)\n",
    "\\end{align}\n",
    "$$"
   ]
  },
  {
   "cell_type": "markdown",
   "metadata": {},
   "source": [
    "So, the bottom line appears to be that the first-order optimality conditions imply that inclusion probabilities $\\pi$ proportional to $p$.  Is that all?  Well, the next question is whether or not the objective and the constraints are convex. \n",
    "\n",
    "- constraints? yes, they are clearly linear in $Q$ and $\\pi$.\n",
    "\n",
    "- objective? It is not immediately obvious whether a sum of positive constant $\\pi_i^{-1}$ is convex.  We know that a positive sum of convex functions is convex.  So if we can argue that each $\\pi_i^{-1}$ is convex, we're golden.  The function $\\pi_i^{-1}$ is clearly convex over $\\pi_i \\in (0,\\infty)$. We require $\\pi$ to be positive. Thus, the objective is convex over the feasible region.\n",
    "\n",
    "Furthermore, any objective that satisfies the first-order conditions and manages to only sample sets of size $K$ is an optimal design wrt the HT estimation scheme's variance.\n"
   ]
  },
  {
   "cell_type": "code",
   "execution_count": 26,
   "metadata": {},
   "outputs": [],
   "source": [
    "from arsenal import Integerizer\n",
    "from arsenal.maths import random_dist, softmax\n",
    "from arsenal.maths.combinatorics import choose\n",
    "from collections import Counter\n",
    "from scipy.optimize import minimize\n",
    "from scipy.special import binom "
   ]
  },
  {
   "cell_type": "code",
   "execution_count": 27,
   "metadata": {},
   "outputs": [],
   "source": [
    "class Thing:\n",
    "    def __init__(self, W, n, k):\n",
    "        assert len(W) == binom(n, k)\n",
    "        self.p1 = np.zeros(n)\n",
    "        self.U = list(range(n))\n",
    "        self.ix = Integerizer(list(choose(self.U, k)))\n",
    "        P = Counter()\n",
    "        for Y, t in self.ix.items():\n",
    "            w = W[t]\n",
    "            P[frozenset(Y)] = w\n",
    "            for i in Y:\n",
    "                self.p1[i] += w\n",
    "        self.P = dict(P)\n",
    "        self.W, self.n, self.k = W, n, k\n",
    "\n",
    "    def objective(self, p):\n",
    "        return sum((p[i]**2 / self.p1[i]) - p[i]**2 for i in self.U)\n",
    "        \n",
    "    def gradient(self, p):\n",
    "        g = np.zeros_like(self.W)\n",
    "        for Sp, t in self.ix.items():\n",
    "            for i in Sp:\n",
    "                g[t] += -p[i]**2 / self.p1[i]**2\n",
    "        return g\n",
    "    \n",
    "    def sample(self):\n",
    "        domain = list(self.P.keys())\n",
    "        i = sample(list(self.P.values()))\n",
    "        return domain[i]\n",
    "\n",
    "    def show(self):\n",
    "        for prob, s in sorted(zip(self.P.values(), self.P.keys()), reverse=True):\n",
    "            if prob > 1e-5:\n",
    "                print(f'{prob:.3}: {sorted(s)}')"
   ]
  },
  {
   "cell_type": "code",
   "execution_count": null,
   "metadata": {},
   "outputs": [],
   "source": []
  },
  {
   "cell_type": "code",
   "execution_count": 28,
   "metadata": {},
   "outputs": [],
   "source": [
    "n = 10; k = 3\n",
    "p = random_dist(n)"
   ]
  },
  {
   "cell_type": "code",
   "execution_count": 29,
   "metadata": {},
   "outputs": [],
   "source": [
    "sol = minimize(\n",
    "    lambda theta: Thing(softmax(theta), n=n, k=k).objective(p),\n",
    "    np.zeros(int(binom(n,k)))\n",
    ")\n",
    "\n",
    "Dopt = Thing(softmax(sol.x), n=n, k=k)"
   ]
  },
  {
   "cell_type": "code",
   "execution_count": 30,
   "metadata": {},
   "outputs": [],
   "source": [
    "#Dopt.show()"
   ]
  },
  {
   "cell_type": "code",
   "execution_count": 31,
   "metadata": {},
   "outputs": [],
   "source": [
    "from arsenal.maths import fdcheck"
   ]
  },
  {
   "cell_type": "code",
   "execution_count": 32,
   "metadata": {},
   "outputs": [
    {
     "name": "stderr",
     "output_type": "stream",
     "text": [
      "\r",
      "  0.0% (  0/120) [>                                               ] ETA --:--:--\r",
      "100.0% (120/120) [====================================================] 00:00:00\n"
     ]
    },
    {
     "name": "stdout",
     "output_type": "stream",
     "text": [
      "\n",
      "Comparison: n=120\n",
      "  norms: \u001b[0;32m[6.66738, 6.66738]\u001b[0m\n",
      "  zero F1: \u001b[0;32m1\u001b[0m\n",
      "  pearson: \u001b[0;32m1\u001b[0m\n",
      "  spearman: \u001b[0;32m1\u001b[0m\n",
      "  ℓ∞: \u001b[0;33m1.79809e-09\u001b[0m\n",
      "  ℓ₂: \u001b[0;33m8.97277e-09\u001b[0m\n",
      "  same-sign: \u001b[0;32m100.0% (120/120)\u001b[0m\n",
      "  regression: \u001b[0;32m[1.000 0.000]\u001b[0m\n",
      "  got is larger: \u001b[0;31m100.0% (120/120)\u001b[0m\n",
      "\n"
     ]
    },
    {
     "data": {
      "image/png": "[encoded data removed]",
      "text/plain": [
       "<Figure size 432x288 with 1 Axes>"
      ]
     },
     "metadata": {
      "needs_background": "light"
     },
     "output_type": "display_data"
    }
   ],
   "source": [
    "theta = random_dist(int(binom(n,k)))\n",
    "fdcheck(lambda: Thing(theta, n, k).objective(p), theta, Thing(theta, n, k).gradient(p), throw=False).show();"
   ]
  },
  {
   "cell_type": "markdown",
   "metadata": {},
   "source": [
    "The optimality conditions say that the inclusion probabilities $\\pi_j \\propto p_j$."
   ]
  },
  {
   "cell_type": "code",
   "execution_count": 33,
   "metadata": {},
   "outputs": [
    {
     "name": "stdout",
     "output_type": "stream",
     "text": [
      "\n",
      "Comparison: n=10\n",
      "  norms: \u001b[0;32m[1.13761, 1.13762]\u001b[0m\n",
      "  zero F1: \u001b[0;32m1\u001b[0m\n",
      "  pearson: \u001b[0;32m1\u001b[0m\n",
      "  spearman: \u001b[0;32m1\u001b[0m\n",
      "  ℓ∞: \u001b[0;33m7.81942e-05\u001b[0m\n",
      "  ℓ₂: \u001b[0;33m0.000153289\u001b[0m\n",
      "  same-sign: \u001b[0;32m100.0% (10/10)\u001b[0m\n",
      "  regression: \u001b[0;32m[1.000 0.000]\u001b[0m\n",
      "\n"
     ]
    }
   ],
   "source": [
    "compare(Dopt.p1, p*k);"
   ]
  },
  {
   "cell_type": "code",
   "execution_count": null,
   "metadata": {},
   "outputs": [],
   "source": []
  },
  {
   "cell_type": "markdown",
   "metadata": {},
   "source": [
    "## Optimality of threshold sampling\n",
    "\n",
    "Below, $\\sum_{i=1}^n \\pi_i = k$ constrains the expected sample size if schemes samples $n$ independent Bernoulli with parameters $\\pi_i$.\n",
    "\n",
    "$$\n",
    "\\begin{cases}\n",
    "\\underset{{\\pi_1, \\ldots \\pi_n}}{\\mathrm{minimize}}\\\n",
    "   & \\sum_{i=1}^n \\frac{p_i^2}{\\pi_i} \\\\\n",
    "\\mathrm{subject\\ to} \n",
    "  & \\sum_{i=1}^n \\pi_i = k \\\\\n",
    "  & 0 \\le \\pi_1, \\ldots \\pi_n \\le 1\n",
    "\\end{cases}\n",
    "$$\n",
    "\n",
    "$$\n",
    "L(\\pi_1, \\ldots \\pi_n, \\lambda) \n",
    "= \\sum_{i=1}^n \\frac{p_i^2}{\\pi_i}\n",
    "- \\lambda \\left(k - \\sum_{i=1}^n \\pi_i \\right)\n",
    "$$\n",
    "\n",
    "$$\n",
    "\\begin{align}\n",
    "0 \n",
    "&= \\nabla_{q_j} L(\\pi_1, \\ldots \\pi_n, \\lambda) \\\\\n",
    "&= \\nabla_{q_j}\\left[ \\sum_{i=1}^n \\frac{p_i^2}{\\pi_i}\n",
    "- \\lambda \\left(k - \\sum_{i=1}^n \\pi_i \\right) \\right] \\\\\n",
    "&= \\nabla_{q_j}\\left[ \\frac{p_j^2}{\\pi_j} \\right]\n",
    "+ \\lambda \\\\\n",
    "&= \\nabla_{q_j}\\left[ \\frac{p_j^2}{\\pi_j} \\right]\n",
    "+ \\lambda \\\\\n",
    "&= - \\frac{p_j^2}{\\pi_j^2}\n",
    "+ \\lambda \\\\\n",
    "p_j^2 &= \n",
    "\\lambda \\pi_j^2 \\\\\n",
    "\\sqrt{p_j^2} &= \n",
    "\\sqrt{\\lambda \\pi_j^2} \\\\\n",
    "\\frac{p_j}{\\sqrt{\\lambda}} &= \n",
    "\\pi_j \\\\\n",
    "\\end{align}\n",
    "$$\n",
    "\n",
    "Renaming variables $\\sqrt{k \\lambda} \\mapsto \\tau$ and applying the between-0-and-1 constraints on $\\pi$, we can see that the solution has the following form,\n",
    "\n",
    "$$\n",
    "\\pi_j = \\min\\left(1, \\frac{p_j}{\\tau}\\right)\n",
    "$$\n",
    "\n",
    "where $\\tau > 0$ is a value that satisfies the sum-to-k constraint.  Note that the $\\ge 0$ constraint is always satisifed if $\\tau > 0$."
   ]
  },
  {
   "cell_type": "code",
   "execution_count": 34,
   "metadata": {},
   "outputs": [],
   "source": [
    "from swor.cps import ConditionalPoissonSampling as CPS\n",
    "\n",
    "def opt_cps(p, k):\n",
    "    # I think we can also optimize the KL divergence because it will give rise to an \n",
    "    # objective with this as its first-order optimality condition.\n",
    "    sol = minimize(\n",
    "        lambda w: np.sum((CPS(np.exp(w), k).inclusion() - k*p)**2),\n",
    "        np.zeros(n)\n",
    "    )\n",
    "    return CPS(np.exp(sol.x), k)"
   ]
  },
  {
   "cell_type": "code",
   "execution_count": 36,
   "metadata": {},
   "outputs": [
    {
     "name": "stdout",
     "output_type": "stream",
     "text": [
      "\n",
      "Comparison: n=10\n",
      "  norms: \u001b[0;32m[1.13762, 1.13762]\u001b[0m\n",
      "  zero F1: \u001b[0;32m1\u001b[0m\n",
      "  pearson: \u001b[0;32m1\u001b[0m\n",
      "  spearman: \u001b[0;32m1\u001b[0m\n",
      "  ℓ∞: \u001b[0;33m1.54364e-05\u001b[0m\n",
      "  ℓ₂: \u001b[0;33m2.69127e-05\u001b[0m\n",
      "  same-sign: \u001b[0;32m100.0% (10/10)\u001b[0m\n",
      "  regression: \u001b[0;32m[1.000 -0.000]\u001b[0m\n",
      "\n"
     ]
    },
    {
     "data": {
      "image/png": "[encoded data removed]",
      "text/plain": [
       "<Figure size 432x288 with 1 Axes>"
      ]
     },
     "metadata": {
      "needs_background": "light"
     },
     "output_type": "display_data"
    }
   ],
   "source": [
    "#k = 10\n",
    "#n = 50\n",
    "#p = random_dist(n)\n",
    "\n",
    "m = opt_cps(p, k)\n",
    "compare(m.inclusion(), p*k).show();"
   ]
  },
  {
   "cell_type": "code",
   "execution_count": 37,
   "metadata": {},
   "outputs": [],
   "source": [
    "from arsenal import iterview\n",
    "#models = [opt_cps(p, t) for t in iterview(range(1, k+1))]"
   ]
  },
  {
   "cell_type": "code",
   "execution_count": 38,
   "metadata": {},
   "outputs": [],
   "source": [
    "#pl.matshow([m.inclusion() for m in models])"
   ]
  },
  {
   "cell_type": "code",
   "execution_count": 39,
   "metadata": {},
   "outputs": [],
   "source": [
    "#pl.matshow([np.log(m.v) for m in models])"
   ]
  },
  {
   "cell_type": "markdown",
   "metadata": {},
   "source": [
    "Faster methods for fitting the distributions. \n",
    "\n",
    "XXX: I'm pretty sure there is an exponentiated gradient method that will be much faster."
   ]
  },
  {
   "cell_type": "code",
   "execution_count": 40,
   "metadata": {},
   "outputs": [
    {
     "name": "stderr",
     "output_type": "stream",
     "text": [
      "100.0% (9999/9999) [==================================================] 00:00:01\n"
     ]
    }
   ],
   "source": [
    "lc = []\n",
    "w = np.ones(n)\n",
    "for t in iterview(range(1, 10_000)):\n",
    "    q = CPS(w, k).inclusion()\n",
    "    r = p*k - q\n",
    "    w1 = np.maximum(0, w + r / t)\n",
    "    if t % 100 == 0: \n",
    "        #err = np.linalg.norm(w - w1)\n",
    "        err = np.linalg.norm(r)\n",
    "        lc.append([t, err])\n",
    "    w = w1"
   ]
  },
  {
   "cell_type": "code",
   "execution_count": 41,
   "metadata": {},
   "outputs": [
    {
     "data": {
      "image/png": "[encoded data removed]",
      "text/plain": [
       "<Figure size 432x288 with 1 Axes>"
      ]
     },
     "metadata": {
      "needs_background": "light"
     },
     "output_type": "display_data"
    }
   ],
   "source": [
    "xs, ys = np.array(lc).T\n",
    "pl.loglog(xs, ys, marker='x');"
   ]
  },
  {
   "cell_type": "code",
   "execution_count": 42,
   "metadata": {},
   "outputs": [],
   "source": [
    "mm = opt_cps(p, k)"
   ]
  },
  {
   "cell_type": "code",
   "execution_count": 47,
   "metadata": {},
   "outputs": [
    {
     "name": "stdout",
     "output_type": "stream",
     "text": [
      "\n",
      "Comparison: n=10\n",
      "  norms: \u001b[0;31m[1.11135, 1.13762]\u001b[0m\n",
      "  zero F1: \u001b[0;32m1\u001b[0m\n",
      "  pearson: \u001b[0;31m0.997739\u001b[0m\n",
      "  spearman: \u001b[0;32m1\u001b[0m\n",
      "  ℓ∞: \u001b[0;33m0.054866\u001b[0m\n",
      "  ℓ₂: \u001b[0;33m0.0635672\u001b[0m\n",
      "  same-sign: \u001b[0;32m100.0% (10/10)\u001b[0m\n",
      "  regression: \u001b[0;33m[0.920 0.024]\u001b[0m\n",
      "\n"
     ]
    },
    {
     "data": {
      "image/png": "[encoded data removed]",
      "text/plain": [
       "<Figure size 432x288 with 1 Axes>"
      ]
     },
     "metadata": {
      "needs_background": "light"
     },
     "output_type": "display_data"
    }
   ],
   "source": [
    "compare(CPS(w, k).inclusion(), CPS(mm.v, k).inclusion()).show();"
   ]
  },
  {
   "cell_type": "markdown",
   "metadata": {},
   "source": [
    "The [these slides](http://www.mathstat.helsinki.fi/msm/banocoss/2011/Presentations/Bondesson_web.pdf) describe the relationship between CPS parameters and inclusion probabilities."
   ]
  },
  {
   "cell_type": "code",
   "execution_count": 45,
   "metadata": {},
   "outputs": [
    {
     "name": "stdout",
     "output_type": "stream",
     "text": [
      "\n",
      "Comparison: n=10\n",
      "  norms: \u001b[0;31m[2.42234, 7.94604]\u001b[0m\n",
      "  zero F1: \u001b[0;32m1\u001b[0m\n",
      "  pearson: \u001b[0;32m0.999997\u001b[0m\n",
      "  spearman: \u001b[0;32m1\u001b[0m\n",
      "  ℓ∞: \u001b[0;33m3.91244\u001b[0m\n",
      "  ℓ₂: \u001b[0;33m5.5237\u001b[0m\n",
      "  same-sign: \u001b[0;32m100.0% (10/10)\u001b[0m\n",
      "  regression: \u001b[0;33m[0.304 0.001]\u001b[0m\n",
      "  got is larger: \u001b[0;31m100.0% (10/10)\u001b[0m\n",
      "\n"
     ]
    },
    {
     "data": {
      "image/png": "[encoded data removed]",
      "text/plain": [
       "<Figure size 432x288 with 1 Axes>"
      ]
     },
     "metadata": {
      "needs_background": "light"
     },
     "output_type": "display_data"
    }
   ],
   "source": [
    "pi = p * k\n",
    "ww = pi/(1-pi) * np.exp((0.5 - pi) / (pi @ (1-pi)))\n",
    "\n",
    "#compare(np.log(ww), np.log(mm.v)).show();\n",
    "compare(ww, mm.v).show();"
   ]
  },
  {
   "cell_type": "code",
   "execution_count": null,
   "metadata": {},
   "outputs": [],
   "source": []
  }
 ],
 "metadata": {
  "kernelspec": {
   "display_name": "Python 3",
   "language": "python",
   "name": "python3"
  },
  "language_info": {
   "codemirror_mode": {
    "name": "ipython",
    "version": 3
   },
   "file_extension": ".py",
   "mimetype": "text/x-python",
   "name": "python",
   "nbconvert_exporter": "python",
   "pygments_lexer": "ipython3",
   "version": "3.8.5"
  }
 },
 "nbformat": 4,
 "nbformat_minor": 4
}
