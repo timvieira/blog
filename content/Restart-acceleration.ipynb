{
 "cells": [
  {
   "cell_type": "markdown",
   "metadata": {},
   "source": [
    "# The restart acceleration trick: A cure for the heavy tail of wasted time"
   ]
  },
  {
   "cell_type": "markdown",
   "metadata": {},
   "source": [
    "Ever wondered why restarting stuff, possibly multiple times, seems to fix problems?  For example, downloading a webpage or running an optimization algorithm from random initializations.  Today, we'll get into the math behind why random restarts often accelerate the time until completion.  Our discussion will focus on restart acceleration for speeding up computer algorithms, but the concepts extend to other restartable processes.\n",
    "\n",
    "A [Las Vegas algorithm](https://en.wikipedia.org/wiki/Las_Vegas_algorithm) is an algorithm with an *uncertain* runtime (i.e., time until completion), but *certain* correctness.  Thus, it is \"dual\" to the more familiar [Monte Carlo](https://en.wikipedia.org/wiki/Monte_Carlo_algorithm) family of algorithms, which have *certain* runtime, but *uncertain* correctness.  Put differently, when a Las Vegas algorithm halts, its output will be correct, but the time until it halts (runtime) is a random variable.  Thus, the algorithm has a runtime *distribution*.  \n",
    "\n",
    "In its most general form, the restart acceleration trick eliminates heavy tails of the runtime distribution.  If the distribution is not [heavy-tailed](https://en.wikipedia.org/wiki/Heavy-tailed_distribution) (or [bounded heavy-tailed](http://citeseerx.ist.psu.edu/viewdoc/download?doi=10.1.1.113.8427&rep=rep1&type=pdf)), then this trick will generally not accelerate the algorithm."
   ]
  },
  {
   "cell_type": "markdown",
   "metadata": {},
   "source": [
    "**The random restart wrapper:** The generic strategy for accelerating Las Vegas algorithms will determine a time-limiting policy, which will improve the overall algorithm's runtime distribution.  To start, we will assume that the entire runtime distribution is known."
   ]
  },
  {
   "cell_type": "code",
   "execution_count": 1,
   "metadata": {},
   "outputs": [],
   "source": [
    "from arsenal import timelimit, Timeout\n",
    "def restart_acceleration(alg, policy):\n",
    "    while True:  # repeat until solved...\n",
    "        try:\n",
    "            with timelimit(policy()):  # Run `alg` for at most `policy()` seconds\n",
    "                return alg()           # if the alg halted within timelimit, output result.\n",
    "        except Timeout:\n",
    "            pass"
   ]
  },
  {
   "cell_type": "markdown",
   "metadata": {},
   "source": [
    "**How it works**: If the algorithm halted within the chosen time limit, the wrapper also halts with the algorithm's result.  Otherwise, the wrapper runs the algorithm again, hoping to get luckier.\n",
    "\n",
    "Some surprising results:\n",
    "\n",
    "- When the runtime distribution is known, the optimal policy for runtime budgets is a fixed constant threshold! This is somewhat surprising - I will give a simple argument for why it is true.  \n",
    "\n",
    "- When the runtime distribution is not known, there exists a universal strategy, which retries under a universal sequence of runtime thresholds."
   ]
  },
  {
   "cell_type": "markdown",
   "metadata": {},
   "source": [
    "The seminal paper on this topic is \n",
    "- Luby, Sinclair, and Zuckerman. 1993. [Optimal Speedup of Las Vegas Algorithms](http://http.icsi.berkeley.edu/ftp/global/pub/techreports/1993/tr-93-010.pdf).\n",
    "\n",
    "Lots of details (e.g., CDF, higher-order moments, optimality conditions) are worked out in the following paper.  They also account for constant restart overhead, which is a very nice detail since in practice restarts are not free.\n",
    "- van Moorsel and Katinka Wolter. 2004. [Analysis and Algorithms for Restart](https://dl.acm.org/citation.cfm?id=1026089).\n",
    "\n",
    "I will draw heavily on both this papers in this notebook."
   ]
  },
  {
   "cell_type": "markdown",
   "metadata": {},
   "source": [
    "## Simulation"
   ]
  },
  {
   "cell_type": "markdown",
   "metadata": {},
   "source": [
    "Let's set up some simple heavy-tailed distributions to play with. (A quick reference for some heavy-tailed distributions:\n",
    "[Pareto](https://en.wikipedia.org/wiki/Pareto_distribution), [Log-normal](https://en.wikipedia.org/wiki/Log-normal_distribution), [Weibull](https://en.wikipedia.org/wiki/Weibull_distribution), [Fréchet](https://en.wikipedia.org/wiki/Fr%C3%A9chet_distribution).)\n"
   ]
  },
  {
   "cell_type": "code",
   "execution_count": 2,
   "metadata": {},
   "outputs": [
    {
     "name": "stdout",
     "output_type": "stream",
     "text": [
      "average runtime: 7.38906, variance: 2926.36\n"
     ]
    }
   ],
   "source": [
    "import numpy as np, pylab as pl, scipy.stats as st\n",
    "from arsenal.maths import mean_confidence_interval\n",
    "from scipy.integrate import quad\n",
    "from arsenal import iterview\n",
    "\n",
    "# define a runtime distribution (uncomment to change the distribution we use throughout the notebook)\n",
    "d = st.lognorm(2.)\n",
    "#d = st.weibull_min(.5)  # heavy-tailed when parameter < 1\n",
    "#d = st.pareto(1.1)     # variance is infinite for < 2\n",
    "tmin = d.ppf(.01)\n",
    "tmax = d.ppf(.9)\n",
    "overhead = .2\n",
    "\n",
    "print(f'average runtime: {d.mean():g}, variance: {d.var():g}')"
   ]
  },
  {
   "cell_type": "markdown",
   "metadata": {},
   "source": [
    "### Expected capped running time\n",
    "\n",
    "The following is recursive definition of the expected cost of a policy $\\tau$ with a fixed restart-overhead penalty $\\omega \\ge 0$.  We require $\\tau \\ge \\min\\{ t \\mid p(t) > 0 \\}$ to avoid dividing by zero.\n",
    "\n",
    "$$\n",
    "T = \n",
    "\\underbrace{p(t \\le \\tau)}_{\\text{prob of done}}\n",
    "\\cdot \n",
    "\\underbrace{\\mathbb{E}_p[ t \\mid t \\le \\tau ]}_{\\text{cost given done}}    \n",
    "+\n",
    "\\underbrace{(1 - p( t \\le \\tau))}_{\\text{prob of retry}}\n",
    "\\cdot\n",
    "\\underbrace{(\\overbrace{\\tau}^{\\text{fixed cost}} \n",
    "+ \n",
    "\\overbrace{\\omega}^{\\text{fixed overhead cost}} \n",
    "+ \n",
    "\\overbrace{T}^{\\text{recursion}})}_{\\text{cost given restart}}\n",
    "$$"
   ]
  },
  {
   "cell_type": "markdown",
   "metadata": {},
   "source": [
    "Solving the linear recurrence for $T$, we obtain\n",
    "\n",
    "$$\n",
    "\\begin{align}\n",
    "T &= \n",
    "\\underbrace{\\mathbb{E}_p[t |t \\le \\tau]}_{\\text{cost given no restart}}\n",
    "+\n",
    "\\underbrace{\\frac{1-p(t \\le \\tau)}{p(t \\le \\tau)}}_{\\text{restart rate}}\n",
    "\\cdot \n",
    "\\underbrace{(\\omega + \\tau)}_{\\text{cost of each restart}}.\n",
    "\\end{align}\n",
    "$$\n",
    "\n",
    "Remarks: \n",
    " - This decision problem can be formalized as a simple two-state MDP (a terminal and non-terminal state) with actions corresponding to the threshold values.\n",
    "\n",
    " - Although the analysis below does not directly show this.  We know that all MDPs have an optimal policy that is pure and stationary (i.e., deterministic and fixed over time).  Thus, the optimal policy in our setting is a fixed threshold $\\tau^*$.\n",
    "\n",
    " - The expected value isn't the only reasonable choice of what to optimize.  It is possible to minimize higher-order moments as well as the expected value.  It is also possible to minimize quantiles and the probability of completion by a budget."
   ]
  },
  {
   "cell_type": "code",
   "execution_count": 3,
   "metadata": {},
   "outputs": [],
   "source": [
    "def T(τ, ω):\n",
    "    \"Expected runtime with restart threshold τ and overhead ω.\"\n",
    "    p = d.cdf(τ)\n",
    "    return conditional_mean(0, τ) + (1-p)/p * (τ + ω)\n",
    "\n",
    "@np.vectorize\n",
    "def conditional_mean(a, b):\n",
    "    \"E[T | a <= T < b]\"\n",
    "    return d.expect(lambda x: x, a, b, conditional=True)"
   ]
  },
  {
   "cell_type": "code",
   "execution_count": 4,
   "metadata": {},
   "outputs": [],
   "source": [
    "ts = np.linspace(tmin, tmax, 100)\n",
    "Ts = T(ts, overhead)"
   ]
  },
  {
   "cell_type": "code",
   "execution_count": 5,
   "metadata": {},
   "outputs": [
    {
     "data": {
      "image/png": "[encoded data removed]",
      "text/plain": [
       "<Figure size 432x288 with 1 Axes>"
      ]
     },
     "metadata": {
      "needs_background": "light"
     },
     "output_type": "display_data"
    }
   ],
   "source": [
    "pl.plot(ts, Ts, label=r'T(R)')\n",
    "pl.scatter(ts[Ts.argmin()], [Ts.min()], marker='o', c='r', s=75)\n",
    "\n",
    "rstar = ts[Ts.argmin()]\n",
    "pl.title(r'speedup: $\\frac{E[T]}{E[T*]}$ = %.4gx faster' % (d.mean()/Ts.min()))\n",
    "pl.axhline(d.mean(), c='r', label=r'$\\mu = T(\\infty)$')\n",
    "\n",
    "pl.xlim(ts.min(), ts.max()) ; pl.ylim(0, d.mean()*2)\n",
    "\n",
    "pl.xlim(0, ts.max()); pl.legend(loc='best'); pl.xlabel('R'); #pl.xscale('log'); pl.yscale('log');"
   ]
  },
  {
   "cell_type": "markdown",
   "metadata": {},
   "source": [
    "### Unknown runtime distribution\n",
    "\n",
    "When the runtime distribution is not known, there are still strategies which can provide acceleration.  Although, now there is an important constant factor, which might result in slower performance."
   ]
  },
  {
   "cell_type": "markdown",
   "metadata": {},
   "source": [
    "**Luby's universal strategy:** The expected runtime of the universal strategy is bounded by $\\mathcal{O}(T(\\tau^*) \\log T(\\tau^*))$."
   ]
  },
  {
   "cell_type": "code",
   "execution_count": 6,
   "metadata": {},
   "outputs": [],
   "source": [
    "def _luby():\n",
    "    \n",
    "    def h(k):\n",
    "        if k == 0:\n",
    "            yield 1\n",
    "        else:\n",
    "            for j in range(k):\n",
    "                yield from h(j)\n",
    "            yield 2 ** k\n",
    "    \n",
    "    i = 0\n",
    "    while True:\n",
    "        yield from h(i)\n",
    "        i += 1\n",
    "\n",
    "def universal(scale=1, base=2):\n",
    "    \"Generate the universal threshold sequence\"\n",
    "    for x in _luby():\n",
    "        if base != 2:\n",
    "            yield scale * base ** np.log2(x)\n",
    "        else:\n",
    "            yield scale * x\n",
    "            \n",
    "            \n",
    "from arsenal.iterextras import take        \n",
    "assert [1, \n",
    "        1, 2, \n",
    "        1, 1, 2, 4, \n",
    "        1, 1, 2, 1, 1, 2, 4, 8,\n",
    "        1] == list(take(16, _luby()))"
   ]
  },
  {
   "cell_type": "markdown",
   "metadata": {},
   "source": [
    "**Geometric sequence:** An alternative sequence, which often works better in practice, is a gemetric sequence.  Note, however, that this sequence can suffer *unbounded* regret in the worst case, unlike the universal sequence."
   ]
  },
  {
   "cell_type": "code",
   "execution_count": 7,
   "metadata": {},
   "outputs": [],
   "source": [
    "def geometric(scale, base=2.0):\n",
    "    \"Generate the geometrically increasing threshold sequence\"\n",
    "    assert base > 1\n",
    "    i = 0\n",
    "    while True:\n",
    "        i += 1\n",
    "        yield scale * base**i         "
   ]
  },
  {
   "cell_type": "markdown",
   "metadata": {},
   "source": [
    "Let's compare the strategies."
   ]
  },
  {
   "cell_type": "code",
   "execution_count": 8,
   "metadata": {},
   "outputs": [
    {
     "name": "stdout",
     "output_type": "stream",
     "text": [
      "uncapped:  7.39 1081.91\n",
      "universal: 1.59 5.99\n",
      "geometric: 2.04 12.44\n",
      "optimized: 1.42 4.43\n"
     ]
    }
   ],
   "source": [
    "from arsenal import restore_random_state\n",
    "\n",
    "def _simulate(policy, seed):\n",
    "    with restore_random_state(seed):\n",
    "        total = 0.0\n",
    "        while True:\n",
    "            r = d.rvs()\n",
    "            R = policy()           # this version uses a callable policy\n",
    "            total += min(r, R)\n",
    "            if r <= R:\n",
    "                return total\n",
    "            total += overhead\n",
    "\n",
    "M = 10000\n",
    "seeds = np.random.randint(0, 2**32, size=M).astype(int)  # use common random numbers\n",
    "U = np.array([_simulate(universal(1, 2).__next__, seed=s) for s in seeds])\n",
    "G = np.array([_simulate(geometric(1, 2).__next__, seed=s) for s in seeds])\n",
    "O = np.array([_simulate(lambda: rstar, seed=s) for s in seeds])\n",
    "D = d.rvs(M)\n",
    "\n",
    "# First and second moments\n",
    "print(f'uncapped:  {d.mean():.2f} {np.mean(D**2):.2f}')\n",
    "print(f'universal: {U.mean():.2f} {np.mean(U**2):.2f}')\n",
    "print(f'geometric: {G.mean():.2f} {np.mean(G**2):.2f}')\n",
    "print(f'optimized: {O.mean():.2f} {np.mean(O**2):.2f}')"
   ]
  },
  {
   "cell_type": "markdown",
   "metadata": {},
   "source": [
    "## Closing remarks\n",
    "\n",
    "We now see why restarts can provide useful acceleration for Las Vegas algorithms.  Hopefully, the generalization to other restartable processes is reasonably clear.  In the appendix of this article there is a lot more interesting properties and details worked out for reference.\n",
    "\n",
    "This notebook is available for download [here](https://github.com/timvieira/blog/blob/master/content/Restart-acceleration.ipynb).  \n",
    "\n",
    "I am very happy to answer questions! There are many ways to do that: comment at the end of this document, Tweet at `@xtimv`, or email `tim.f.vieira@gmail.com`.\n",
    "\n",
    "If you found this article interesting please consider sharing it on social media.  If you found this article useful please cite it\n",
    "```bibtex\n",
    "@software{vieira-restart-acceleration,\n",
    "  author = {Tim Vieira},\n",
    "  title = {The restart acceleration trick: A cure for the heavy tail of wasted time},\n",
    "  year = {2019},\n",
    "  url = {https://github.com/timvieira/blog/blob/master/content/Optimal-Restarts.ipynb}\n",
    "}\n",
    "\n",
    "\n",
    "\n",
    "```\n",
    "\n",
    "\n",
    "\n"
   ]
  },
  {
   "cell_type": "markdown",
   "metadata": {},
   "source": [
    "# Appendix\n",
    "\n",
    "In this section, I will worked out a bunch of lower-level details, which might be of interest to many readers."
   ]
  },
  {
   "cell_type": "markdown",
   "metadata": {},
   "source": [
    "### Optimizing $\\tau$\n",
    "\n",
    "In the discrete case, the optimal $\\tau$ can be computed be approximating by enumeration.\n",
    "\n",
    "In the continuous case, the optimal $\\tau$ can be computed in \"the usual way\" (i.e., by solving for $\\tau$ such that $\\frac{\\partial v}{\\partial \\tau}$ is equal to zero; and check the sign of the second derivative).  Setting the derivative equal to zero we get (after a bunch of simplification),\n",
    "\n",
    "$$\n",
    "\\frac{\\partial T}{\\partial \\tau} = 0\n",
    "\\quad\\Longleftrightarrow\\quad\n",
    "\\frac{1-p(t \\le \\tau)}{p(\\tau)} - \\omega = T\n",
    "$$"
   ]
  },
  {
   "cell_type": "markdown",
   "metadata": {},
   "source": [
    "Remarks\n",
    "\n",
    "- The optimally capped expectation (as well as higher-order moments) are always finite - even when the underlying RTD puts a positive probability on nontermination.\n",
    "\n",
    "- Optimally tuned thresholds do not always decrease the expected runtime (or higher-order moments).  They are most useful in cases where the runtime distribution has a positive probability of nontermination or, more generally, the runtime distribution is heavy-tailed.\n",
    "\n",
    "- The objective is generally nonconvex, so the gradient condition is necessary, but not sufficient."
   ]
  },
  {
   "cell_type": "markdown",
   "metadata": {},
   "source": [
    "Below, we check whether the optimality conditions that we derived are consistent with our running example. The test is an \"eyeball\" test that the optimal speedup is at the point where the $T(\\tau)$ curve (blue) and $\\frac{1}{h(t)} -\\omega = \\frac{1-p(t \\le \\tau)}{p(\\tau)} - \\omega$ (orange) intersect.  The function $h(t)$ is the ($\\omega$-shifted) [hazard-rate function](https://en.wikipedia.org/wiki/Survival_analysis#Hazard_function_and_cumulative_hazard_function)."
   ]
  },
  {
   "cell_type": "code",
   "execution_count": 9,
   "metadata": {},
   "outputs": [
    {
     "data": {
      "image/png": "[encoded data removed]",
      "text/plain": [
       "<Figure size 432x288 with 1 Axes>"
      ]
     },
     "metadata": {
      "needs_background": "light"
     },
     "output_type": "display_data"
    }
   ],
   "source": [
    "ts = np.linspace(tmin, tmax, 100)\n",
    "Ts = T(ts, overhead)\n",
    "\n",
    "H = lambda t: d.pdf(t)/d.sf(t)   # hazard-rate function\n",
    "\n",
    "pl.plot(ts, Ts, label=r'T(R)')\n",
    "pl.plot(ts, 1/H(ts)-overhead, label=r'$1/h(R)-\\omega$')     # inverse of the hazard-rate function\n",
    "pl.scatter(ts[Ts.argmin()], [Ts.min()], marker='o', c='r', s=75)\n",
    "pl.xlim(ts.min(), ts.max()) #; pl.ylim(0, m*2)\n",
    "\n",
    "rstar = ts[Ts.argmin()]\n",
    "\n",
    "pl.title(r'speedup: $\\frac{E[T]}{E[T*]}$ = %gx faster' % (d.mean()/Ts.min()))\n",
    "pl.axhline(1/H(rstar)-overhead, c='k', lw=0.5, linestyle='--', label=r'$T(R^*)$');\n",
    "pl.axhline(d.mean(), c='r', label=r'$\\mu = T(\\infty)$')\n",
    "pl.ylim(0, d.mean()*2); pl.legend(loc='best'); pl.xlabel('R'); #pl.xscale('log'); pl.yscale('log')"
   ]
  },
  {
   "cell_type": "markdown",
   "metadata": {},
   "source": [
    "### Runtime distribution conditioned on capping\n",
    "\n",
    "To study our restarting trick, it will be useful to have the CDF of the $(\\tau, \\omega)$-restarted distribution.  Later in this document, I work out the generalization of this distribution functions for non-stationary restart policies such as the universal sequence.\n",
    "\n",
    "The restarted distribution has some interesting periodic structure, which we'll discuss below."
   ]
  },
  {
   "cell_type": "markdown",
   "metadata": {},
   "source": [
    "#### CDF $F_{\\tau, \\omega}(t)$"
   ]
  },
  {
   "cell_type": "code",
   "execution_count": 10,
   "metadata": {},
   "outputs": [],
   "source": [
    "def capped_cdf(τ, ω):\n",
    "    \"Analytical CDF conditioned on a capping threshold τ and overhead ω.\"    \n",
    "    decay = d.sf(τ)\n",
    "    def F(t):\n",
    "        # Careful handling of gaps due to restarting and overhead.\n",
    "        k,r = divmod(t, τ + ω)          # number of restarts\n",
    "        if r <= τ:                      # overhead portion of the restart\n",
    "            # distribution is scaled (by d.sf(τ)**k) and clipped (r <= τ <= τ + ω)\n",
    "            return 1 - decay**k * d.sf(r)\n",
    "        else:\n",
    "            return 1 - decay**(k+1)\n",
    "    return F"
   ]
  },
  {
   "cell_type": "markdown",
   "metadata": {},
   "source": [
    "#### PDF $f_{\\tau, \\omega}(t)$"
   ]
  },
  {
   "cell_type": "code",
   "execution_count": 11,
   "metadata": {},
   "outputs": [],
   "source": [
    "def capped_pdf(τ, ω):\n",
    "    \"Analytical PDF conditioned on a capping threshold τ and overhead ω.\"\n",
    "    decay = d.sf(τ)\n",
    "    def f(t):\n",
    "        k,r = divmod(t, τ + ω)\n",
    "        if r <= τ:\n",
    "            return decay**k * d.pdf(r)            \n",
    "        else:\n",
    "            return 0\n",
    "    return f"
   ]
  },
  {
   "cell_type": "code",
   "execution_count": 12,
   "metadata": {},
   "outputs": [
    {
     "data": {
      "image/png": "[encoded data removed]",
      "text/plain": [
       "<Figure size 432x288 with 1 Axes>"
      ]
     },
     "metadata": {
      "needs_background": "light"
     },
     "output_type": "display_data"
    }
   ],
   "source": [
    "ts = np.linspace(0, d.ppf(.9), 10000)\n",
    "\n",
    "# there should be gaps in the PDF at regular intervals\n",
    "for i in range(1, int(ts.max() / (overhead + rstar))+1):\n",
    "    tt = i * (overhead + rstar)\n",
    "    pl.axvspan(tt-overhead, tt, color='k', alpha=.1)\n",
    "\n",
    "P = capped_pdf(rstar, overhead)\n",
    "ps = np.array([P(t) for t in ts])\n",
    "pl.plot(ts, ps, label=r'$f_\\tau(t)$')\n",
    "pl.legend(loc='best'); #pl.yscale('log')"
   ]
  },
  {
   "cell_type": "markdown",
   "metadata": {},
   "source": [
    "### Periodicity in the capped PDF\n",
    "\n",
    "The truncated PDF has an interesting repeating structure.  The original distribution's $\\tau$-truncated PDF repeats itself every $\\tau+\\omega$ units of time.  However, when it does repeat itself, shrinks by a factor of $F(\\tau)$ each time."
   ]
  },
  {
   "cell_type": "code",
   "execution_count": 13,
   "metadata": {},
   "outputs": [],
   "source": [
    "def truncated_pdf(d, a, b):\n",
    "    def f(t):\n",
    "        return (a <= t) * (t <= b) * d.pdf(t) / (d.cdf(b) - d.cdf(a))\n",
    "    return f"
   ]
  },
  {
   "cell_type": "code",
   "execution_count": 14,
   "metadata": {},
   "outputs": [
    {
     "data": {
      "image/png": "[encoded data removed]",
      "text/plain": [
       "<Figure size 432x288 with 1 Axes>"
      ]
     },
     "metadata": {
      "needs_background": "light"
     },
     "output_type": "display_data"
    }
   ],
   "source": [
    "period = 2\n",
    "extra = 0.25\n",
    "\n",
    "λ = (1-d.cdf(rstar))\n",
    "\n",
    "ts = np.linspace((period + 0) * (rstar + overhead) - extra, \n",
    "                 (period + 1) * (rstar + overhead) + extra, 1000)\n",
    "\n",
    "pl.plot(ts, [P(t) for t in ts], label=r'$f_\\tau(t)$', c='b', alpha=0.5, lw=2)\n",
    "\n",
    "# Show periodic self-similarity \n",
    "# the next period's in PDF is rescaled (by inverse decay) and shifted one period (rstar + overhead)\n",
    "pl.plot(ts, [1/λ * P(t + (rstar + overhead)) for t in ts],\n",
    "        c='r', alpha=.5, linestyle='--', lw=2)\n",
    "\n",
    "# Show the relationship to d's (0,τ*)-truncated PDF.\n",
    "pl.fill_between(ts, 0,  (1-λ) * λ**period * truncated_pdf(d, 0, rstar)(ts - (period)*(rstar + overhead)), \n",
    "        color='g', alpha=0.25, lw=0);"
   ]
  },
  {
   "cell_type": "markdown",
   "metadata": {},
   "source": [
    "### Capping eliminates heavy tails"
   ]
  },
  {
   "cell_type": "markdown",
   "metadata": {},
   "source": [
    "log-log survival plot:  This plot shows us if we have heavy tails: a heavy-tailed distribution will have a linear slope, and a light-tailed distribution will go to zero more quickly than linear."
   ]
  },
  {
   "cell_type": "code",
   "execution_count": 15,
   "metadata": {},
   "outputs": [
    {
     "data": {
      "image/png": "[encoded data removed]",
      "text/plain": [
       "<Figure size 432x288 with 1 Axes>"
      ]
     },
     "metadata": {
      "needs_background": "light"
     },
     "output_type": "display_data"
    }
   ],
   "source": [
    "ts = np.linspace(tmin, d.ppf(.99), 10000)\n",
    "\n",
    "pl.plot(ts, 1-d.cdf(ts), label='F(t)')\n",
    "pl.plot(ts, [1-capped_cdf(rstar, overhead)(t) for t in ts], label=r'$F_\\tau(t)$')\n",
    "pl.yscale('log'); pl.xscale('log'); pl.xlabel('t'); pl.ylabel('Survival'); pl.legend(loc='best');"
   ]
  },
  {
   "cell_type": "markdown",
   "metadata": {},
   "source": [
    "## Tests for capped CDF and PDF\n",
    "\n",
    "Get a large sample from the restart distribution."
   ]
  },
  {
   "cell_type": "code",
   "execution_count": 16,
   "metadata": {},
   "outputs": [],
   "source": [
    "def simulate(R, seeds):\n",
    "    def _simulate(R, seed):\n",
    "        \"simulate capped-restart distribution\"\n",
    "        with restore_random_state(seed):\n",
    "            total = 0.0\n",
    "            while True:\n",
    "                r = d.rvs()\n",
    "                total += min(r, R)\n",
    "                if r <= R:\n",
    "                    return total\n",
    "                total += overhead\n",
    "    return [_simulate(R, seed) for seed in seeds]"
   ]
  },
  {
   "cell_type": "code",
   "execution_count": 17,
   "metadata": {},
   "outputs": [],
   "source": [
    "M = 40000\n",
    "seeds = np.random.randint(0, 2**32, size=M).astype(int)\n",
    "S = simulate(rstar, seeds)"
   ]
  },
  {
   "cell_type": "markdown",
   "metadata": {},
   "source": [
    "Compare the analytical CDF to the empirical CDF of the big sample."
   ]
  },
  {
   "cell_type": "code",
   "execution_count": 18,
   "metadata": {},
   "outputs": [],
   "source": [
    "from arsenal.maths import cdf\n",
    "e = cdf(S)   # empirical CDF of the optimal threshold."
   ]
  },
  {
   "cell_type": "code",
   "execution_count": 19,
   "metadata": {},
   "outputs": [
    {
     "data": {
      "image/png": "[encoded data removed]",
      "text/plain": [
       "<Figure size 432x288 with 1 Axes>"
      ]
     },
     "metadata": {
      "needs_background": "light"
     },
     "output_type": "display_data"
    }
   ],
   "source": [
    "C = capped_cdf(rstar, overhead)\n",
    "\n",
    "ts = np.linspace(tmin, tmax, 1000)   # estimate gets unreliable out in the tail\n",
    "Cs = [1-C(t) for t in ts]\n",
    "\n",
    "pl.plot(ts, Cs, label=r'$F_\\tau(t)$', c='b', alpha=0.5)\n",
    "pl.plot(ts, 1-e(ts), label=r'$\\widehat{F}_\\tau(t)$', c='r', alpha=0.5)\n",
    "pl.legend(loc='best'); pl.yscale('log'); pl.xscale('log');"
   ]
  },
  {
   "cell_type": "markdown",
   "metadata": {},
   "source": [
    "Compare the analytical PDF to a histogram fit to the big sample."
   ]
  },
  {
   "cell_type": "code",
   "execution_count": 20,
   "metadata": {},
   "outputs": [
    {
     "data": {
      "image/png": "[encoded data removed]",
      "text/plain": [
       "<Figure size 432x288 with 1 Axes>"
      ]
     },
     "metadata": {
      "needs_background": "light"
     },
     "output_type": "display_data"
    }
   ],
   "source": [
    "P = capped_pdf(rstar, overhead)\n",
    "ps = [P(t) for t in ts]\n",
    "\n",
    "# Show the histogram\n",
    "pl.hist(S, bins=500, density=True, alpha=0.5)\n",
    "pl.xlim(ts.min(), ts.max())\n",
    "\n",
    "# The PDF should equal the gradient of the CDF.\n",
    "pl.plot(ts, ps, c='r', alpha=0.5);"
   ]
  },
  {
   "cell_type": "markdown",
   "metadata": {},
   "source": [
    "### Tests for truncated mean"
   ]
  },
  {
   "cell_type": "code",
   "execution_count": 21,
   "metadata": {},
   "outputs": [
    {
     "data": {
      "image/png": "[encoded data removed]",
      "text/plain": [
       "<Figure size 432x288 with 1 Axes>"
      ]
     },
     "metadata": {
      "needs_background": "light"
     },
     "output_type": "display_data"
    }
   ],
   "source": [
    "# test that the right-truncated mean estimate matches rejection sampling\n",
    "N = 10000\n",
    "S = d.rvs(N)\n",
    "\n",
    "# a more efficient estimator would generate truncated samples so all samples are 'accepted' \n",
    "def simulate_tm(t):\n",
    "    return mean_confidence_interval(S[S <= t])\n",
    "\n",
    "mi,lb,ub = zip(*[simulate_tm(t) for t in ts])\n",
    "pl.fill_between(ts, lb, ub, color='r', alpha=0.25)\n",
    "pl.plot(ts, mi, c='b', alpha=0.5, lw=2)\n",
    "pl.plot(ts, conditional_mean(0, ts), c='r', lw=2, alpha=0.5);"
   ]
  },
  {
   "cell_type": "markdown",
   "metadata": {},
   "source": [
    "### Alternative expressions for expected capped runtime $T$\n",
    "\n",
    "I have used the expression below for expected capped runtime.\n",
    "\n",
    "$$\n",
    "T(\\tau,\\omega) = \\mathbb{E}_p[t |t \\le \\tau] + \\frac{1-p(t \\le \\tau)}{p(t \\le \\tau)} \\cdot (\\omega + \\tau).\n",
    "$$\n",
    "\n",
    "However, a number of papers on the subject make use of the following equation,\n",
    "\n",
    "$$\n",
    "T(\\tau, \\omega) \n",
    "= \\frac{\\tau - \\int_{0}^\\tau F(t) \\mathrm{d} t}{ F(\\tau) } + \\omega \\frac{1-F(\\tau)}{F(\\tau)}\n",
    "$$\n",
    "\n",
    "We can also express $T$ in terms of the survival function $S(t) \\overset{\\text{def}}{=} (1-F(t))$\n",
    "\n",
    "$$\n",
    "T(\\tau, \\omega)\n",
    "= \\frac{\\int_{0}^\\tau S(t) \\mathrm{d} t}{ 1 - S(\\tau) } + \\omega \\frac{S(\\tau)}{1-S(\\tau)}\n",
    "$$"
   ]
  },
  {
   "cell_type": "code",
   "execution_count": 22,
   "metadata": {},
   "outputs": [],
   "source": [
    "@np.vectorize\n",
    "def L(τ, ω):\n",
    "    \"Equivalent expression for expected runtime given the threshold `b`.\"\n",
    "    p = d.cdf(τ)\n",
    "    return (τ - quad(lambda x: d.cdf(x), 0, τ)[0]) / p + ω * (1-p) / p\n",
    "\n",
    "ts = np.linspace(d.ppf(.05), d.ppf(.9), 100)\n",
    "\n",
    "Ts = T(ts, overhead)\n",
    "Ls = L(ts, overhead)\n",
    "\n",
    "#pl.plot(ts, Ls, label=r'$L(R)$', c='r', alpha=0.5)\n",
    "#pl.plot(ts, Ts, label=r'$T(R)$', c='b', alpha=0.5)\n",
    "\n",
    "rerr = np.abs(Ts - Ls) / np.abs(Ts)\n",
    "assert rerr.max() <= 0.01, rerr"
   ]
  },
  {
   "cell_type": "markdown",
   "metadata": {},
   "source": [
    "## PDF and CDF of non-uniform policies"
   ]
  },
  {
   "cell_type": "code",
   "execution_count": 23,
   "metadata": {},
   "outputs": [
    {
     "name": "stderr",
     "output_type": "stream",
     "text": [
      "100.0% (20000/20000) [================================================] 00:00:02\n"
     ]
    }
   ],
   "source": [
    "M = 20000\n",
    "U_args = (1, 2)\n",
    "seeds = np.random.randint(0, 2**32, size=M).astype(int)  # use common random numbers\n",
    "U = np.array([_simulate(universal(*U_args).__next__, seed=s) for s in iterview(seeds)])"
   ]
  },
  {
   "cell_type": "code",
   "execution_count": 31,
   "metadata": {},
   "outputs": [],
   "source": [
    "class CachedPolicy:\n",
    "    def __init__(self, seq, overhead, tmax):\n",
    "        self.N = 0; self.s = []; self.t = []; self.decay = []\n",
    "        T = 0; D = 1 \n",
    "        for x in seq():\n",
    "            if T > tmax: break\n",
    "            self.s.append(x)\n",
    "            self.t.append(T)\n",
    "            self.decay.append(D)\n",
    "            D *= d.sf(x)\n",
    "            T += x + overhead\n",
    "            self.N += 1\n",
    "        self.overhead = overhead\n",
    "        \n",
    "    def __call__(self, k):\n",
    "        return self.s[k]\n",
    "    \n",
    "    def invert(self, t):\n",
    "        for k in range(self.N - 1):\n",
    "            if self.t[k] <= t < self.t[k+1]:   # could use binary search for efficiency\n",
    "                return k, t - self.t[k]\n",
    "        assert False, f'failed to invert policy t={t} tmax={max(self.t)}'\n",
    "        \n",
    "    def plot(self):\n",
    "        \"Show the gaps and restart periods\"\n",
    "        for t in self.t:\n",
    "            pl.axvspan(t - self.overhead, t, color='k', alpha=.1)\n",
    "\n",
    "    def pdf(self, t):\n",
    "        \"Analytical PDF conditioned on a capping policy τ and overhead ω.\"\n",
    "        k, r = self.invert(t)\n",
    "        if r <= self.s[k] :   # Are we in an overhead gap period?\n",
    "            return self.decay[k] * d.pdf(r)            \n",
    "        else:\n",
    "            return 0\n",
    "\n",
    "    def cdf(self, t):\n",
    "        \"Analytical CDF conditioned on a capping threshold τ and overhead ω.\"    \n",
    "        k, r = self.invert(t)\n",
    "        if r <= self.s[k] :   # Are we in an overhead gap period?\n",
    "            return 1 - self.decay[k] * d.sf(r)\n",
    "        else:\n",
    "            return 1 - self.decay[k+1]"
   ]
  },
  {
   "cell_type": "code",
   "execution_count": 25,
   "metadata": {},
   "outputs": [
    {
     "data": {
      "image/png": "[encoded data removed]",
      "text/plain": [
       "<Figure size 432x288 with 1 Axes>"
      ]
     },
     "metadata": {
      "needs_background": "light"
     },
     "output_type": "display_data"
    }
   ],
   "source": [
    "ts = np.linspace(d.ppf(.01), d.ppf(.95), 3000)\n",
    "\n",
    "luby = CachedPolicy(lambda: universal(*U_args), overhead, 2*ts.max())\n",
    "\n",
    "luby.plot()\n",
    "pl.plot(ts, [luby.pdf(t) for t in ts], color='r', alpha=.5, lw=1.25)\n",
    "\n",
    "pl.hist(U, bins=200, density=True, alpha=0.5)\n",
    "pl.xlim(0, ts.max());"
   ]
  },
  {
   "cell_type": "code",
   "execution_count": 30,
   "metadata": {},
   "outputs": [
    {
     "data": {
      "image/png": "[encoded data removed]",
      "text/plain": [
       "<Figure size 432x288 with 1 Axes>"
      ]
     },
     "metadata": {
      "needs_background": "light"
     },
     "output_type": "display_data"
    }
   ],
   "source": [
    "Ucdf = cdf(U)\n",
    "\n",
    "pl.plot(ts, d.sf(ts), label='original')\n",
    "pl.plot(ts, [1-C(t) for t in ts], label='optimized')\n",
    "pl.plot(ts, [1-Ucdf(t) for t in ts], label='universal empirical', color='b', alpha=.5, linestyle=':')\n",
    "pl.plot(ts, [1-luby.cdf(t) for t in ts], color='r', alpha=.5, lw=1)\n",
    "\n",
    "pl.xscale('log'); pl.yscale('log'); pl.xlim(ts.min(), ts.max()); pl.legend(loc='best');"
   ]
  },
  {
   "cell_type": "code",
   "execution_count": null,
   "metadata": {},
   "outputs": [],
   "source": []
  }
 ],
 "metadata": {
  "kernelspec": {
   "display_name": "Python 3",
   "language": "python",
   "name": "python3"
  },
  "language_info": {
   "codemirror_mode": {
    "name": "ipython",
    "version": 3
   },
   "file_extension": ".py",
   "mimetype": "text/x-python",
   "name": "python",
   "nbconvert_exporter": "python",
   "pygments_lexer": "ipython3",
   "version": "3.7.4"
  }
 },
 "nbformat": 4,
 "nbformat_minor": 2
}
