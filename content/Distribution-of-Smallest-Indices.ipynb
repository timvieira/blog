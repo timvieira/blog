{
 "cells": [
  {
   "cell_type": "markdown",
   "id": "lesser-capital",
   "metadata": {},
   "source": [
    "# On the Distribution of the Smallest Indices "
   ]
  },
  {
   "cell_type": "markdown",
   "id": "waiting-cigarette",
   "metadata": {},
   "source": [
    "[Earlier](https://timvieira.github.io/blog/post/2021/03/18/on-the-distribution-functions-of-order-statistics/), I wrote about the distribution functions of order statistics.  Today, we will look at the distribution of rankings, $R_{(1)}, \\ldots, R_{(n)}$: the indices of the smallest to largest items. Let $Z_{1}, \\ldots, Z_{n}$ be independent random variables distribution functions $F_1, \\ldots F_n$ and density functions $f_1, \\ldots f_n$.\n",
    "\n",
    "The ranking is generated as follows:\n",
    "$$\n",
    "\\begin{align*}\n",
    "& Z_{1} \\sim F_1; \\ldots; Z_{n} \\sim F_n \\\\\n",
    "& R_{(1)}, \\ldots, R_{(n)} = \\mathrm{argsort}\\left( Z_{1}, \\ldots, Z_{n} \\right)\n",
    "\\end{align*}\n",
    "$$\n",
    "\n",
    "We will look at\n",
    "\n",
    "- the probability mass function for the (unordered) set of $K$ smallest elements, $Y_{(K)} = \\{ R_{(1)}, \\ldots, R_{(K)} \\}$\n",
    "\n",
    "- the probability that index $i$ is included in $Y_{(K)}$\n",
    "\n",
    "I care about the inclusion probabilities because they are crucial to estimation under sampling without replacement designs [(Vieira, 2017)](https://timvieira.github.io/blog/post/2017/07/03/estimating-means-in-a-finite-universe/).  Previously, I was only able to (efficiently) use noisy estimates of the inclusion probabilities.  This post develops an algorithm for efficiently approximating the inclusion probabilities of ordered sampling without replacement designs.  The algorithm will require a one-dimensional numerical quadrature, which is preferable to summing over permutations.  \n",
    "\n",
    "The probability of the set $R_{(k)}$ is useful for other estimators, e.g., [Kool+ (2020)](https://arxiv.org/abs/2002.06043).\n",
    "\n",
    "As with yesterday's post, I'd like to acknowledge that my derivation and implementation draws heavily on [Aires (1999)](https://link.springer.com/article/10.1023/A:1010091628740) and [Traat+ (2004)](https://www.sciencedirect.com/science/article/abs/pii/S0378375803001502)."
   ]
  },
  {
   "cell_type": "markdown",
   "id": "checked-kingston",
   "metadata": {},
   "source": [
    "## PMF of $Y_{(K)}$ ."
   ]
  },
  {
   "cell_type": "markdown",
   "id": "identical-provincial",
   "metadata": {},
   "source": [
    "We can also compute the probability mass function for the entire set.\n",
    "$$\n",
    "\\begin{align*}\n",
    "\\mathrm{Pr}\\left( Y_{(k)} = y \\right) \n",
    "&=\n",
    "\\int_t \\sum_{j}\n",
    "\\mathrm{Pr}\\left( Z_j = t, R_{(k)} = j, Y_{(k)} = y\\right) \\\\\n",
    "&= \n",
    "\\int_{t}\n",
    "\\sum_{j \\in y}\n",
    "f_j(t) \n",
    "\\prod_{i \\in y: i \\ne j} F_i(t) \n",
    "\\prod_{i \\in \\overline{y}: i \\ne j} (1-F_i(t)) \n",
    "\\end{align*}\n",
    "$$\n",
    "\n",
    "The sum $j \\in y$ partitions the event space by which index $j$ is the is the $k^{\\mathrm{th}}$ smallest element, $R_{(k)} = j$.  Now, with $j$ is fixed, we integrate over the density of values $t$ that $Z_j$ can take on.  Since $j$ is decided as the $k^{\\mathrm{th}}$, it must be in the set.  Additionally, we don't want to multiply the probability of $t$ twice, so we exclude $j$ for the two products.  $\\prod_{i \\in y: i \\ne j} F_i(t)$ is the probability that all $i \\in y$ that aren't $i=j$ are larger than the threshold $t$.  It is a product because they are independently drawn.  Similarly, the other product is the probability that $i \\in \\overline{y}: i \\ne j$ are all smaller.\n",
    "\n",
    "As a minor touch up on this formula to simplify implementation, we apply a change of variables $t=F^{-1}_j(u)$ to integrate over $u \\in [0, 1]$ instead of $t \\in \\mathrm{domain}(Z_i)$.  The change of variables formula means that we end up dividing by the density because of the usual \"determinant of the Jacobian thing,\" $d t / du = d/du F^{-1}_j(u) = 1/f_j(u)$ by the [inverse function theorem](https://en.wikipedia.org/wiki/Inverse_function_theorem)).  Our final result is\n",
    "$$\n",
    "\\int_0^1\n",
    "\\sum_{j \\in y}\n",
    "\\prod_{i \\in y: i \\ne j} F_i(F^{-1}_j(u)) \\prod_{i \\in \\overline{y}: i \\ne j} (1-F_i(F^{-1}_j(u))) \\, du\n",
    "$$"
   ]
  },
  {
   "cell_type": "markdown",
   "id": "confident-worse",
   "metadata": {},
   "source": [
    "Although this equation involves an integral, it is a massive speedup over summing permutations of the indices.  I should say that in some exceptional cases, the integral may simplify further. This equation is implemented and tested in the Code and Tests sections."
   ]
  },
  {
   "cell_type": "markdown",
   "id": "graduate-mailman",
   "metadata": {},
   "source": [
    "Lastly, I'd like to give a shout-out to Dan Marthaler, a helpful commenter on this blog, who pointed out that the PMF of the multivariate noncentral hypergeometric distribution would help evaluate the PMF of the Gumbel sorting scheme.  I'd also like to point out that Appendix B of [Kool+2020](https://arxiv.org/abs/2002.06043) gives a very similar derivation for the PMF of the Gumbel sorting scheme.  My version gives a generic recipe for any collection of independent variables, not just Gumbels.  The general case does not have closed-form integrals, so using numerical integration may be the best we can do."
   ]
  },
  {
   "cell_type": "markdown",
   "id": "turkish-initial",
   "metadata": {},
   "source": [
    "## Inclusion probabilities"
   ]
  },
  {
   "cell_type": "markdown",
   "id": "adolescent-college",
   "metadata": {},
   "source": [
    "We can also ask for the inclusion probability of $i$ in the bottom $k$ (i.e., the set of $k$ smallest indices).  Let $Y_{(k)} = \\{ R_{(1)}, \\ldots, R_{(n)} \\}$.\n",
    "$$\n",
    "\\mathrm{Pr}\\left( i \\in Y_{(k)} \\right) \n",
    "$$\n",
    "\n",
    "Given the distribution function for the order statistics that we worked out [yesterday](https://timvieira.github.io/blog/post/2021/03/18/on-the-distribution-functions-of-order-statistics/), the inclusion probability of each item can be computed by the following integral ([Aires, 1999](https://link.springer.com/article/10.1023/A:1010091628740), Eq. 6).\n",
    "\n",
    "$$\n",
    "\\begin{align*}\n",
    "\\mathrm{Pr}\\left( i \\in Y_{(k)} \\right) \n",
    "&= \\int_{t} f_i(t) \\, \\mathrm{Pr}\\left[ \\underset{{j \\in [n]\\smallsetminus\\{i\\}}}{\\overset{(k-1)}{\\mathrm{smallest}}}\\ Z_j > t \\right] \\\\\n",
    "&= \\int_{t} f_i(t) \\, (1-F^{[n] \\smallsetminus \\{i\\}}_{(k-1)}(t)) \n",
    "\\end{align*}\n",
    "$$\n",
    "\n",
    "where $F^{[n] \\smallsetminus \\{i\\}}_{(k-1)}$ is the distribution function of the $(k-1)^{\\mathrm{th}}$ order statistic with index $i$ removed from the set $[n]\\overset{\\mathrm{def}}{=}\\{1,\\ldots,n\\}$.  The reason for this removal is that have have forced $i$ to be in $Y_{(k)}$, so we're only sampling from what remains; namely, $(k-1)$ from the set of remaining elements $[n] \\smallsetminus \\{i\\}$.\n",
    "\n",
    "Now, integrating over the density of values $t$ of $Z_i$, we will cover all the ways that $i$ can be the $k^{\\mathrm{th}}$ smallest element.\n",
    "\n",
    "As a final step, we apply a change of variables $t = F^{-1}_i(u)$ to make the integral over $u$ from $0$ to $1$ instead of t, which ranges over the entire domain of $Z_i$.  (See the earlier explanation for with the pdf disappears.) \n",
    "$$\n",
    "= 1 - \\int_0^1 F^{[n] \\smallsetminus \\{i\\}}_{(k-1)}(F^{-1}_i(u)) \\, du\n",
    "$$"
   ]
  },
  {
   "cell_type": "markdown",
   "id": "inappropriate-scottish",
   "metadata": {},
   "source": [
    "## Code"
   ]
  },
  {
   "cell_type": "markdown",
   "id": "accessory-speech",
   "metadata": {},
   "source": [
    "Code from [order statistics post](https://timvieira.github.io/blog/post/2021/03/18/on-the-distribution-functions-of-order-statistics/)."
   ]
  },
  {
   "cell_type": "code",
   "execution_count": 1,
   "id": "joint-seven",
   "metadata": {},
   "outputs": [],
   "source": [
    "import numpy as np\n",
    "from numba import njit\n",
    "\n",
    "class Ordered:\n",
    "    def __init__(self, ds: 'list of distributions'):\n",
    "        self.ds = ds\n",
    "    def rvs(self, size=None):\n",
    "        return np.sort(self.sample_keys(size), axis=0)\n",
    "    def sample_keys(self, size=None):\n",
    "        return np.array([d.rvs(size) for d in self.ds])\n",
    "    def cdf(self, t):\n",
    "        \"Evaluate the CDF of the order statistics.\"\n",
    "        return C(np.array([d.cdf(t) for d in self.ds]))[1:]\n",
    "    def pdf(self, K, t):\n",
    "        \"Evaluate the PDF of the order statistics.\"\n",
    "        # We implement a more efficient expression than we derived above\n",
    "        # by manually applying algorithmic differentiation.\n",
    "        _, d_p = d_C(np.array([d.cdf(t) for d in self.ds]), K+1)   # off-by-one due to shift in cdf\n",
    "        return sum(d_p[n] * self.ds[n].pdf(t) for n in range(len(self.ds)))\n",
    "\n",
    "@njit    \n",
    "def B(p):\n",
    "    \"Sum of weighted sets of size == k.\"\n",
    "    q = 1-p\n",
    "    N = len(p)\n",
    "    F = np.zeros((N+1,N+1))\n",
    "    F[:,0] = 1\n",
    "    for n in range(N):\n",
    "        F[n+1,0] = q[n] * F[n,0]\n",
    "    for k in range(1, N+1):\n",
    "        for n in range(N):\n",
    "            F[n+1,k] = q[n] * F[n,k] + p[n] * F[n,k-1]\n",
    "    return F[N,:]\n",
    "\n",
    "@njit\n",
    "def C(p):\n",
    "    \"Sum of weighted sets of size >= k.\"\n",
    "    N = len(p)\n",
    "    b = B(p)\n",
    "    c = np.zeros(N+2)\n",
    "    for j in range(N, -1, -1):\n",
    "        c[j] += c[j+1]\n",
    "        c[j] += b[j]\n",
    "    return c"
   ]
  },
  {
   "cell_type": "markdown",
   "id": "modified-protest",
   "metadata": {},
   "source": [
    "New code"
   ]
  },
  {
   "cell_type": "code",
   "execution_count": 2,
   "id": "insured-permission",
   "metadata": {},
   "outputs": [],
   "source": [
    "from scipy.integrate import quadrature\n",
    "\n",
    "class Ranks:\n",
    "    \n",
    "    def __init__(self, ds: 'list of distributions'):\n",
    "        self.ds = ds\n",
    "        \n",
    "    def sample_indices(self, size=None):\n",
    "        return np.argsort(self.sample_keys(size), axis=0).T\n",
    "    \n",
    "    def sample_keys(self, size=None):\n",
    "        return np.array([d.rvs(size) for d in self.ds])\n",
    " \n",
    "    def inclusion(self, i, K):\n",
    "        \"Pr[ i \\in Y_{(K)} ]\"\n",
    "        if K == len(self.ds): return np.ones(len(self.ds))\n",
    "        target = self.ds[i].ppf\n",
    "        ds = list(self.ds); ds.pop(i)   # remove i from the ensemble\n",
    "        F = Ordered(ds).cdf\n",
    "        return 1-quadrature(lambda u: F(target(u))[K-1], 0, 1,\n",
    "                            maxiter=200, vec_func=False)[0]\n",
    "\n",
    "    def pmf(self, y):\n",
    "        \"Pr[ Y_{(K)} = y ]\"\n",
    "        return quadrature(lambda u: self._pmf(y, u), 0, 1, maxiter=200)[0]\n",
    "\n",
    "    def _pmf(self, y, u):\n",
    "        c = 0.0\n",
    "        ds = self.ds\n",
    "        N = len(ds)\n",
    "        for j in y:\n",
    "            t = ds[j].ppf(u)\n",
    "            z = 1.0\n",
    "            for i in range(N):\n",
    "                if i == j: pass\n",
    "                elif i in y:\n",
    "                    z *= ds[i].cdf(t)\n",
    "                else:\n",
    "                    z *= ds[i].sf(t)\n",
    "            c += z\n",
    "        return c"
   ]
  },
  {
   "cell_type": "markdown",
   "id": "coastal-complement",
   "metadata": {},
   "source": [
    "## Tests\n",
    "\n",
    "Below, we test out our analytical method for computing the distribution function of independent normal distributions.  The method should work for any collection of distributions in `scipy.stats`.  You can even mix and match the distribution types.  We will compare the analytical $F_{(k)}$ to the empirical distribution of $Z_{(k)}$ using a large sample size."
   ]
  },
  {
   "cell_type": "code",
   "execution_count": 3,
   "id": "surgical-fairy",
   "metadata": {},
   "outputs": [],
   "source": [
    "import scipy.stats as st, numpy as np, pylab as pl\n",
    "from numpy.random import uniform\n",
    "N = 8\n",
    "m = Ranks([st.norm(uniform(-1, 1), uniform(0, 1)) for i in range(N)])"
   ]
  },
  {
   "cell_type": "code",
   "execution_count": 4,
   "id": "solar-preview",
   "metadata": {},
   "outputs": [
    {
     "data": {
      "image/png": "[encoded data removed]",
      "text/plain": [
       "<Figure size 432x288 with 1 Axes>"
      ]
     },
     "metadata": {
      "needs_background": "light"
     },
     "output_type": "display_data"
    }
   ],
   "source": [
    "ts = np.linspace(-5, 5, 1000)\n",
    "for i in range(N):\n",
    "    pl.plot(ts, m.ds[i].pdf(ts), label=i)\n",
    "pl.legend(loc='best');"
   ]
  },
  {
   "cell_type": "code",
   "execution_count": 5,
   "id": "rotary-completion",
   "metadata": {},
   "outputs": [
    {
     "name": "stdout",
     "output_type": "stream",
     "text": [
      "N=8, K=3\n"
     ]
    }
   ],
   "source": [
    "from arsenal import ok, warn\n",
    "from collections import Counter\n",
    "\n",
    "reps = 10_000\n",
    "tol = reps**-0.5\n",
    "\n",
    "K = 3\n",
    "#K = int(np.random.randint(1, N+1))\n",
    "print(f'N={N}, K={K}')\n",
    "\n",
    "pmf_ = Counter()\n",
    "incl_ = np.zeros(N)\n",
    "Rs = m.sample_indices(reps)\n",
    "for r in range(reps):\n",
    "    x = np.zeros(N)\n",
    "    x[Rs[r, :K]] = 1\n",
    "    incl_ += x / reps\n",
    "    pmf_[frozenset(Rs[r, :K])] += 1/reps\n",
    "    \n",
    "# sanity check: incl probs for a size K sample should sum to K\n",
    "assert np.allclose(incl_.sum(), K)  "
   ]
  },
  {
   "cell_type": "markdown",
   "id": "yellow-madrid",
   "metadata": {},
   "source": [
    "Below, we compare Monte Carlo inclusion probabilities to our numerical integration approach."
   ]
  },
  {
   "cell_type": "code",
   "execution_count": 6,
   "id": "coated-prefix",
   "metadata": {},
   "outputs": [
    {
     "name": "stdout",
     "output_type": "stream",
     "text": [
      " 4: 0.9600, 0.9629 \u001b[0;32mok\u001b[0m\n",
      " 5: 0.9072, 0.9061 \u001b[0;32mok\u001b[0m\n",
      " 3: 0.8811, 0.8865 \u001b[0;32mok\u001b[0m\n",
      " 7: 0.1879, 0.1791 \u001b[0;32mok\u001b[0m\n",
      " 1: 0.0612, 0.0624 \u001b[0;32mok\u001b[0m\n",
      " 2: 0.0025, 0.0029 \u001b[0;32mok\u001b[0m\n",
      " 6: 0.0001, 0.0001 \u001b[0;32mok\u001b[0m\n",
      " 0: 0.0000, 0.0000 \u001b[0;32mok\u001b[0m\n"
     ]
    }
   ],
   "source": [
    "for i in np.argsort(-incl_):\n",
    "    have = m.inclusion(i, K)\n",
    "    print(f'{i:-2d}: {have:.4f}, {incl_[i]:.4f}', \n",
    "          ok if 0.5*abs(have - incl_[i]) <= tol else warn)"
   ]
  },
  {
   "cell_type": "markdown",
   "id": "settled-bishop",
   "metadata": {},
   "source": [
    "Below, we compare the Monte Carlo estimate of the PMF to our numerical integration approach."
   ]
  },
  {
   "cell_type": "code",
   "execution_count": 7,
   "id": "apart-radiation",
   "metadata": {},
   "outputs": [
    {
     "name": "stdout",
     "output_type": "stream",
     "text": [
      "frozenset({3, 4, 5}): 0.7524, 0.7590 \u001b[0;32mok\u001b[0m\n",
      "frozenset({3, 5, 7}): 0.0293, 0.0270 \u001b[0;32mok\u001b[0m\n",
      "frozenset({4, 5, 7}): 0.0831, 0.0772 \u001b[0;32mok\u001b[0m\n",
      "frozenset({1, 4, 5}): 0.0309, 0.0314 \u001b[0;32mok\u001b[0m\n",
      "frozenset({3, 4, 7}): 0.0714, 0.0714 \u001b[0;32mok\u001b[0m\n",
      "frozenset({1, 3, 4}): 0.0178, 0.0196 \u001b[0;32mok\u001b[0m\n",
      "frozenset({1, 3, 5}): 0.0084, 0.0079 \u001b[0;32mok\u001b[0m\n",
      "frozenset({2, 4, 5}): 0.0020, 0.0024 \u001b[0;32mok\u001b[0m\n",
      "frozenset({1, 4, 7}): 0.0019, 0.0017 \u001b[0;32mok\u001b[0m\n",
      "frozenset({1, 3, 7}): 0.0014, 0.0011 \u001b[0;32mok\u001b[0m\n",
      "frozenset({1, 5, 7}): 0.0008, 0.0007 \u001b[0;32mok\u001b[0m\n",
      "frozenset({2, 3, 5}): 0.0002, 0.0004 \u001b[0;32mok\u001b[0m\n",
      "frozenset({2, 3, 4}): 0.0001, 0.0001 \u001b[0;32mok\u001b[0m\n",
      "frozenset({4, 5, 6}): 0.0001, 0.0001 \u001b[0;32mok\u001b[0m\n"
     ]
    }
   ],
   "source": [
    "for Y in pmf_:\n",
    "    want = pmf_[Y]\n",
    "    have = m.pmf(Y)\n",
    "    print(f'{Y}: {have:.4f}, {want:.4f}', \n",
    "          ok if 0.5*abs(have - want) <= tol else warn)"
   ]
  },
  {
   "cell_type": "markdown",
   "id": "inappropriate-algeria",
   "metadata": {},
   "source": [
    "## Closing \n",
    "\n",
    "This Jupyter notebook is available for [download](https://github.com/timvieira/blog/blob/master/content/Distribution-of-Smallest-Indices.ipynb).\n",
    "\n",
    "I am very happy to answer questions! There are many ways to do that: comment at the end of this document, Tweet at [@xtimv](https://twitter.com/xtimv), or email tim.f.vieira@gmail.com.\n",
    "\n",
    "If you found this article interesting please consider sharing it on social media. If you found this article useful please cite it\n",
    "\n",
    "```bibtex\n",
    "@misc{vieira2021smallest,\n",
    "  author = {Tim Vieira},\n",
    "  title = {On the Distribution of the Smallest Indices},\n",
    "  year = {2021},\n",
    "  url = {https://timvieira.github.io/blog/post/2021/03/20/on-the-distribution-of-the-smallest-indices/}\n",
    "}\n",
    "```"
   ]
  }
 ],
 "metadata": {
  "kernelspec": {
   "display_name": "Python 3",
   "language": "python",
   "name": "python3"
  },
  "language_info": {
   "codemirror_mode": {
    "name": "ipython",
    "version": 3
   },
   "file_extension": ".py",
   "mimetype": "text/x-python",
   "name": "python",
   "nbconvert_exporter": "python",
   "pygments_lexer": "ipython3",
   "version": "3.8.8"
  }
 },
 "nbformat": 4,
 "nbformat_minor": 5
}
