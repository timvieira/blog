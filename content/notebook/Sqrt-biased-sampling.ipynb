{
 "cells": [
  {
   "cell_type": "markdown",
   "metadata": {},
   "source": [
    "# Sqrt-biased sampling\n",
    "\n",
    "This blog post accompanies the following article:\n",
    "* Tim Vieira. 2016. [Sqrt-biased sampling](http://timvieira.github.io/blog/post/2016/06/28/sqrt-biased-sampling/)."
   ]
  },
  {
   "cell_type": "markdown",
   "metadata": {},
   "source": [
    "**Setup**: For a given distribution `p` design a proposal distribution `q` to minimze the cost `c`, whcih is measure as the number of samples from `q` to find a sample from `p`.\n",
    "\n",
    "```python\n",
    "  # sample z\n",
    "  z ~ p\n",
    "  # sample from q until we get z\n",
    "  i ~ q\n",
    "  c = 1\n",
    "  while i != z:\n",
    "      i ~ q\n",
    "      c += 1    # accumulate cost\n",
    "```\n",
    "\n",
    "It turns out, rather surprisingly, that the optimal choice for `q` is not `p`. It's actually `q ∝ sqrt(p)`."
   ]
  },
  {
   "cell_type": "markdown",
   "metadata": {},
   "source": [
    "### Monte Carlo simulation"
   ]
  },
  {
   "cell_type": "code",
   "execution_count": 69,
   "metadata": {},
   "outputs": [],
   "source": [
    "def simulate(p, q, seed):\n",
    "    with restore_random_state(seed):   # so that we can use common random numbers\n",
    "        [n] = p.shape\n",
    "        z = sample(p)   # Sample z from p\n",
    "        i = sample(q)   # Propose i from q \n",
    "        c = 1\n",
    "        while i != z:   # ... until we hit z\n",
    "            i = sample(q)    # try again\n",
    "            c += 1\n",
    "        return c"
   ]
  },
  {
   "cell_type": "markdown",
   "metadata": {},
   "source": [
    "### Analytic form\n",
    "\n",
    "The analytic form for the expected number of samples"
   ]
  },
  {
   "cell_type": "code",
   "execution_count": 65,
   "metadata": {},
   "outputs": [],
   "source": [
    "def analytic(p,q):\n",
    "    return np.sum(p / q)"
   ]
  },
  {
   "cell_type": "markdown",
   "metadata": {},
   "source": [
    "## Test cases"
   ]
  },
  {
   "cell_type": "markdown",
   "metadata": {},
   "source": [
    "### Test simulation against analytical form\n",
    "\n",
    "Test that the expected number of samples matches the analytical expression on some randomly generated distributions."
   ]
  },
  {
   "cell_type": "code",
   "execution_count": 66,
   "metadata": {},
   "outputs": [
    {
     "name": "stdout",
     "output_type": "stream",
     "text": [
      "analytic: 73.819\n",
      "estimate: 75.520 ([69.970, 81.070], n=20000)\n"
     ]
    }
   ],
   "source": [
    "import numpy as np, pylab as pl, scipy as sp, scipy.stats\n",
    "from arsenal.iterview import iterview\n",
    "from arsenal.maths import restore_random_state, random_dist, sample, mean_confidence_interval\n",
    "from numpy import sqrt\n",
    "\n",
    "def test_expect_samples(n=10, R=20000):\n",
    "    \"\"\"\n",
    "    Check that our expression for expected number of samples matches the Monte Carlo\n",
    "    simulation (`simulate`).\n",
    "    \"\"\"\n",
    "\n",
    "    p = random_dist(n)\n",
    "    q = random_dist(n)\n",
    "\n",
    "    cs = []\n",
    "    for r in range(R):\n",
    "        c = simulate(p, q, seed = r)\n",
    "        cs.append(c)\n",
    "\n",
    "    print(f'analytic: {analytic(p, q):.3f}')\n",
    "\n",
    "    estimate, L, U = mean_confidence_interval(cs)\n",
    "    print('estimate: %.3f ([%.3f, %.3f], n=%s)' % (estimate, L, U, len(cs)))\n",
    "    assert L <= analytic(p, q) <= U\n",
    "\n",
    "test_expect_samples()"
   ]
  },
  {
   "cell_type": "markdown",
   "metadata": {},
   "source": [
    "### Test one-dimensional proposal optimization\n",
    "\n",
    "Compare the expected number of samples for $q \\propto p^\\alpha$ for several values of $\\alpha$. Show the analytical curve and the simulation-based curve."
   ]
  },
  {
   "cell_type": "code",
   "execution_count": 42,
   "metadata": {},
   "outputs": [
    {
     "name": "stderr",
     "output_type": "stream",
     "text": [
      "100.0% (20/20) [======================================================] 00:00:10\n"
     ]
    },
    {
     "data": {
      "image/png": "[encoded data removed]",
      "text/plain": [
       "<Figure size 432x288 with 1 Axes>"
      ]
     },
     "metadata": {
      "needs_background": "light"
     },
     "output_type": "display_data"
    }
   ],
   "source": [
    "def compare_proposals(n=10, R=5000):\n",
    "    \"Compare proposal distributions\"\n",
    "\n",
    "    # Generate P's upfront so we have paired samples for the experiments\n",
    "    # that follow. This reduces variance in the comparison.\n",
    "\n",
    "    # uniform over probability simplex\n",
    "    P = random_dist(R, n)    # R x n\n",
    "\n",
    "    data = []\n",
    "    for a in iterview(np.linspace(-.1, 1.5, 20)):\n",
    "\n",
    "        analytical = 0.0; empirical = 0.0\n",
    "        for i in range(R):\n",
    "            p = P[i]\n",
    "            q = p**a; q /= q.sum()    # annealed proposal distribution\n",
    "\n",
    "            empirical += simulate(p, q, seed = i) / R\n",
    "            analytical += analytic(p, q) / R\n",
    "\n",
    "        data.append((a, [empirical, analytical]))\n",
    "\n",
    "    xs, ys = list(zip(*data))\n",
    "    pl.plot(xs, ys)\n",
    "    pl.show()\n",
    "\n",
    "compare_proposals()"
   ]
  },
  {
   "cell_type": "markdown",
   "metadata": {},
   "source": [
    "### Test multi-dimensional proposal optimization\n",
    "\n",
    "Test the we've correctly minimized the analytical expected number of samples wrt `q`."
   ]
  },
  {
   "cell_type": "code",
   "execution_count": 67,
   "metadata": {},
   "outputs": [
    {
     "name": "stdout",
     "output_type": "stream",
     "text": [
      "error: 5.800968911652549e-07\n"
     ]
    }
   ],
   "source": [
    "from arsenal.maths import softmax\n",
    "from scipy.optimize import minimize\n",
    "\n",
    "def test_optimization(n=10):\n",
    "    p = random_dist(n)\n",
    "    \n",
    "    # Minimize with numerical optimization. \n",
    "    #   Implementation note: we're using the softmax parameterization of a distribution \n",
    "    #   to avoid handling the constraint that q is in the simplex.\n",
    "    sol = minimize(lambda w: np.sum(p/softmax(w)), x0 = np.zeros(n))\n",
    "\n",
    "    # Recover q from the softmax parameterization\n",
    "    got = softmax(sol.x)\n",
    "    \n",
    "    # The analytically optimal proposal\n",
    "    want = p**0.5 / np.sum(p**0.5)\n",
    "    \n",
    "    err = np.abs(got - want).sum()\n",
    "    assert err < 1e-5, err\n",
    "    print('error:', err)\n",
    "\n",
    "test_optimization()"
   ]
  }
 ],
 "metadata": {
  "kernelspec": {
   "display_name": "Python 3",
   "language": "python",
   "name": "python3"
  },
  "language_info": {
   "codemirror_mode": {
    "name": "ipython",
    "version": 3
   },
   "file_extension": ".py",
   "mimetype": "text/x-python",
   "name": "python",
   "nbconvert_exporter": "python",
   "pygments_lexer": "ipython3",
   "version": "3.7.4"
  }
 },
 "nbformat": 4,
 "nbformat_minor": 2
}
